{
  "nbformat": 4,
  "nbformat_minor": 0,
  "metadata": {
    "colab": {
      "name": "Taller_semana8_Paula_Alfonso.ipynb",
      "provenance": [],
      "collapsed_sections": [],
      "include_colab_link": true
    },
    "kernelspec": {
      "name": "python3",
      "display_name": "Python 3"
    },
    "language_info": {
      "name": "python"
    }
  },
  "cells": [
    {
      "cell_type": "markdown",
      "metadata": {
        "id": "view-in-github",
        "colab_type": "text"
      },
      "source": [
        "<a href=\"https://colab.research.google.com/github/pmap1986/Paula_Alfonso_KC/blob/main/Taller_semana8_Paula_Alfonso.ipynb\" target=\"_parent\"><img src=\"https://colab.research.google.com/assets/colab-badge.svg\" alt=\"Open In Colab\"/></a>"
      ]
    },
    {
      "cell_type": "markdown",
      "metadata": {
        "id": "JBEOrsmEH-jp"
      },
      "source": [
        "# 1. Conectarse al drive"
      ]
    },
    {
      "cell_type": "code",
      "metadata": {
        "colab": {
          "base_uri": "https://localhost:8080/"
        },
        "id": "vljZ51sfHpWu",
        "outputId": "5d793cee-b2db-4f33-e581-132a8aa54a99"
      },
      "source": [
        "from google.colab import drive\n",
        "import os\n",
        "drive.mount('/content/gdrive')\n",
        "# Establecer ruta de acceso en drive\n",
        "import os\n",
        "print(os.getcwd())\n",
        "os.chdir(\"/content/gdrive/My Drive\")"
      ],
      "execution_count": 38,
      "outputs": [
        {
          "output_type": "stream",
          "name": "stdout",
          "text": [
            "Drive already mounted at /content/gdrive; to attempt to forcibly remount, call drive.mount(\"/content/gdrive\", force_remount=True).\n",
            "/content/gdrive/My Drive/Mujeres digitales sena/Semana 9\n"
          ]
        }
      ]
    },
    {
      "cell_type": "code",
      "metadata": {
        "colab": {
          "base_uri": "https://localhost:8080/"
        },
        "id": "UG59Vn-tH0G9",
        "outputId": "264a5d38-3f55-4c9a-e32f-7adb24599e47"
      },
      "source": [
        "%cd '/content/gdrive/MyDrive/Mujeres digitales sena/Semana 9'"
      ],
      "execution_count": 39,
      "outputs": [
        {
          "output_type": "stream",
          "name": "stdout",
          "text": [
            "/content/gdrive/MyDrive/Mujeres digitales sena/Semana 9\n"
          ]
        }
      ]
    },
    {
      "cell_type": "markdown",
      "metadata": {
        "id": "A_HzVkfMISKa"
      },
      "source": [
        "## 1.1 Cargar paquetes"
      ]
    },
    {
      "cell_type": "code",
      "metadata": {
        "id": "fq_AClHCIQ5r"
      },
      "source": [
        "import pandas                  as pd\n",
        "from   scipy import stats\n",
        "import numpy                   as np\n",
        "import matplotlib.pyplot       as plt\n",
        "import seaborn                 as sns\n",
        "import statsmodels.formula.api as sm\n",
        "from sklearn.linear_model import LinearRegression\n",
        "from sklearn.metrics import r2_score"
      ],
      "execution_count": 40,
      "outputs": []
    },
    {
      "cell_type": "markdown",
      "metadata": {
        "id": "9l7e1FZoIDkJ"
      },
      "source": [
        "# 2. Cargar los datos (Regresion)"
      ]
    },
    {
      "cell_type": "code",
      "metadata": {
        "id": "2P94Vh8QIKcp"
      },
      "source": [
        "data_wine_1= pd.read_csv('wine_1.csv',sep=',')\n",
        "data_wine_1= data_wine_1.drop(columns=['Wine'])\n"
      ],
      "execution_count": 41,
      "outputs": []
    },
    {
      "cell_type": "code",
      "metadata": {
        "colab": {
          "base_uri": "https://localhost:8080/"
        },
        "id": "w9RuERLJZ1vx",
        "outputId": "3e49a9dc-e0e4-423e-8278-84c8bf1576e2"
      },
      "source": [
        "from google.colab import drive\n",
        "drive.mount('/content/drive')"
      ],
      "execution_count": 42,
      "outputs": [
        {
          "output_type": "stream",
          "name": "stdout",
          "text": [
            "Mounted at /content/drive\n"
          ]
        }
      ]
    },
    {
      "cell_type": "code",
      "metadata": {
        "colab": {
          "base_uri": "https://localhost:8080/",
          "height": 203
        },
        "id": "YNTlHwlIK4TI",
        "outputId": "c5467bc6-fdc3-4d33-d47c-fa37dfd5362c"
      },
      "source": [
        "data_wine_1.head()"
      ],
      "execution_count": 43,
      "outputs": [
        {
          "output_type": "execute_result",
          "data": {
            "text/html": [
              "<div>\n",
              "<style scoped>\n",
              "    .dataframe tbody tr th:only-of-type {\n",
              "        vertical-align: middle;\n",
              "    }\n",
              "\n",
              "    .dataframe tbody tr th {\n",
              "        vertical-align: top;\n",
              "    }\n",
              "\n",
              "    .dataframe thead th {\n",
              "        text-align: right;\n",
              "    }\n",
              "</style>\n",
              "<table border=\"1\" class=\"dataframe\">\n",
              "  <thead>\n",
              "    <tr style=\"text-align: right;\">\n",
              "      <th></th>\n",
              "      <th>Alcohol</th>\n",
              "      <th>Malic.acid</th>\n",
              "      <th>Ash</th>\n",
              "      <th>Acl</th>\n",
              "      <th>Mg</th>\n",
              "      <th>Phenols</th>\n",
              "      <th>Flavanoids</th>\n",
              "      <th>Nonflavanoid.phenols</th>\n",
              "      <th>Proanth</th>\n",
              "      <th>Color.int</th>\n",
              "      <th>Hue</th>\n",
              "      <th>OD</th>\n",
              "      <th>Proline</th>\n",
              "    </tr>\n",
              "  </thead>\n",
              "  <tbody>\n",
              "    <tr>\n",
              "      <th>0</th>\n",
              "      <td>14.23</td>\n",
              "      <td>1.71</td>\n",
              "      <td>2.43</td>\n",
              "      <td>15.6</td>\n",
              "      <td>127</td>\n",
              "      <td>2.80</td>\n",
              "      <td>3.06</td>\n",
              "      <td>0.28</td>\n",
              "      <td>2.29</td>\n",
              "      <td>5.64</td>\n",
              "      <td>1.04</td>\n",
              "      <td>3.92</td>\n",
              "      <td>1065</td>\n",
              "    </tr>\n",
              "    <tr>\n",
              "      <th>1</th>\n",
              "      <td>13.20</td>\n",
              "      <td>1.78</td>\n",
              "      <td>2.14</td>\n",
              "      <td>11.2</td>\n",
              "      <td>100</td>\n",
              "      <td>2.65</td>\n",
              "      <td>2.76</td>\n",
              "      <td>0.26</td>\n",
              "      <td>1.28</td>\n",
              "      <td>4.38</td>\n",
              "      <td>1.05</td>\n",
              "      <td>3.40</td>\n",
              "      <td>1050</td>\n",
              "    </tr>\n",
              "    <tr>\n",
              "      <th>2</th>\n",
              "      <td>13.16</td>\n",
              "      <td>2.36</td>\n",
              "      <td>2.67</td>\n",
              "      <td>18.6</td>\n",
              "      <td>101</td>\n",
              "      <td>2.80</td>\n",
              "      <td>3.24</td>\n",
              "      <td>0.30</td>\n",
              "      <td>2.81</td>\n",
              "      <td>5.68</td>\n",
              "      <td>1.03</td>\n",
              "      <td>3.17</td>\n",
              "      <td>1185</td>\n",
              "    </tr>\n",
              "    <tr>\n",
              "      <th>3</th>\n",
              "      <td>14.37</td>\n",
              "      <td>1.95</td>\n",
              "      <td>2.50</td>\n",
              "      <td>16.8</td>\n",
              "      <td>113</td>\n",
              "      <td>3.85</td>\n",
              "      <td>3.49</td>\n",
              "      <td>0.24</td>\n",
              "      <td>2.18</td>\n",
              "      <td>7.80</td>\n",
              "      <td>0.86</td>\n",
              "      <td>3.45</td>\n",
              "      <td>1480</td>\n",
              "    </tr>\n",
              "    <tr>\n",
              "      <th>4</th>\n",
              "      <td>13.24</td>\n",
              "      <td>2.59</td>\n",
              "      <td>2.87</td>\n",
              "      <td>21.0</td>\n",
              "      <td>118</td>\n",
              "      <td>2.80</td>\n",
              "      <td>2.69</td>\n",
              "      <td>0.39</td>\n",
              "      <td>1.82</td>\n",
              "      <td>4.32</td>\n",
              "      <td>1.04</td>\n",
              "      <td>2.93</td>\n",
              "      <td>735</td>\n",
              "    </tr>\n",
              "  </tbody>\n",
              "</table>\n",
              "</div>"
            ],
            "text/plain": [
              "   Alcohol  Malic.acid   Ash   Acl  ...  Color.int   Hue    OD  Proline\n",
              "0    14.23        1.71  2.43  15.6  ...       5.64  1.04  3.92     1065\n",
              "1    13.20        1.78  2.14  11.2  ...       4.38  1.05  3.40     1050\n",
              "2    13.16        2.36  2.67  18.6  ...       5.68  1.03  3.17     1185\n",
              "3    14.37        1.95  2.50  16.8  ...       7.80  0.86  3.45     1480\n",
              "4    13.24        2.59  2.87  21.0  ...       4.32  1.04  2.93      735\n",
              "\n",
              "[5 rows x 13 columns]"
            ]
          },
          "metadata": {},
          "execution_count": 43
        }
      ]
    },
    {
      "cell_type": "code",
      "metadata": {
        "colab": {
          "base_uri": "https://localhost:8080/"
        },
        "id": "Wn1CRnoNBH55",
        "outputId": "ebfb402c-7493-4371-8514-fc10c37b7520"
      },
      "source": [
        "data_wine_1.columns=['Alcohol','AcidoMalico','Ceniza','ACL','Mg','Fenoles','Flavonoides', 'Noflavfenoles','Taninos','Color','Hue','OD','Proline']\n",
        "data_wine_1.columns"
      ],
      "execution_count": 44,
      "outputs": [
        {
          "output_type": "execute_result",
          "data": {
            "text/plain": [
              "Index(['Alcohol', 'AcidoMalico', 'Ceniza', 'ACL', 'Mg', 'Fenoles',\n",
              "       'Flavonoides', 'Noflavfenoles', 'Taninos', 'Color', 'Hue', 'OD',\n",
              "       'Proline'],\n",
              "      dtype='object')"
            ]
          },
          "metadata": {},
          "execution_count": 44
        }
      ]
    },
    {
      "cell_type": "code",
      "metadata": {
        "colab": {
          "base_uri": "https://localhost:8080/",
          "height": 568
        },
        "id": "wGQiGAR6AIDn",
        "outputId": "e154ed66-bd6a-4821-f1a8-63588a40e9f1"
      },
      "source": [
        "model1 = 'Proline~Alcohol + Ceniza+ ACL+ Mg +Color + Hue'\n",
        "lm1 = sm.ols(formula= model1, data= data_wine_1).fit()\n",
        "lm1.summary()\n"
      ],
      "execution_count": 45,
      "outputs": [
        {
          "output_type": "execute_result",
          "data": {
            "text/html": [
              "<table class=\"simpletable\">\n",
              "<caption>OLS Regression Results</caption>\n",
              "<tr>\n",
              "  <th>Dep. Variable:</th>         <td>Proline</td>     <th>  R-squared:         </th> <td>   0.619</td>\n",
              "</tr>\n",
              "<tr>\n",
              "  <th>Model:</th>                   <td>OLS</td>       <th>  Adj. R-squared:    </th> <td>   0.606</td>\n",
              "</tr>\n",
              "<tr>\n",
              "  <th>Method:</th>             <td>Least Squares</td>  <th>  F-statistic:       </th> <td>   46.28</td>\n",
              "</tr>\n",
              "<tr>\n",
              "  <th>Date:</th>             <td>Sun, 10 Oct 2021</td> <th>  Prob (F-statistic):</th> <td>2.23e-33</td>\n",
              "</tr>\n",
              "<tr>\n",
              "  <th>Time:</th>                 <td>00:51:29</td>     <th>  Log-Likelihood:    </th> <td> -1190.1</td>\n",
              "</tr>\n",
              "<tr>\n",
              "  <th>No. Observations:</th>      <td>   178</td>      <th>  AIC:               </th> <td>   2394.</td>\n",
              "</tr>\n",
              "<tr>\n",
              "  <th>Df Residuals:</th>          <td>   171</td>      <th>  BIC:               </th> <td>   2417.</td>\n",
              "</tr>\n",
              "<tr>\n",
              "  <th>Df Model:</th>              <td>     6</td>      <th>                     </th>     <td> </td>   \n",
              "</tr>\n",
              "<tr>\n",
              "  <th>Covariance Type:</th>      <td>nonrobust</td>    <th>                     </th>     <td> </td>   \n",
              "</tr>\n",
              "</table>\n",
              "<table class=\"simpletable\">\n",
              "<tr>\n",
              "      <td></td>         <th>coef</th>     <th>std err</th>      <th>t</th>      <th>P>|t|</th>  <th>[0.025</th>    <th>0.975]</th>  \n",
              "</tr>\n",
              "<tr>\n",
              "  <th>Intercept</th> <td>-1933.8986</td> <td>  343.602</td> <td>   -5.628</td> <td> 0.000</td> <td>-2612.147</td> <td>-1255.650</td>\n",
              "</tr>\n",
              "<tr>\n",
              "  <th>Alcohol</th>   <td>  145.9742</td> <td>   25.245</td> <td>    5.782</td> <td> 0.000</td> <td>   96.142</td> <td>  195.806</td>\n",
              "</tr>\n",
              "<tr>\n",
              "  <th>Ceniza</th>    <td>  265.3759</td> <td>   70.347</td> <td>    3.772</td> <td> 0.000</td> <td>  126.516</td> <td>  404.236</td>\n",
              "</tr>\n",
              "<tr>\n",
              "  <th>ACL</th>       <td>  -32.5088</td> <td>    5.999</td> <td>   -5.419</td> <td> 0.000</td> <td>  -44.350</td> <td>  -20.668</td>\n",
              "</tr>\n",
              "<tr>\n",
              "  <th>Mg</th>        <td>    3.2818</td> <td>    1.136</td> <td>    2.888</td> <td> 0.004</td> <td>    1.039</td> <td>    5.525</td>\n",
              "</tr>\n",
              "<tr>\n",
              "  <th>Color</th>     <td>   22.4164</td> <td>    9.567</td> <td>    2.343</td> <td> 0.020</td> <td>    3.531</td> <td>   41.301</td>\n",
              "</tr>\n",
              "<tr>\n",
              "  <th>Hue</th>       <td>  363.5324</td> <td>   83.990</td> <td>    4.328</td> <td> 0.000</td> <td>  197.742</td> <td>  529.323</td>\n",
              "</tr>\n",
              "</table>\n",
              "<table class=\"simpletable\">\n",
              "<tr>\n",
              "  <th>Omnibus:</th>       <td> 1.814</td> <th>  Durbin-Watson:     </th> <td>   1.732</td>\n",
              "</tr>\n",
              "<tr>\n",
              "  <th>Prob(Omnibus):</th> <td> 0.404</td> <th>  Jarque-Bera (JB):  </th> <td>   1.831</td>\n",
              "</tr>\n",
              "<tr>\n",
              "  <th>Skew:</th>          <td> 0.240</td> <th>  Prob(JB):          </th> <td>   0.400</td>\n",
              "</tr>\n",
              "<tr>\n",
              "  <th>Kurtosis:</th>      <td> 2.870</td> <th>  Cond. No.          </th> <td>2.41e+03</td>\n",
              "</tr>\n",
              "</table><br/><br/>Warnings:<br/>[1] Standard Errors assume that the covariance matrix of the errors is correctly specified.<br/>[2] The condition number is large, 2.41e+03. This might indicate that there are<br/>strong multicollinearity or other numerical problems."
            ],
            "text/plain": [
              "<class 'statsmodels.iolib.summary.Summary'>\n",
              "\"\"\"\n",
              "                            OLS Regression Results                            \n",
              "==============================================================================\n",
              "Dep. Variable:                Proline   R-squared:                       0.619\n",
              "Model:                            OLS   Adj. R-squared:                  0.606\n",
              "Method:                 Least Squares   F-statistic:                     46.28\n",
              "Date:                Sun, 10 Oct 2021   Prob (F-statistic):           2.23e-33\n",
              "Time:                        00:51:29   Log-Likelihood:                -1190.1\n",
              "No. Observations:                 178   AIC:                             2394.\n",
              "Df Residuals:                     171   BIC:                             2417.\n",
              "Df Model:                           6                                         \n",
              "Covariance Type:            nonrobust                                         \n",
              "==============================================================================\n",
              "                 coef    std err          t      P>|t|      [0.025      0.975]\n",
              "------------------------------------------------------------------------------\n",
              "Intercept  -1933.8986    343.602     -5.628      0.000   -2612.147   -1255.650\n",
              "Alcohol      145.9742     25.245      5.782      0.000      96.142     195.806\n",
              "Ceniza       265.3759     70.347      3.772      0.000     126.516     404.236\n",
              "ACL          -32.5088      5.999     -5.419      0.000     -44.350     -20.668\n",
              "Mg             3.2818      1.136      2.888      0.004       1.039       5.525\n",
              "Color         22.4164      9.567      2.343      0.020       3.531      41.301\n",
              "Hue          363.5324     83.990      4.328      0.000     197.742     529.323\n",
              "==============================================================================\n",
              "Omnibus:                        1.814   Durbin-Watson:                   1.732\n",
              "Prob(Omnibus):                  0.404   Jarque-Bera (JB):                1.831\n",
              "Skew:                           0.240   Prob(JB):                        0.400\n",
              "Kurtosis:                       2.870   Cond. No.                     2.41e+03\n",
              "==============================================================================\n",
              "\n",
              "Warnings:\n",
              "[1] Standard Errors assume that the covariance matrix of the errors is correctly specified.\n",
              "[2] The condition number is large, 2.41e+03. This might indicate that there are\n",
              "strong multicollinearity or other numerical problems.\n",
              "\"\"\""
            ]
          },
          "metadata": {},
          "execution_count": 45
        }
      ]
    },
    {
      "cell_type": "code",
      "metadata": {
        "colab": {
          "base_uri": "https://localhost:8080/",
          "height": 611
        },
        "id": "T5W7NEHKW6KV",
        "outputId": "a767903d-360b-49af-aecd-0595dd3bf785"
      },
      "source": [
        "from matplotlib import pyplot as plt\n",
        "plt.figure(figsize=(10,10))\n",
        "plt.subplot(221, frameon=False,)\n",
        "plt.scatter(data_wine_1['Proline'],data_wine_1['Alcohol'],label=\"Alcohol\", color=\"green\")\n",
        "plt.legend()\n",
        "\n",
        "plt.subplot(222, frameon=False)\n",
        "plt.scatter(data_wine_1['Proline'],data_wine_1['Hue'],label=\"Hue\", color=\"yellow\")\n",
        "plt.legend()\n",
        "\n",
        "plt.subplot(223, frameon=False,)\n",
        "plt.scatter(data_wine_1['Proline'],data_wine_1['Ceniza'],label=\"Ceniza\", color=\"grey\")\n",
        "plt.legend()\n",
        "\n",
        "plt.subplot(224, frameon=False)\n",
        "plt.scatter(data_wine_1['Proline'],data_wine_1['ACL'],label=\"ACL\", color=\"orange\")\n",
        "plt.legend()"
      ],
      "execution_count": 75,
      "outputs": [
        {
          "output_type": "execute_result",
          "data": {
            "text/plain": [
              "<matplotlib.legend.Legend at 0x7f5940b08c10>"
            ]
          },
          "metadata": {},
          "execution_count": 75
        },
        {
          "output_type": "display_data",
          "data": {
            "image/png": "[encoded data removed]",
            "text/plain": [
              "<Figure size 720x720 with 4 Axes>"
            ]
          },
          "metadata": {
            "needs_background": "light"
          }
        }
      ]
    },
    {
      "cell_type": "markdown",
      "metadata": {
        "id": "YnFoVlt5KbjQ"
      },
      "source": [
        "# 3. Definir la matriz de diseño (X) y el vector respuesta (y)"
      ]
    },
    {
      "cell_type": "code",
      "metadata": {
        "id": "tE6YcqnuKmWv"
      },
      "source": [
        "X= data_wine_1[['Alcohol','Ceniza', 'ACL','Mg', 'Color',  'Hue']]\n",
        "y= data_wine_1['Proline'] "
      ],
      "execution_count": null,
      "outputs": []
    },
    {
      "cell_type": "code",
      "metadata": {
        "colab": {
          "base_uri": "https://localhost:8080/"
        },
        "id": "3hI6_TwFM0Mh",
        "outputId": "7cfd7e56-7678-4659-a541-360387a18121"
      },
      "source": [
        "print(X.shape)\n",
        "print(y.shape)"
      ],
      "execution_count": null,
      "outputs": [
        {
          "output_type": "stream",
          "name": "stdout",
          "text": [
            "(178, 6)\n",
            "(178,)\n"
          ]
        }
      ]
    },
    {
      "cell_type": "code",
      "metadata": {
        "colab": {
          "base_uri": "https://localhost:8080/"
        },
        "id": "KFdE2cwSMGzC",
        "outputId": "e41b3a5d-ce2a-4c12-cc1a-5c5f2a352f96"
      },
      "source": [
        "y_1= np.transpose(np.array([y])) # Llevar a un vector vertical porque estaba como un vector horizontal\n",
        "y_1.shape"
      ],
      "execution_count": null,
      "outputs": [
        {
          "output_type": "execute_result",
          "data": {
            "text/plain": [
              "(178, 1)"
            ]
          },
          "metadata": {},
          "execution_count": 33
        }
      ]
    },
    {
      "cell_type": "markdown",
      "metadata": {
        "id": "S0iLza5sIGUB"
      },
      "source": [
        "# 5. Definir muestras de entrenamiento y test"
      ]
    },
    {
      "cell_type": "code",
      "metadata": {
        "id": "Pmhm-ZCnNWHH"
      },
      "source": [
        "from sklearn.model_selection import train_test_split\n",
        "X_train, X_test, y_train, y_test = train_test_split(X, y_1, test_size=0.3, random_state=42,shuffle=True)"
      ],
      "execution_count": null,
      "outputs": []
    },
    {
      "cell_type": "code",
      "metadata": {
        "colab": {
          "base_uri": "https://localhost:8080/"
        },
        "id": "DeExo-3aNda_",
        "outputId": "600f4018-7e65-493a-f938-afbf7cd9ed13"
      },
      "source": [
        "print('Train')\n",
        "print(X_train.shape)\n",
        "print(y_train.shape)\n",
        "print('-------------')\n",
        "print('Test')\n",
        "print(X_test.shape)\n",
        "print(y_test.shape)"
      ],
      "execution_count": null,
      "outputs": [
        {
          "output_type": "stream",
          "name": "stdout",
          "text": [
            "Train\n",
            "(124, 6)\n",
            "(124, 1)\n",
            "-------------\n",
            "Test\n",
            "(54, 6)\n",
            "(54, 1)\n"
          ]
        }
      ]
    },
    {
      "cell_type": "markdown",
      "metadata": {
        "id": "CKLkgp1kOA8C"
      },
      "source": [
        "# 6. Entrenar el modelo"
      ]
    },
    {
      "cell_type": "code",
      "metadata": {
        "colab": {
          "base_uri": "https://localhost:8080/"
        },
        "id": "nzwseCiQOJ3d",
        "outputId": "c0574efd-b616-42e7-af08-52d5b2d5e23d"
      },
      "source": [
        "regressor = LinearRegression()\n",
        "regressor.fit(X_train, y_train)"
      ],
      "execution_count": null,
      "outputs": [
        {
          "output_type": "execute_result",
          "data": {
            "text/plain": [
              "LinearRegression(copy_X=True, fit_intercept=True, n_jobs=None, normalize=False)"
            ]
          },
          "metadata": {},
          "execution_count": 95
        }
      ]
    },
    {
      "cell_type": "markdown",
      "metadata": {
        "id": "oGuqakQiOS_m"
      },
      "source": [
        "# 7. Analizar los coeficientes"
      ]
    },
    {
      "cell_type": "code",
      "metadata": {
        "colab": {
          "base_uri": "https://localhost:8080/"
        },
        "id": "hw7j68BNORaO",
        "outputId": "d2e18ba1-31e4-4cd5-c3a9-05af48686fbc"
      },
      "source": [
        "#Recuperamos la intersección\n",
        "print(regressor.intercept_)"
      ],
      "execution_count": null,
      "outputs": [
        {
          "output_type": "stream",
          "name": "stdout",
          "text": [
            "[-1652.4408787]\n"
          ]
        }
      ]
    },
    {
      "cell_type": "code",
      "metadata": {
        "colab": {
          "base_uri": "https://localhost:8080/"
        },
        "id": "cjegQwiNOYS1",
        "outputId": "373b084a-e669-4817-d156-953ad4a6db49"
      },
      "source": [
        "print(regressor.coef_)"
      ],
      "execution_count": null,
      "outputs": [
        {
          "output_type": "stream",
          "name": "stdout",
          "text": [
            "[[133.46411524 218.05010824 -30.79445519   3.55893587  22.31411626\n",
            "  285.62792399]]\n"
          ]
        }
      ]
    },
    {
      "cell_type": "code",
      "metadata": {
        "colab": {
          "base_uri": "https://localhost:8080/"
        },
        "id": "7FJBEdMUO1Wq",
        "outputId": "dc2139ca-41d4-4cc5-f6e4-799367e8c115"
      },
      "source": [
        "regressor.coef_[0]"
      ],
      "execution_count": null,
      "outputs": [
        {
          "output_type": "execute_result",
          "data": {
            "text/plain": [
              "array([133.46411524, 218.05010824, -30.79445519,   3.55893587,\n",
              "        22.31411626, 285.62792399])"
            ]
          },
          "metadata": {},
          "execution_count": 39
        }
      ]
    },
    {
      "cell_type": "code",
      "metadata": {
        "colab": {
          "base_uri": "https://localhost:8080/",
          "height": 234
        },
        "id": "g2xe4tr2Qh4I",
        "outputId": "235c2f0e-a4cb-47c1-eeae-c7e682470645"
      },
      "source": [
        "pd.DataFrame(regressor.coef_[0], X.columns, columns=['Coeficiente'])"
      ],
      "execution_count": null,
      "outputs": [
        {
          "output_type": "execute_result",
          "data": {
            "text/html": [
              "<div>\n",
              "<style scoped>\n",
              "    .dataframe tbody tr th:only-of-type {\n",
              "        vertical-align: middle;\n",
              "    }\n",
              "\n",
              "    .dataframe tbody tr th {\n",
              "        vertical-align: top;\n",
              "    }\n",
              "\n",
              "    .dataframe thead th {\n",
              "        text-align: right;\n",
              "    }\n",
              "</style>\n",
              "<table border=\"1\" class=\"dataframe\">\n",
              "  <thead>\n",
              "    <tr style=\"text-align: right;\">\n",
              "      <th></th>\n",
              "      <th>Coeficiente</th>\n",
              "    </tr>\n",
              "  </thead>\n",
              "  <tbody>\n",
              "    <tr>\n",
              "      <th>Alcohol</th>\n",
              "      <td>133.464115</td>\n",
              "    </tr>\n",
              "    <tr>\n",
              "      <th>Ceniza</th>\n",
              "      <td>218.050108</td>\n",
              "    </tr>\n",
              "    <tr>\n",
              "      <th>ACL</th>\n",
              "      <td>-30.794455</td>\n",
              "    </tr>\n",
              "    <tr>\n",
              "      <th>Mg</th>\n",
              "      <td>3.558936</td>\n",
              "    </tr>\n",
              "    <tr>\n",
              "      <th>Color</th>\n",
              "      <td>22.314116</td>\n",
              "    </tr>\n",
              "    <tr>\n",
              "      <th>Hue</th>\n",
              "      <td>285.627924</td>\n",
              "    </tr>\n",
              "  </tbody>\n",
              "</table>\n",
              "</div>"
            ],
            "text/plain": [
              "         Coeficiente\n",
              "Alcohol   133.464115\n",
              "Ceniza    218.050108\n",
              "ACL       -30.794455\n",
              "Mg          3.558936\n",
              "Color      22.314116\n",
              "Hue       285.627924"
            ]
          },
          "metadata": {},
          "execution_count": 48
        }
      ]
    },
    {
      "cell_type": "markdown",
      "metadata": {
        "id": "rPhGAmkhfqxc"
      },
      "source": [
        "*   Por cada unidad que aumente en Alcohol se aumenta en 133 el Proline.\n",
        "*   Por cada unidad que aumente de Ceniza se aumenta en 218 el Proline.\n",
        "*   Por cada unidad que aumente en Hue se aumenta en 285 el Proline.\n",
        "*   Por cada unidad que aumente en ACL se disminuye en 30 el Proline.\n",
        "*   Por cada unidad que aumente en Mg se aumenta en 3.55 el Proline.\n",
        "*   Por cada unidad que aumente en Color se aumenta en 22 el Proline.\n",
        "\n",
        "En cambio es inversamente proporcional con ACL."
      ]
    },
    {
      "cell_type": "code",
      "metadata": {
        "id": "quivdDlSvzya"
      },
      "source": [
        "#El proline tiene una relacion directamente proporcional con Hue, ceniza y el Alcohol, \n",
        "#Es decir que el proline depende de estas variables y por lo tanto son importantes."
      ],
      "execution_count": null,
      "outputs": []
    },
    {
      "cell_type": "markdown",
      "metadata": {
        "id": "uYFiqRcwS23U"
      },
      "source": [
        "#  Calcular las predicciones"
      ]
    },
    {
      "cell_type": "code",
      "metadata": {
        "id": "gUZGWsB2S6b5"
      },
      "source": [
        "#Hacemos nuestras predicciones\n",
        "y_pred = regressor.predict(X_test)\n"
      ],
      "execution_count": null,
      "outputs": []
    },
    {
      "cell_type": "code",
      "metadata": {
        "colab": {
          "base_uri": "https://localhost:8080/"
        },
        "id": "Cp4ax-6dTA0P",
        "outputId": "36aada43-3d5b-420e-8509-19b2f60dc863"
      },
      "source": [
        "from sklearn import metrics \n",
        "print('Mean Absolute Error:', metrics.mean_absolute_error(y_test, y_pred))\n",
        "print('Mean Squared Error:', metrics.mean_squared_error(y_test, y_pred))\n",
        "print('Root Mean Squared Error:', np.sqrt(metrics.mean_squared_error(y_test, y_pred)))"
      ],
      "execution_count": null,
      "outputs": [
        {
          "output_type": "stream",
          "name": "stdout",
          "text": [
            "Mean Absolute Error: 166.96849317542745\n",
            "Mean Squared Error: 41444.545030157264\n",
            "Root Mean Squared Error: 203.57933350455116\n"
          ]
        }
      ]
    },
    {
      "cell_type": "code",
      "metadata": {
        "id": "NQIq6_ejfPpA"
      },
      "source": [
        ""
      ],
      "execution_count": null,
      "outputs": []
    },
    {
      "cell_type": "markdown",
      "metadata": {
        "id": "ERju3k6rVNwU"
      },
      "source": [
        "# Clasificacion (Breast_Cancer)"
      ]
    },
    {
      "cell_type": "markdown",
      "metadata": {
        "id": "DFGYuxhDfsH6"
      },
      "source": [
        "$\\color{purple}{\\text{Tarea parte 2: clasificacion, pueden elegir SVM, Regresion logistica, KNN, Arbol de Decision o Random Forest}}$\n",
        "\n",
        "\n",
        "\n",
        "1) ID number\n",
        "\n",
        "2) Diagnosis (M = malignant, B = benign) Ten real-valued features are computed for each cell nucleus:\n",
        "\n",
        "a) radius (mean of distances from center to points on the perimeter)\n",
        "\n",
        "b) texture (standard deviation of gray-scale values)\n",
        "\n",
        "c) perimeter\n",
        "\n",
        "d) area\n",
        "\n",
        "e) smoothness (local variation in radius lengths)\n",
        "\n",
        "f) compactness (perimeter^2 / area - 1.0)\n",
        "\n",
        "g) concavity (severity of concave portions of the contour)\n",
        "\n",
        "h) concave points (number of concave portions of the contour)\n",
        "\n",
        "i) symmetry\n",
        "\n",
        "j) fractal dimension (\"coastline approximation\" - 1)"
      ]
    },
    {
      "cell_type": "code",
      "metadata": {
        "colab": {
          "base_uri": "https://localhost:8080/",
          "height": 240
        },
        "id": "Q_MdQyDPVk_X",
        "outputId": "8e51dbd9-76b2-4985-8e65-8b8aa146a18d"
      },
      "source": [
        "data_cancermama= pd.read_csv('Breast_cancer_1.csv',sep=',')\n",
        "data_cancermama.head()"
      ],
      "execution_count": 4,
      "outputs": [
        {
          "output_type": "execute_result",
          "data": {
            "text/html": [
              "<div>\n",
              "<style scoped>\n",
              "    .dataframe tbody tr th:only-of-type {\n",
              "        vertical-align: middle;\n",
              "    }\n",
              "\n",
              "    .dataframe tbody tr th {\n",
              "        vertical-align: top;\n",
              "    }\n",
              "\n",
              "    .dataframe thead th {\n",
              "        text-align: right;\n",
              "    }\n",
              "</style>\n",
              "<table border=\"1\" class=\"dataframe\">\n",
              "  <thead>\n",
              "    <tr style=\"text-align: right;\">\n",
              "      <th></th>\n",
              "      <th>id</th>\n",
              "      <th>diagnosis</th>\n",
              "      <th>radius_mean</th>\n",
              "      <th>texture_mean</th>\n",
              "      <th>perimeter_mean</th>\n",
              "      <th>area_mean</th>\n",
              "      <th>smoothness_mean</th>\n",
              "      <th>compactness_mean</th>\n",
              "      <th>concavity_mean</th>\n",
              "      <th>concave points_mean</th>\n",
              "      <th>symmetry_mean</th>\n",
              "      <th>fractal_dimension_mean</th>\n",
              "      <th>radius_se</th>\n",
              "      <th>texture_se</th>\n",
              "      <th>perimeter_se</th>\n",
              "      <th>area_se</th>\n",
              "      <th>smoothness_se</th>\n",
              "      <th>compactness_se</th>\n",
              "      <th>concavity_se</th>\n",
              "      <th>concave points_se</th>\n",
              "      <th>symmetry_se</th>\n",
              "      <th>fractal_dimension_se</th>\n",
              "      <th>radius_worst</th>\n",
              "      <th>texture_worst</th>\n",
              "      <th>perimeter_worst</th>\n",
              "      <th>area_worst</th>\n",
              "      <th>smoothness_worst</th>\n",
              "      <th>compactness_worst</th>\n",
              "      <th>concavity_worst</th>\n",
              "      <th>concave points_worst</th>\n",
              "      <th>symmetry_worst</th>\n",
              "      <th>fractal_dimension_worst</th>\n",
              "      <th>Unnamed: 32</th>\n",
              "    </tr>\n",
              "  </thead>\n",
              "  <tbody>\n",
              "    <tr>\n",
              "      <th>0</th>\n",
              "      <td>842302</td>\n",
              "      <td>M</td>\n",
              "      <td>17.99</td>\n",
              "      <td>10.38</td>\n",
              "      <td>122.80</td>\n",
              "      <td>1001.0</td>\n",
              "      <td>0.11840</td>\n",
              "      <td>0.27760</td>\n",
              "      <td>0.3001</td>\n",
              "      <td>0.14710</td>\n",
              "      <td>0.2419</td>\n",
              "      <td>0.07871</td>\n",
              "      <td>1.0950</td>\n",
              "      <td>0.9053</td>\n",
              "      <td>8.589</td>\n",
              "      <td>153.40</td>\n",
              "      <td>0.006399</td>\n",
              "      <td>0.04904</td>\n",
              "      <td>0.05373</td>\n",
              "      <td>0.01587</td>\n",
              "      <td>0.03003</td>\n",
              "      <td>0.006193</td>\n",
              "      <td>25.38</td>\n",
              "      <td>17.33</td>\n",
              "      <td>184.60</td>\n",
              "      <td>2019.0</td>\n",
              "      <td>0.1622</td>\n",
              "      <td>0.6656</td>\n",
              "      <td>0.7119</td>\n",
              "      <td>0.2654</td>\n",
              "      <td>0.4601</td>\n",
              "      <td>0.11890</td>\n",
              "      <td>NaN</td>\n",
              "    </tr>\n",
              "    <tr>\n",
              "      <th>1</th>\n",
              "      <td>842517</td>\n",
              "      <td>M</td>\n",
              "      <td>20.57</td>\n",
              "      <td>17.77</td>\n",
              "      <td>132.90</td>\n",
              "      <td>1326.0</td>\n",
              "      <td>0.08474</td>\n",
              "      <td>0.07864</td>\n",
              "      <td>0.0869</td>\n",
              "      <td>0.07017</td>\n",
              "      <td>0.1812</td>\n",
              "      <td>0.05667</td>\n",
              "      <td>0.5435</td>\n",
              "      <td>0.7339</td>\n",
              "      <td>3.398</td>\n",
              "      <td>74.08</td>\n",
              "      <td>0.005225</td>\n",
              "      <td>0.01308</td>\n",
              "      <td>0.01860</td>\n",
              "      <td>0.01340</td>\n",
              "      <td>0.01389</td>\n",
              "      <td>0.003532</td>\n",
              "      <td>24.99</td>\n",
              "      <td>23.41</td>\n",
              "      <td>158.80</td>\n",
              "      <td>1956.0</td>\n",
              "      <td>0.1238</td>\n",
              "      <td>0.1866</td>\n",
              "      <td>0.2416</td>\n",
              "      <td>0.1860</td>\n",
              "      <td>0.2750</td>\n",
              "      <td>0.08902</td>\n",
              "      <td>NaN</td>\n",
              "    </tr>\n",
              "    <tr>\n",
              "      <th>2</th>\n",
              "      <td>84300903</td>\n",
              "      <td>M</td>\n",
              "      <td>19.69</td>\n",
              "      <td>21.25</td>\n",
              "      <td>130.00</td>\n",
              "      <td>1203.0</td>\n",
              "      <td>0.10960</td>\n",
              "      <td>0.15990</td>\n",
              "      <td>0.1974</td>\n",
              "      <td>0.12790</td>\n",
              "      <td>0.2069</td>\n",
              "      <td>0.05999</td>\n",
              "      <td>0.7456</td>\n",
              "      <td>0.7869</td>\n",
              "      <td>4.585</td>\n",
              "      <td>94.03</td>\n",
              "      <td>0.006150</td>\n",
              "      <td>0.04006</td>\n",
              "      <td>0.03832</td>\n",
              "      <td>0.02058</td>\n",
              "      <td>0.02250</td>\n",
              "      <td>0.004571</td>\n",
              "      <td>23.57</td>\n",
              "      <td>25.53</td>\n",
              "      <td>152.50</td>\n",
              "      <td>1709.0</td>\n",
              "      <td>0.1444</td>\n",
              "      <td>0.4245</td>\n",
              "      <td>0.4504</td>\n",
              "      <td>0.2430</td>\n",
              "      <td>0.3613</td>\n",
              "      <td>0.08758</td>\n",
              "      <td>NaN</td>\n",
              "    </tr>\n",
              "    <tr>\n",
              "      <th>3</th>\n",
              "      <td>84348301</td>\n",
              "      <td>M</td>\n",
              "      <td>11.42</td>\n",
              "      <td>20.38</td>\n",
              "      <td>77.58</td>\n",
              "      <td>386.1</td>\n",
              "      <td>0.14250</td>\n",
              "      <td>0.28390</td>\n",
              "      <td>0.2414</td>\n",
              "      <td>0.10520</td>\n",
              "      <td>0.2597</td>\n",
              "      <td>0.09744</td>\n",
              "      <td>0.4956</td>\n",
              "      <td>1.1560</td>\n",
              "      <td>3.445</td>\n",
              "      <td>27.23</td>\n",
              "      <td>0.009110</td>\n",
              "      <td>0.07458</td>\n",
              "      <td>0.05661</td>\n",
              "      <td>0.01867</td>\n",
              "      <td>0.05963</td>\n",
              "      <td>0.009208</td>\n",
              "      <td>14.91</td>\n",
              "      <td>26.50</td>\n",
              "      <td>98.87</td>\n",
              "      <td>567.7</td>\n",
              "      <td>0.2098</td>\n",
              "      <td>0.8663</td>\n",
              "      <td>0.6869</td>\n",
              "      <td>0.2575</td>\n",
              "      <td>0.6638</td>\n",
              "      <td>0.17300</td>\n",
              "      <td>NaN</td>\n",
              "    </tr>\n",
              "    <tr>\n",
              "      <th>4</th>\n",
              "      <td>84358402</td>\n",
              "      <td>M</td>\n",
              "      <td>20.29</td>\n",
              "      <td>14.34</td>\n",
              "      <td>135.10</td>\n",
              "      <td>1297.0</td>\n",
              "      <td>0.10030</td>\n",
              "      <td>0.13280</td>\n",
              "      <td>0.1980</td>\n",
              "      <td>0.10430</td>\n",
              "      <td>0.1809</td>\n",
              "      <td>0.05883</td>\n",
              "      <td>0.7572</td>\n",
              "      <td>0.7813</td>\n",
              "      <td>5.438</td>\n",
              "      <td>94.44</td>\n",
              "      <td>0.011490</td>\n",
              "      <td>0.02461</td>\n",
              "      <td>0.05688</td>\n",
              "      <td>0.01885</td>\n",
              "      <td>0.01756</td>\n",
              "      <td>0.005115</td>\n",
              "      <td>22.54</td>\n",
              "      <td>16.67</td>\n",
              "      <td>152.20</td>\n",
              "      <td>1575.0</td>\n",
              "      <td>0.1374</td>\n",
              "      <td>0.2050</td>\n",
              "      <td>0.4000</td>\n",
              "      <td>0.1625</td>\n",
              "      <td>0.2364</td>\n",
              "      <td>0.07678</td>\n",
              "      <td>NaN</td>\n",
              "    </tr>\n",
              "  </tbody>\n",
              "</table>\n",
              "</div>"
            ],
            "text/plain": [
              "         id diagnosis  ...  fractal_dimension_worst  Unnamed: 32\n",
              "0    842302         M  ...                  0.11890          NaN\n",
              "1    842517         M  ...                  0.08902          NaN\n",
              "2  84300903         M  ...                  0.08758          NaN\n",
              "3  84348301         M  ...                  0.17300          NaN\n",
              "4  84358402         M  ...                  0.07678          NaN\n",
              "\n",
              "[5 rows x 33 columns]"
            ]
          },
          "metadata": {},
          "execution_count": 4
        }
      ]
    },
    {
      "cell_type": "code",
      "metadata": {
        "colab": {
          "base_uri": "https://localhost:8080/",
          "height": 621
        },
        "id": "kgCUUBWawXhP",
        "outputId": "f8b4a782-e506-45ed-afd7-1aa4103619b6"
      },
      "source": [
        "plt.figure(figsize=(10,10))\n",
        "plt.subplot(221)\n",
        "sns.boxplot(x='diagnosis', y = 'radius_mean', data = data_cancermama) \n",
        "plt.title(\"radio vs diagnostico\");\n",
        "plt.subplot(222)\n",
        "sns.boxplot(x='diagnosis', y = 'compactness_mean', data = data_cancermama) \n",
        "plt.title(\"densidad vs diagnostico\");\n",
        "plt.subplot(223)\n",
        "sns.boxplot(x='diagnosis', y = 'smoothness_mean', data = data_cancermama) \n",
        "plt.title(\"suavidad vs diagnostico\");\n",
        "plt.subplot(224)\n",
        "sns.boxplot(x='diagnosis', y = 'concavity_mean', data = data_cancermama) \n",
        "plt.title(\"Concavidad vs diagnostico\");\n"
      ],
      "execution_count": 70,
      "outputs": [
        {
          "output_type": "display_data",
          "data": {
            "image/png": "[encoded data removed]",
            "text/plain": [
              "<Figure size 720x720 with 4 Axes>"
            ]
          },
          "metadata": {
            "needs_background": "light"
          }
        }
      ]
    },
    {
      "cell_type": "markdown",
      "metadata": {
        "id": "41Cg9kmBWgei"
      },
      "source": [
        "# Definir matriz de diseño y vector y"
      ]
    },
    {
      "cell_type": "code",
      "metadata": {
        "id": "HLevqL1oWi72"
      },
      "source": [
        "X=data_cancermama[['radius_mean', 'texture_mean', 'perimeter_mean',\n",
        "       'area_mean', 'smoothness_mean', 'compactness_mean', 'concavity_mean',\n",
        "       'concave points_mean', 'symmetry_mean', 'fractal_dimension_mean',\n",
        "       'radius_se', 'texture_se', 'perimeter_se', 'area_se', 'smoothness_se',\n",
        "       'compactness_se', 'concavity_se', 'concave points_se', 'symmetry_se',\n",
        "       'fractal_dimension_se', 'radius_worst', 'texture_worst',\n",
        "       'perimeter_worst', 'area_worst', 'smoothness_worst',\n",
        "       'compactness_worst', 'concavity_worst', 'concave points_worst',\n",
        "       'symmetry_worst', 'fractal_dimension_worst']]\n",
        "\n",
        "y= data_cancermama['diagnosis'] "
      ],
      "execution_count": 11,
      "outputs": []
    },
    {
      "cell_type": "markdown",
      "metadata": {
        "id": "VNj-Ha_fWzKt"
      },
      "source": [
        "# Normalizar los datos"
      ]
    },
    {
      "cell_type": "code",
      "metadata": {
        "id": "Hg1lIaRsW0Zx"
      },
      "source": [
        "from sklearn.preprocessing import StandardScaler\n",
        "X_n= StandardScaler().fit_transform(X)"
      ],
      "execution_count": 12,
      "outputs": []
    },
    {
      "cell_type": "code",
      "metadata": {
        "colab": {
          "base_uri": "https://localhost:8080/"
        },
        "id": "xGbk1U-LXc0b",
        "outputId": "b401526e-d855-4047-e5c0-7cd763c07560"
      },
      "source": [
        "X_n"
      ],
      "execution_count": 13,
      "outputs": [
        {
          "output_type": "execute_result",
          "data": {
            "text/plain": [
              "array([[ 1.09706398, -2.07333501,  1.26993369, ...,  2.29607613,\n",
              "         2.75062224,  1.93701461],\n",
              "       [ 1.82982061, -0.35363241,  1.68595471, ...,  1.0870843 ,\n",
              "        -0.24388967,  0.28118999],\n",
              "       [ 1.57988811,  0.45618695,  1.56650313, ...,  1.95500035,\n",
              "         1.152255  ,  0.20139121],\n",
              "       ...,\n",
              "       [ 0.70228425,  2.0455738 ,  0.67267578, ...,  0.41406869,\n",
              "        -1.10454895, -0.31840916],\n",
              "       [ 1.83834103,  2.33645719,  1.98252415, ...,  2.28998549,\n",
              "         1.91908301,  2.21963528],\n",
              "       [-1.80840125,  1.22179204, -1.81438851, ..., -1.74506282,\n",
              "        -0.04813821, -0.75120669]])"
            ]
          },
          "metadata": {},
          "execution_count": 13
        }
      ]
    },
    {
      "cell_type": "markdown",
      "metadata": {
        "id": "V63scaB5W-Gp"
      },
      "source": [
        "# Separar en train y test"
      ]
    },
    {
      "cell_type": "code",
      "metadata": {
        "id": "H1GiAGb7W4Il"
      },
      "source": [
        "from sklearn.model_selection import train_test_split\n",
        "X_train, X_test, y_train, y_test = train_test_split(X_n, y, test_size=0.25, random_state=42,shuffle=True)"
      ],
      "execution_count": 14,
      "outputs": []
    },
    {
      "cell_type": "markdown",
      "metadata": {
        "id": "odEyR3voXHdm"
      },
      "source": [
        "# Entrenar el modelo"
      ]
    },
    {
      "cell_type": "code",
      "metadata": {
        "colab": {
          "base_uri": "https://localhost:8080/"
        },
        "id": "qwCpeXV4XI7M",
        "outputId": "2008f6d5-3885-4861-fd5f-cd3805b3ce28"
      },
      "source": [
        "from sklearn.linear_model import LogisticRegression\n",
        "# Paso 4: Creamos una instancia de la Regresión Logística\n",
        "regresion_logistica = LogisticRegression()\n",
        "# Paso 5: Entrenamos la regresión logística con los datos de entrenamiento\n",
        "regresion_logistica.fit(X_train,y_train)"
      ],
      "execution_count": 15,
      "outputs": [
        {
          "output_type": "execute_result",
          "data": {
            "text/plain": [
              "LogisticRegression(C=1.0, class_weight=None, dual=False, fit_intercept=True,\n",
              "                   intercept_scaling=1, l1_ratio=None, max_iter=100,\n",
              "                   multi_class='auto', n_jobs=None, penalty='l2',\n",
              "                   random_state=None, solver='lbfgs', tol=0.0001, verbose=0,\n",
              "                   warm_start=False)"
            ]
          },
          "metadata": {},
          "execution_count": 15
        }
      ]
    },
    {
      "cell_type": "markdown",
      "metadata": {
        "id": "Il4jC5paXvLJ"
      },
      "source": [
        "# Sacar las predicciones"
      ]
    },
    {
      "cell_type": "code",
      "metadata": {
        "colab": {
          "base_uri": "https://localhost:8080/"
        },
        "id": "tcpn5_NUXwmQ",
        "outputId": "36fe6530-8b74-479a-f9ad-31bb7910a18a"
      },
      "source": [
        "prediccion = regresion_logistica.predict(X_test)\n",
        "print(prediccion)"
      ],
      "execution_count": 16,
      "outputs": [
        {
          "output_type": "stream",
          "name": "stdout",
          "text": [
            "['B' 'M' 'M' 'B' 'B' 'M' 'M' 'M' 'B' 'B' 'B' 'M' 'B' 'M' 'B' 'M' 'B' 'B'\n",
            " 'B' 'M' 'B' 'B' 'M' 'B' 'B' 'B' 'B' 'B' 'B' 'M' 'B' 'B' 'B' 'B' 'B' 'B'\n",
            " 'M' 'B' 'M' 'B' 'B' 'M' 'B' 'B' 'B' 'B' 'B' 'B' 'B' 'B' 'M' 'M' 'B' 'B'\n",
            " 'B' 'B' 'B' 'M' 'M' 'B' 'B' 'M' 'M' 'B' 'B' 'B' 'M' 'M' 'B' 'B' 'M' 'M'\n",
            " 'B' 'M' 'B' 'B' 'B' 'M' 'B' 'B' 'M' 'B' 'M' 'M' 'M' 'M' 'M' 'M' 'B' 'B'\n",
            " 'B' 'B' 'B' 'B' 'B' 'B' 'M' 'M' 'B' 'M' 'M' 'B' 'M' 'M' 'B' 'B' 'B' 'M'\n",
            " 'B' 'B' 'M' 'B' 'M' 'M' 'M' 'M' 'B' 'B' 'B' 'M' 'B' 'B' 'B' 'M' 'B' 'M'\n",
            " 'M' 'B' 'B' 'M' 'M' 'M' 'B' 'B' 'B' 'M' 'B' 'B' 'B' 'M' 'B' 'M' 'B']\n"
          ]
        }
      ]
    },
    {
      "cell_type": "code",
      "metadata": {
        "colab": {
          "base_uri": "https://localhost:8080/"
        },
        "id": "1OXTmfS_X09X",
        "outputId": "73d75c36-b4e6-445a-a0d2-f774254e6ef3"
      },
      "source": [
        "probabilidades_prediccion = regresion_logistica.predict_proba(X_test)\n",
        "print(probabilidades_prediccion)"
      ],
      "execution_count": 17,
      "outputs": [
        {
          "output_type": "stream",
          "name": "stdout",
          "text": [
            "[[8.73833012e-01 1.26166988e-01]\n",
            " [1.14078910e-05 9.99988592e-01]\n",
            " [2.88081498e-03 9.97119185e-01]\n",
            " [9.99438122e-01 5.61877674e-04]\n",
            " [9.99924704e-01 7.52955941e-05]\n",
            " [1.54535940e-10 1.00000000e+00]\n",
            " [2.58104094e-09 9.99999997e-01]\n",
            " [3.81828753e-02 9.61817125e-01]\n",
            " [5.86600100e-01 4.13399900e-01]\n",
            " [9.99310094e-01 6.89906099e-04]\n",
            " [9.46354517e-01 5.36454827e-02]\n",
            " [1.46920179e-02 9.85307982e-01]\n",
            " [9.93841031e-01 6.15896876e-03]\n",
            " [1.43912656e-01 8.56087344e-01]\n",
            " [9.97981069e-01 2.01893087e-03]\n",
            " [1.91127033e-03 9.98088730e-01]\n",
            " [9.98017107e-01 1.98289315e-03]\n",
            " [9.99990679e-01 9.32088200e-06]\n",
            " [9.99999181e-01 8.19238945e-07]\n",
            " [1.38667114e-06 9.99998613e-01]\n",
            " [9.17823406e-01 8.21765942e-02]\n",
            " [9.89377836e-01 1.06221641e-02]\n",
            " [6.23060581e-09 9.99999994e-01]\n",
            " [9.99923616e-01 7.63840382e-05]\n",
            " [9.98924684e-01 1.07531570e-03]\n",
            " [9.99555085e-01 4.44915169e-04]\n",
            " [9.98654157e-01 1.34584347e-03]\n",
            " [9.92741469e-01 7.25853065e-03]\n",
            " [9.96656769e-01 3.34323101e-03]\n",
            " [1.20770947e-05 9.99987923e-01]\n",
            " [9.99276153e-01 7.23847104e-04]\n",
            " [9.99831758e-01 1.68241548e-04]\n",
            " [9.98215014e-01 1.78498597e-03]\n",
            " [9.93832833e-01 6.16716721e-03]\n",
            " [9.99849436e-01 1.50563604e-04]\n",
            " [9.97258016e-01 2.74198442e-03]\n",
            " [7.19902692e-02 9.28009731e-01]\n",
            " [9.96754348e-01 3.24565222e-03]\n",
            " [1.05043480e-04 9.99894957e-01]\n",
            " [9.56583285e-01 4.34167148e-02]\n",
            " [9.99909784e-01 9.02159268e-05]\n",
            " [3.88742144e-04 9.99611258e-01]\n",
            " [9.96139428e-01 3.86057159e-03]\n",
            " [9.98873381e-01 1.12661865e-03]\n",
            " [9.79853660e-01 2.01463400e-02]\n",
            " [9.21250152e-01 7.87498484e-02]\n",
            " [9.99484617e-01 5.15382949e-04]\n",
            " [9.99708470e-01 2.91529591e-04]\n",
            " [9.63164474e-01 3.68355255e-02]\n",
            " [9.98875907e-01 1.12409305e-03]\n",
            " [1.20273598e-04 9.99879726e-01]\n",
            " [7.00288292e-08 9.99999930e-01]\n",
            " [7.01982962e-01 2.98017038e-01]\n",
            " [9.80070725e-01 1.99292747e-02]\n",
            " [9.99977496e-01 2.25039686e-05]\n",
            " [9.90473041e-01 9.52695914e-03]\n",
            " [9.99875620e-01 1.24379646e-04]\n",
            " [1.93496330e-11 1.00000000e+00]\n",
            " [1.38752509e-01 8.61247491e-01]\n",
            " [9.99826065e-01 1.73934668e-04]\n",
            " [9.94116064e-01 5.88393643e-03]\n",
            " [5.33807296e-07 9.99999466e-01]\n",
            " [1.65571978e-09 9.99999998e-01]\n",
            " [9.70464706e-01 2.95352939e-02]\n",
            " [9.99268002e-01 7.31997954e-04]\n",
            " [8.56610540e-01 1.43389460e-01]\n",
            " [1.35479025e-05 9.99986452e-01]\n",
            " [2.60046007e-09 9.99999997e-01]\n",
            " [9.99085186e-01 9.14813654e-04]\n",
            " [9.73037208e-01 2.69627921e-02]\n",
            " [1.31325620e-03 9.98686744e-01]\n",
            " [2.06501675e-03 9.97934983e-01]\n",
            " [9.97595440e-01 2.40455952e-03]\n",
            " [4.31041174e-03 9.95689588e-01]\n",
            " [9.99949675e-01 5.03254983e-05]\n",
            " [9.87592138e-01 1.24078616e-02]\n",
            " [9.83202590e-01 1.67974098e-02]\n",
            " [4.55032502e-01 5.44967498e-01]\n",
            " [9.99969566e-01 3.04336007e-05]\n",
            " [9.81238523e-01 1.87614769e-02]\n",
            " [4.79806741e-03 9.95201933e-01]\n",
            " [9.99938867e-01 6.11330812e-05]\n",
            " [1.89884200e-01 8.10115800e-01]\n",
            " [7.17514292e-09 9.99999993e-01]\n",
            " [5.25763221e-03 9.94742368e-01]\n",
            " [1.30993930e-03 9.98690061e-01]\n",
            " [1.36871692e-04 9.99863128e-01]\n",
            " [2.16408319e-04 9.99783592e-01]\n",
            " [9.99799317e-01 2.00683355e-04]\n",
            " [9.95644792e-01 4.35520751e-03]\n",
            " [9.93183141e-01 6.81685926e-03]\n",
            " [6.22502623e-01 3.77497377e-01]\n",
            " [9.66876076e-01 3.31239245e-02]\n",
            " [9.99817527e-01 1.82472868e-04]\n",
            " [9.99679790e-01 3.20209831e-04]\n",
            " [9.99873917e-01 1.26082723e-04]\n",
            " [8.20719466e-07 9.99999179e-01]\n",
            " [1.16863533e-06 9.99998831e-01]\n",
            " [9.99899391e-01 1.00609290e-04]\n",
            " [3.66857664e-04 9.99633142e-01]\n",
            " [3.46856171e-03 9.96531438e-01]\n",
            " [9.99998284e-01 1.71627641e-06]\n",
            " [2.29779882e-05 9.99977022e-01]\n",
            " [7.54432907e-04 9.99245567e-01]\n",
            " [9.91803395e-01 8.19660532e-03]\n",
            " [9.60533071e-01 3.94669290e-02]\n",
            " [9.94852845e-01 5.14715516e-03]\n",
            " [1.83387749e-10 1.00000000e+00]\n",
            " [8.58867668e-01 1.41132332e-01]\n",
            " [9.64403976e-01 3.55960244e-02]\n",
            " [6.79686990e-04 9.99320313e-01]\n",
            " [9.98285150e-01 1.71485031e-03]\n",
            " [4.91256343e-01 5.08743657e-01]\n",
            " [1.47903911e-12 1.00000000e+00]\n",
            " [1.97098180e-01 8.02901820e-01]\n",
            " [3.94447230e-09 9.99999996e-01]\n",
            " [9.99995206e-01 4.79423027e-06]\n",
            " [9.56772596e-01 4.32274040e-02]\n",
            " [9.99974530e-01 2.54703503e-05]\n",
            " [9.51670881e-05 9.99904833e-01]\n",
            " [9.99816893e-01 1.83107450e-04]\n",
            " [9.99477663e-01 5.22336827e-04]\n",
            " [9.94409979e-01 5.59002097e-03]\n",
            " [1.05190203e-04 9.99894810e-01]\n",
            " [9.31265786e-01 6.87342136e-02]\n",
            " [2.65243733e-07 9.99999735e-01]\n",
            " [5.54844934e-04 9.99445155e-01]\n",
            " [9.98995460e-01 1.00453964e-03]\n",
            " [9.98490843e-01 1.50915705e-03]\n",
            " [1.72376277e-06 9.99998276e-01]\n",
            " [9.73430281e-09 9.99999990e-01]\n",
            " [2.25798468e-06 9.99997742e-01]\n",
            " [9.92294804e-01 7.70519560e-03]\n",
            " [9.98343732e-01 1.65626802e-03]\n",
            " [9.79381845e-01 2.06181548e-02]\n",
            " [3.91344052e-03 9.96086559e-01]\n",
            " [7.35778606e-01 2.64221394e-01]\n",
            " [9.92214795e-01 7.78520483e-03]\n",
            " [7.86169923e-01 2.13830077e-01]\n",
            " [7.58911273e-04 9.99241089e-01]\n",
            " [9.97492508e-01 2.50749203e-03]\n",
            " [6.94397562e-09 9.99999993e-01]\n",
            " [9.99965451e-01 3.45488700e-05]]\n"
          ]
        }
      ]
    },
    {
      "cell_type": "markdown",
      "metadata": {
        "id": "pe-qK0ZCYPkU"
      },
      "source": [
        "![image.png](data:image/png;base64,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)"
      ]
    },
    {
      "cell_type": "code",
      "metadata": {
        "colab": {
          "base_uri": "https://localhost:8080/"
        },
        "id": "nROXVZx3YSgT",
        "outputId": "c45a5f45-49ae-471f-968b-9ed0e34618f9"
      },
      "source": [
        "intercepto=regresion_logistica.intercept_\n",
        "intercepto[0]"
      ],
      "execution_count": 18,
      "outputs": [
        {
          "output_type": "execute_result",
          "data": {
            "text/plain": [
              "-0.3153428195089883"
            ]
          },
          "metadata": {},
          "execution_count": 18
        }
      ]
    },
    {
      "cell_type": "code",
      "metadata": {
        "colab": {
          "base_uri": "https://localhost:8080/"
        },
        "id": "ScWgDF1aYZDe",
        "outputId": "14d67b94-9e82-4a70-a963-6977e9410f22"
      },
      "source": [
        "beta1=regresion_logistica.coef_\n",
        "beta1"
      ],
      "execution_count": 19,
      "outputs": [
        {
          "output_type": "execute_result",
          "data": {
            "text/plain": [
              "array([[ 0.40047319,  0.42002301,  0.35141264,  0.45857397,  0.19431027,\n",
              "        -0.60368261,  0.75313073,  1.08134394, -0.24303697, -0.0882157 ,\n",
              "         1.25904487, -0.22903996,  0.55497383,  0.90885204,  0.18922479,\n",
              "        -0.64110343,  0.16319815,  0.39432976, -0.53301572, -0.73504954,\n",
              "         0.8375931 ,  1.32106025,  0.51623822,  0.8232146 ,  0.54879811,\n",
              "        -0.10091389,  1.00984329,  0.78131527,  1.21951368,  0.16004465]])"
            ]
          },
          "metadata": {},
          "execution_count": 19
        }
      ]
    },
    {
      "cell_type": "code",
      "metadata": {
        "colab": {
          "base_uri": "https://localhost:8080/"
        },
        "id": "fBE5koTPY8un",
        "outputId": "c2de8d67-a5f0-4593-b939-5deadf6bc4ce"
      },
      "source": [
        "X_test"
      ],
      "execution_count": 22,
      "outputs": [
        {
          "output_type": "execute_result",
          "data": {
            "text/plain": [
              "array([[-0.47069438, -0.16048584, -0.44810956, ..., -0.19956318,\n",
              "         0.18320441,  0.19695794],\n",
              "       [ 1.36687747,  0.47014935,  1.30288585, ...,  0.97897545,\n",
              "        -0.56582801, -1.00057787],\n",
              "       [ 0.37850807,  0.04429607,  0.40082046, ...,  0.56024403,\n",
              "        -0.10314275, -0.20813168],\n",
              "       ...,\n",
              "       [-0.87683468, -0.57237672, -0.8670139 , ..., -0.61357437,\n",
              "         0.15731992, -0.28460551],\n",
              "       [ 1.61396982,  0.66562299,  1.56650313, ...,  1.89104864,\n",
              "        -0.21476962, -0.43201158],\n",
              "       [-1.09836575, -1.64515466, -1.07996724, ..., -0.72548986,\n",
              "         0.05863531, -0.37271666]])"
            ]
          },
          "metadata": {},
          "execution_count": 22
        }
      ]
    },
    {
      "cell_type": "code",
      "metadata": {
        "colab": {
          "base_uri": "https://localhost:8080/"
        },
        "id": "l5vH6ynDZIWB",
        "outputId": "55e00001-e936-4d95-bdaa-d6195fd182a7"
      },
      "source": [
        "X.columns.shape"
      ],
      "execution_count": 24,
      "outputs": [
        {
          "output_type": "execute_result",
          "data": {
            "text/plain": [
              "(30,)"
            ]
          },
          "metadata": {},
          "execution_count": 24
        }
      ]
    },
    {
      "cell_type": "code",
      "metadata": {
        "colab": {
          "base_uri": "https://localhost:8080/",
          "height": 437
        },
        "id": "A9kDYp5fYhG8",
        "outputId": "76ab1869-746f-4dcf-d9b2-bda04e2ea915"
      },
      "source": [
        "import pandas as pd\n",
        "df= pd.DataFrame(X_test)\n",
        "df['X_pred']= df[0]*beta1[0][0]+df[1]*beta1[0][1]+df[2]*beta1[0][2]+df[3]*beta1[0][3]+df[4]*beta1[0][4]+df[5]*beta1[0][5]+df[6]*beta1[0][6]+\\\n",
        "df[7]*beta1[0][7]+intercepto[0]\n",
        "df['Probabilidades']=1/(1+np.exp(-df.X_pred)) # Calculo de probabilidades \n",
        "df"
      ],
      "execution_count": 30,
      "outputs": [
        {
          "output_type": "execute_result",
          "data": {
            "text/html": [
              "<div>\n",
              "<style scoped>\n",
              "    .dataframe tbody tr th:only-of-type {\n",
              "        vertical-align: middle;\n",
              "    }\n",
              "\n",
              "    .dataframe tbody tr th {\n",
              "        vertical-align: top;\n",
              "    }\n",
              "\n",
              "    .dataframe thead th {\n",
              "        text-align: right;\n",
              "    }\n",
              "</style>\n",
              "<table border=\"1\" class=\"dataframe\">\n",
              "  <thead>\n",
              "    <tr style=\"text-align: right;\">\n",
              "      <th></th>\n",
              "      <th>0</th>\n",
              "      <th>1</th>\n",
              "      <th>2</th>\n",
              "      <th>3</th>\n",
              "      <th>4</th>\n",
              "      <th>5</th>\n",
              "      <th>6</th>\n",
              "      <th>7</th>\n",
              "      <th>8</th>\n",
              "      <th>9</th>\n",
              "      <th>10</th>\n",
              "      <th>11</th>\n",
              "      <th>12</th>\n",
              "      <th>13</th>\n",
              "      <th>14</th>\n",
              "      <th>15</th>\n",
              "      <th>16</th>\n",
              "      <th>17</th>\n",
              "      <th>18</th>\n",
              "      <th>19</th>\n",
              "      <th>20</th>\n",
              "      <th>21</th>\n",
              "      <th>22</th>\n",
              "      <th>23</th>\n",
              "      <th>24</th>\n",
              "      <th>25</th>\n",
              "      <th>26</th>\n",
              "      <th>27</th>\n",
              "      <th>28</th>\n",
              "      <th>29</th>\n",
              "      <th>X_pred</th>\n",
              "      <th>Probabilidades</th>\n",
              "    </tr>\n",
              "  </thead>\n",
              "  <tbody>\n",
              "    <tr>\n",
              "      <th>0</th>\n",
              "      <td>-0.470694</td>\n",
              "      <td>-0.160486</td>\n",
              "      <td>-0.448110</td>\n",
              "      <td>-0.491999</td>\n",
              "      <td>0.234114</td>\n",
              "      <td>0.027651</td>\n",
              "      <td>-0.109847</td>\n",
              "      <td>-0.276232</td>\n",
              "      <td>0.413949</td>\n",
              "      <td>0.132176</td>\n",
              "      <td>-0.032743</td>\n",
              "      <td>-0.313616</td>\n",
              "      <td>-0.182696</td>\n",
              "      <td>-0.221053</td>\n",
              "      <td>-0.029327</td>\n",
              "      <td>-0.355912</td>\n",
              "      <td>-0.161929</td>\n",
              "      <td>-0.231333</td>\n",
              "      <td>-0.329612</td>\n",
              "      <td>-0.079018</td>\n",
              "      <td>-0.269040</td>\n",
              "      <td>-0.168905</td>\n",
              "      <td>-0.333935</td>\n",
              "      <td>-0.356299</td>\n",
              "      <td>0.448503</td>\n",
              "      <td>-0.104741</td>\n",
              "      <td>-0.024412</td>\n",
              "      <td>-0.199563</td>\n",
              "      <td>0.183204</td>\n",
              "      <td>0.196958</td>\n",
              "      <td>-1.306972</td>\n",
              "      <td>0.212994</td>\n",
              "    </tr>\n",
              "    <tr>\n",
              "      <th>1</th>\n",
              "      <td>1.366877</td>\n",
              "      <td>0.470149</td>\n",
              "      <td>1.302886</td>\n",
              "      <td>1.351264</td>\n",
              "      <td>-0.446227</td>\n",
              "      <td>-0.027309</td>\n",
              "      <td>0.241064</td>\n",
              "      <td>0.789060</td>\n",
              "      <td>-0.838325</td>\n",
              "      <td>-1.160679</td>\n",
              "      <td>1.384594</td>\n",
              "      <td>-0.760851</td>\n",
              "      <td>1.296951</td>\n",
              "      <td>1.225780</td>\n",
              "      <td>-0.865695</td>\n",
              "      <td>-0.500666</td>\n",
              "      <td>-0.305168</td>\n",
              "      <td>0.308825</td>\n",
              "      <td>-0.809083</td>\n",
              "      <td>-0.793157</td>\n",
              "      <td>1.779007</td>\n",
              "      <td>0.147012</td>\n",
              "      <td>1.746605</td>\n",
              "      <td>1.732277</td>\n",
              "      <td>-0.572873</td>\n",
              "      <td>-0.131459</td>\n",
              "      <td>-0.016736</td>\n",
              "      <td>0.978975</td>\n",
              "      <td>-0.565828</td>\n",
              "      <td>-1.000578</td>\n",
              "      <td>2.471611</td>\n",
              "      <td>0.922128</td>\n",
              "    </tr>\n",
              "    <tr>\n",
              "      <th>2</th>\n",
              "      <td>0.378508</td>\n",
              "      <td>0.044296</td>\n",
              "      <td>0.400820</td>\n",
              "      <td>0.267377</td>\n",
              "      <td>0.913744</td>\n",
              "      <td>0.340350</td>\n",
              "      <td>0.725686</td>\n",
              "      <td>0.824140</td>\n",
              "      <td>0.435855</td>\n",
              "      <td>-0.685782</td>\n",
              "      <td>0.249497</td>\n",
              "      <td>-0.781898</td>\n",
              "      <td>0.112838</td>\n",
              "      <td>0.175418</td>\n",
              "      <td>-0.267004</td>\n",
              "      <td>-0.594561</td>\n",
              "      <td>-0.124794</td>\n",
              "      <td>-0.140496</td>\n",
              "      <td>-0.795764</td>\n",
              "      <td>-0.504551</td>\n",
              "      <td>0.619345</td>\n",
              "      <td>0.052562</td>\n",
              "      <td>0.525386</td>\n",
              "      <td>0.484159</td>\n",
              "      <td>0.974533</td>\n",
              "      <td>-0.094562</td>\n",
              "      <td>0.512911</td>\n",
              "      <td>0.560244</td>\n",
              "      <td>-0.103143</td>\n",
              "      <td>-0.208132</td>\n",
              "      <td>1.528112</td>\n",
              "      <td>0.821730</td>\n",
              "    </tr>\n",
              "    <tr>\n",
              "      <th>3</th>\n",
              "      <td>-0.490575</td>\n",
              "      <td>-0.374576</td>\n",
              "      <td>-0.432457</td>\n",
              "      <td>-0.532101</td>\n",
              "      <td>0.643316</td>\n",
              "      <td>0.516599</td>\n",
              "      <td>-0.142993</td>\n",
              "      <td>-0.539846</td>\n",
              "      <td>-0.002259</td>\n",
              "      <td>1.165609</td>\n",
              "      <td>-0.824604</td>\n",
              "      <td>0.441152</td>\n",
              "      <td>-0.327740</td>\n",
              "      <td>-0.547998</td>\n",
              "      <td>0.986380</td>\n",
              "      <td>0.417599</td>\n",
              "      <td>0.554262</td>\n",
              "      <td>-0.020461</td>\n",
              "      <td>0.160756</td>\n",
              "      <td>0.835972</td>\n",
              "      <td>-0.701842</td>\n",
              "      <td>-0.450625</td>\n",
              "      <td>-0.525756</td>\n",
              "      <td>-0.641257</td>\n",
              "      <td>0.553709</td>\n",
              "      <td>0.054930</td>\n",
              "      <td>-0.152986</td>\n",
              "      <td>-0.622863</td>\n",
              "      <td>-0.557739</td>\n",
              "      <td>0.534440</td>\n",
              "      <td>-1.943424</td>\n",
              "      <td>0.125272</td>\n",
              "    </tr>\n",
              "    <tr>\n",
              "      <th>4</th>\n",
              "      <td>-0.734828</td>\n",
              "      <td>-1.128546</td>\n",
              "      <td>-0.713374</td>\n",
              "      <td>-0.716683</td>\n",
              "      <td>0.247636</td>\n",
              "      <td>0.145150</td>\n",
              "      <td>-0.269044</td>\n",
              "      <td>-0.592724</td>\n",
              "      <td>0.023298</td>\n",
              "      <td>0.711976</td>\n",
              "      <td>-0.457547</td>\n",
              "      <td>0.999969</td>\n",
              "      <td>-0.612877</td>\n",
              "      <td>-0.428529</td>\n",
              "      <td>1.703076</td>\n",
              "      <td>0.874216</td>\n",
              "      <td>0.783709</td>\n",
              "      <td>0.509965</td>\n",
              "      <td>-0.259386</td>\n",
              "      <td>0.649494</td>\n",
              "      <td>-0.830233</td>\n",
              "      <td>-0.976611</td>\n",
              "      <td>-0.848337</td>\n",
              "      <td>-0.743216</td>\n",
              "      <td>0.093432</td>\n",
              "      <td>-0.270137</td>\n",
              "      <td>-0.443716</td>\n",
              "      <td>-0.691687</td>\n",
              "      <td>-0.924975</td>\n",
              "      <td>-0.144403</td>\n",
              "      <td>-2.546048</td>\n",
              "      <td>0.072692</td>\n",
              "    </tr>\n",
              "    <tr>\n",
              "      <th>...</th>\n",
              "      <td>...</td>\n",
              "      <td>...</td>\n",
              "      <td>...</td>\n",
              "      <td>...</td>\n",
              "      <td>...</td>\n",
              "      <td>...</td>\n",
              "      <td>...</td>\n",
              "      <td>...</td>\n",
              "      <td>...</td>\n",
              "      <td>...</td>\n",
              "      <td>...</td>\n",
              "      <td>...</td>\n",
              "      <td>...</td>\n",
              "      <td>...</td>\n",
              "      <td>...</td>\n",
              "      <td>...</td>\n",
              "      <td>...</td>\n",
              "      <td>...</td>\n",
              "      <td>...</td>\n",
              "      <td>...</td>\n",
              "      <td>...</td>\n",
              "      <td>...</td>\n",
              "      <td>...</td>\n",
              "      <td>...</td>\n",
              "      <td>...</td>\n",
              "      <td>...</td>\n",
              "      <td>...</td>\n",
              "      <td>...</td>\n",
              "      <td>...</td>\n",
              "      <td>...</td>\n",
              "      <td>...</td>\n",
              "      <td>...</td>\n",
              "    </tr>\n",
              "    <tr>\n",
              "      <th>138</th>\n",
              "      <td>0.145616</td>\n",
              "      <td>-0.942380</td>\n",
              "      <td>0.156563</td>\n",
              "      <td>-0.008501</td>\n",
              "      <td>1.198406</td>\n",
              "      <td>0.560187</td>\n",
              "      <td>0.136356</td>\n",
              "      <td>0.560267</td>\n",
              "      <td>1.111279</td>\n",
              "      <td>0.093901</td>\n",
              "      <td>0.383760</td>\n",
              "      <td>-0.870256</td>\n",
              "      <td>0.469260</td>\n",
              "      <td>0.053308</td>\n",
              "      <td>-0.511014</td>\n",
              "      <td>1.041885</td>\n",
              "      <td>0.413345</td>\n",
              "      <td>0.719215</td>\n",
              "      <td>0.451344</td>\n",
              "      <td>0.395687</td>\n",
              "      <td>0.014664</td>\n",
              "      <td>-1.211106</td>\n",
              "      <td>0.063706</td>\n",
              "      <td>-0.135330</td>\n",
              "      <td>-0.204652</td>\n",
              "      <td>0.347555</td>\n",
              "      <td>-0.056556</td>\n",
              "      <td>0.382093</td>\n",
              "      <td>0.404840</td>\n",
              "      <td>0.043456</td>\n",
              "      <td>0.001493</td>\n",
              "      <td>0.500373</td>\n",
              "    </tr>\n",
              "    <tr>\n",
              "      <th>139</th>\n",
              "      <td>0.091654</td>\n",
              "      <td>0.216499</td>\n",
              "      <td>0.103839</td>\n",
              "      <td>-0.034667</td>\n",
              "      <td>0.167930</td>\n",
              "      <td>0.308132</td>\n",
              "      <td>0.366614</td>\n",
              "      <td>0.280661</td>\n",
              "      <td>0.505223</td>\n",
              "      <td>0.264013</td>\n",
              "      <td>-0.707304</td>\n",
              "      <td>-1.026834</td>\n",
              "      <td>-0.702973</td>\n",
              "      <td>-0.460212</td>\n",
              "      <td>-0.999033</td>\n",
              "      <td>-0.531406</td>\n",
              "      <td>-0.394360</td>\n",
              "      <td>-0.728830</td>\n",
              "      <td>-0.644416</td>\n",
              "      <td>-0.688003</td>\n",
              "      <td>0.426758</td>\n",
              "      <td>0.723479</td>\n",
              "      <td>0.316885</td>\n",
              "      <td>0.287273</td>\n",
              "      <td>1.000835</td>\n",
              "      <td>0.962702</td>\n",
              "      <td>1.077099</td>\n",
              "      <td>1.053586</td>\n",
              "      <td>2.996525</td>\n",
              "      <td>0.961696</td>\n",
              "      <td>0.259105</td>\n",
              "      <td>0.564416</td>\n",
              "    </tr>\n",
              "    <tr>\n",
              "      <th>140</th>\n",
              "      <td>-0.876835</td>\n",
              "      <td>-0.572377</td>\n",
              "      <td>-0.867014</td>\n",
              "      <td>-0.801153</td>\n",
              "      <td>0.806996</td>\n",
              "      <td>-0.498443</td>\n",
              "      <td>-0.732448</td>\n",
              "      <td>-0.622129</td>\n",
              "      <td>-0.356400</td>\n",
              "      <td>0.085395</td>\n",
              "      <td>-0.752419</td>\n",
              "      <td>0.308704</td>\n",
              "      <td>-0.754456</td>\n",
              "      <td>-0.589582</td>\n",
              "      <td>-0.627685</td>\n",
              "      <td>-0.901115</td>\n",
              "      <td>-0.707363</td>\n",
              "      <td>-0.699633</td>\n",
              "      <td>-0.407102</td>\n",
              "      <td>-0.604031</td>\n",
              "      <td>-0.799171</td>\n",
              "      <td>0.124213</td>\n",
              "      <td>-0.814083</td>\n",
              "      <td>-0.719308</td>\n",
              "      <td>0.198638</td>\n",
              "      <td>-0.674722</td>\n",
              "      <td>-0.793935</td>\n",
              "      <td>-0.613574</td>\n",
              "      <td>0.157320</td>\n",
              "      <td>-0.284606</td>\n",
              "      <td>-2.345626</td>\n",
              "      <td>0.087414</td>\n",
              "    </tr>\n",
              "    <tr>\n",
              "      <th>141</th>\n",
              "      <td>1.613970</td>\n",
              "      <td>0.665623</td>\n",
              "      <td>1.566503</td>\n",
              "      <td>1.720997</td>\n",
              "      <td>0.138753</td>\n",
              "      <td>-0.031099</td>\n",
              "      <td>0.742007</td>\n",
              "      <td>1.188093</td>\n",
              "      <td>-0.838325</td>\n",
              "      <td>-1.254241</td>\n",
              "      <td>1.274152</td>\n",
              "      <td>-0.362603</td>\n",
              "      <td>1.484567</td>\n",
              "      <td>1.585507</td>\n",
              "      <td>-0.182334</td>\n",
              "      <td>-0.365972</td>\n",
              "      <td>0.066854</td>\n",
              "      <td>0.553762</td>\n",
              "      <td>-0.845406</td>\n",
              "      <td>-0.680060</td>\n",
              "      <td>2.288430</td>\n",
              "      <td>0.847240</td>\n",
              "      <td>2.369129</td>\n",
              "      <td>2.667486</td>\n",
              "      <td>0.825491</td>\n",
              "      <td>0.386359</td>\n",
              "      <td>1.271399</td>\n",
              "      <td>1.891049</td>\n",
              "      <td>-0.214770</td>\n",
              "      <td>-0.432012</td>\n",
              "      <td>3.839580</td>\n",
              "      <td>0.978950</td>\n",
              "    </tr>\n",
              "    <tr>\n",
              "      <th>142</th>\n",
              "      <td>-1.098366</td>\n",
              "      <td>-1.645155</td>\n",
              "      <td>-1.079967</td>\n",
              "      <td>-0.947908</td>\n",
              "      <td>0.256176</td>\n",
              "      <td>-0.548095</td>\n",
              "      <td>-0.873441</td>\n",
              "      <td>-0.754194</td>\n",
              "      <td>-0.042419</td>\n",
              "      <td>0.410026</td>\n",
              "      <td>-0.772631</td>\n",
              "      <td>-1.214074</td>\n",
              "      <td>-0.751486</td>\n",
              "      <td>-0.626104</td>\n",
              "      <td>-0.453011</td>\n",
              "      <td>-0.661069</td>\n",
              "      <td>-0.775799</td>\n",
              "      <td>-0.789497</td>\n",
              "      <td>-0.140729</td>\n",
              "      <td>-0.538594</td>\n",
              "      <td>-1.012466</td>\n",
              "      <td>-1.632871</td>\n",
              "      <td>-1.013648</td>\n",
              "      <td>-0.854492</td>\n",
              "      <td>0.084665</td>\n",
              "      <td>-0.567850</td>\n",
              "      <td>-0.892524</td>\n",
              "      <td>-0.725490</td>\n",
              "      <td>0.058635</td>\n",
              "      <td>-0.372717</td>\n",
              "      <td>-3.353117</td>\n",
              "      <td>0.033793</td>\n",
              "    </tr>\n",
              "  </tbody>\n",
              "</table>\n",
              "<p>143 rows × 32 columns</p>\n",
              "</div>"
            ],
            "text/plain": [
              "            0         1         2  ...        29    X_pred  Probabilidades\n",
              "0   -0.470694 -0.160486 -0.448110  ...  0.196958 -1.306972        0.212994\n",
              "1    1.366877  0.470149  1.302886  ... -1.000578  2.471611        0.922128\n",
              "2    0.378508  0.044296  0.400820  ... -0.208132  1.528112        0.821730\n",
              "3   -0.490575 -0.374576 -0.432457  ...  0.534440 -1.943424        0.125272\n",
              "4   -0.734828 -1.128546 -0.713374  ... -0.144403 -2.546048        0.072692\n",
              "..        ...       ...       ...  ...       ...       ...             ...\n",
              "138  0.145616 -0.942380  0.156563  ...  0.043456  0.001493        0.500373\n",
              "139  0.091654  0.216499  0.103839  ...  0.961696  0.259105        0.564416\n",
              "140 -0.876835 -0.572377 -0.867014  ... -0.284606 -2.345626        0.087414\n",
              "141  1.613970  0.665623  1.566503  ... -0.432012  3.839580        0.978950\n",
              "142 -1.098366 -1.645155 -1.079967  ... -0.372717 -3.353117        0.033793\n",
              "\n",
              "[143 rows x 32 columns]"
            ]
          },
          "metadata": {},
          "execution_count": 30
        }
      ]
    },
    {
      "cell_type": "code",
      "metadata": {
        "colab": {
          "base_uri": "https://localhost:8080/",
          "height": 448
        },
        "id": "_td0lc3ecY_6",
        "outputId": "e1ee9f76-41fa-4e0b-ddc8-7b380bd7d3f0"
      },
      "source": [
        "import matplotlib.pyplot as plt\n",
        "import math\n",
        "def sigmoid(x):\n",
        "  a=[]\n",
        "  for item in x:\n",
        "    a.append(1/(1+math.exp(-item)))\n",
        "  return a\n",
        "x= np.arange(-5,5,0.01)\n",
        "sig=sigmoid(x)\n",
        "plt.figure(figsize=(10,6))\n",
        "plt.plot(x,sig)\n",
        "\n",
        "plt.axhline(y=0.5, color='b',linestyle='--')\n",
        "plt.xlabel('x')\n",
        "plt.ylabel('Probabilidad')\n",
        "plt.title('Gráfico probabilidades')\n",
        "plt.suptitle('Grafica Sigmoide')\n",
        "plt.scatter(df.X_pred,df.Probabilidades,color='orange')"
      ],
      "execution_count": 73,
      "outputs": [
        {
          "output_type": "execute_result",
          "data": {
            "text/plain": [
              "<matplotlib.collections.PathCollection at 0x7f5940e13610>"
            ]
          },
          "metadata": {},
          "execution_count": 73
        },
        {
          "output_type": "display_data",
          "data": {
            "image/png": "[encoded data removed]",
            "text/plain": [
              "<Figure size 720x432 with 1 Axes>"
            ]
          },
          "metadata": {
            "needs_background": "light"
          }
        }
      ]
    },
    {
      "cell_type": "markdown",
      "metadata": {
        "id": "c_pySY2vdt_f"
      },
      "source": [
        "# Comparar predicciones con valores reales"
      ]
    },
    {
      "cell_type": "code",
      "metadata": {
        "colab": {
          "base_uri": "https://localhost:8080/"
        },
        "id": "pckRnShTdv63",
        "outputId": "3bde6ae0-ad65-49bc-f25a-f1a20d8ec887"
      },
      "source": [
        "y_test"
      ],
      "execution_count": 32,
      "outputs": [
        {
          "output_type": "execute_result",
          "data": {
            "text/plain": [
              "204    B\n",
              "70     M\n",
              "131    M\n",
              "431    B\n",
              "540    B\n",
              "      ..\n",
              "89     B\n",
              "199    M\n",
              "411    B\n",
              "18     M\n",
              "390    B\n",
              "Name: diagnosis, Length: 143, dtype: object"
            ]
          },
          "metadata": {},
          "execution_count": 32
        }
      ]
    },
    {
      "cell_type": "code",
      "metadata": {
        "colab": {
          "base_uri": "https://localhost:8080/"
        },
        "id": "jCGvpRchdzCM",
        "outputId": "7028721b-1e2a-4d96-d952-fdc657567eaf"
      },
      "source": [
        "prediccion"
      ],
      "execution_count": 33,
      "outputs": [
        {
          "output_type": "execute_result",
          "data": {
            "text/plain": [
              "array(['B', 'M', 'M', 'B', 'B', 'M', 'M', 'M', 'B', 'B', 'B', 'M', 'B',\n",
              "       'M', 'B', 'M', 'B', 'B', 'B', 'M', 'B', 'B', 'M', 'B', 'B', 'B',\n",
              "       'B', 'B', 'B', 'M', 'B', 'B', 'B', 'B', 'B', 'B', 'M', 'B', 'M',\n",
              "       'B', 'B', 'M', 'B', 'B', 'B', 'B', 'B', 'B', 'B', 'B', 'M', 'M',\n",
              "       'B', 'B', 'B', 'B', 'B', 'M', 'M', 'B', 'B', 'M', 'M', 'B', 'B',\n",
              "       'B', 'M', 'M', 'B', 'B', 'M', 'M', 'B', 'M', 'B', 'B', 'B', 'M',\n",
              "       'B', 'B', 'M', 'B', 'M', 'M', 'M', 'M', 'M', 'M', 'B', 'B', 'B',\n",
              "       'B', 'B', 'B', 'B', 'B', 'M', 'M', 'B', 'M', 'M', 'B', 'M', 'M',\n",
              "       'B', 'B', 'B', 'M', 'B', 'B', 'M', 'B', 'M', 'M', 'M', 'M', 'B',\n",
              "       'B', 'B', 'M', 'B', 'B', 'B', 'M', 'B', 'M', 'M', 'B', 'B', 'M',\n",
              "       'M', 'M', 'B', 'B', 'B', 'M', 'B', 'B', 'B', 'M', 'B', 'M', 'B'],\n",
              "      dtype=object)"
            ]
          },
          "metadata": {},
          "execution_count": 33
        }
      ]
    },
    {
      "cell_type": "code",
      "metadata": {
        "colab": {
          "base_uri": "https://localhost:8080/"
        },
        "id": "_hArWZjkd5NG",
        "outputId": "5d748102-a3cd-42c5-8dae-d7c05e0a0326"
      },
      "source": [
        "from sklearn.metrics import accuracy_score\n",
        "accuracy_score(y_test,prediccion)"
      ],
      "execution_count": 34,
      "outputs": [
        {
          "output_type": "execute_result",
          "data": {
            "text/plain": [
              "0.9790209790209791"
            ]
          },
          "metadata": {},
          "execution_count": 34
        }
      ]
    },
    {
      "cell_type": "code",
      "metadata": {
        "id": "03l_muXWp2uS"
      },
      "source": [
        "#El modelo tiene un 97% de precisión calculando cual es B(Benigno) o M(Maligno)"
      ],
      "execution_count": null,
      "outputs": []
    },
    {
      "cell_type": "code",
      "metadata": {
        "colab": {
          "base_uri": "https://localhost:8080/"
        },
        "id": "kjEzGgc_eCnv",
        "outputId": "399d0ade-59e8-40aa-9b78-2a550804169b"
      },
      "source": [
        "from sklearn.metrics import classification_report\n",
        "M=classification_report(y_test,prediccion)\n",
        "print(M)"
      ],
      "execution_count": 35,
      "outputs": [
        {
          "output_type": "stream",
          "name": "stdout",
          "text": [
            "              precision    recall  f1-score   support\n",
            "\n",
            "           B       0.99      0.98      0.98        89\n",
            "           M       0.96      0.98      0.97        54\n",
            "\n",
            "    accuracy                           0.98       143\n",
            "   macro avg       0.98      0.98      0.98       143\n",
            "weighted avg       0.98      0.98      0.98       143\n",
            "\n"
          ]
        }
      ]
    },
    {
      "cell_type": "code",
      "metadata": {
        "id": "jlZoRe0LaXIL"
      },
      "source": [
        "#El modelo es muy bueno porque es capaz de predecir por igual entre B y M con un 96 a 99% de precisión."
      ],
      "execution_count": null,
      "outputs": []
    }
  ]
}