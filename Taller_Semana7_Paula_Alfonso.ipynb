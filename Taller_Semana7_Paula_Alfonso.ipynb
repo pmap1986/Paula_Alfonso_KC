{
  "nbformat": 4,
  "nbformat_minor": 0,
  "metadata": {
    "colab": {
      "name": "Taller_Semana7_Paula_Alfonso.ipynb",
      "provenance": [],
      "collapsed_sections": [],
      "include_colab_link": true
    },
    "kernelspec": {
      "name": "python3",
      "display_name": "Python 3"
    },
    "language_info": {
      "name": "python"
    }
  },
  "cells": [
    {
      "cell_type": "markdown",
      "metadata": {
        "id": "view-in-github",
        "colab_type": "text"
      },
      "source": [
        "<a href=\"https://colab.research.google.com/github/pmap1986/Paula_Alfonso_KC/blob/main/Taller_Semana7_Paula_Alfonso.ipynb\" target=\"_parent\"><img src=\"https://colab.research.google.com/assets/colab-badge.svg\" alt=\"Open In Colab\"/></a>"
      ]
    },
    {
      "cell_type": "code",
      "metadata": {
        "id": "6zduud0s3xrE"
      },
      "source": [
        "import numpy as np\n",
        "import pandas as pd"
      ],
      "execution_count": 2,
      "outputs": []
    },
    {
      "cell_type": "markdown",
      "metadata": {
        "id": "_XdStMJC3YKy"
      },
      "source": [
        "# Taller"
      ]
    },
    {
      "cell_type": "markdown",
      "metadata": {
        "id": "px8RICN734sq"
      },
      "source": [
        "## Recapitulando clustering\n",
        "- Crear una matriz de distancia usando criterio de enlace\n",
        "    - ```method```: como calcular la proximidad de los clusters\n",
        "    - ```metric```: metrica de distancia\n",
        "    - ```optimal_ordering```: Orden de los puntos \n",
        "- Tipos de method\n",
        "    - single: basado en los 2 objetos mas cercanos\n",
        "    - complete: basado en los dos objetos mas lejanos \n",
        "    - average: basado en la media aritmetica de todos los objetos \n",
        "    - centroids: basado en la media geometrica de todos los objetos \n",
        "    - median: basado en la median de todos los objetos \n",
        "    - ward: basado en la suma de cuadrado "
      ]
    },
    {
      "cell_type": "markdown",
      "metadata": {
        "id": "_I17e45Y6XrZ"
      },
      "source": [
        "# Agrupación en el conjunto de datos del vehículo\n",
        "\n",
        "Imagine que un fabricante de automóviles ha desarrollado prototipos para un vehículo nuevo. Antes de introducir el nuevo modelo en su gama, el fabricante quiere determinar qué vehículos existentes en el mercado se parecen más a los prototipos, es decir, cómo se pueden agrupar los vehículos, qué grupo es el más similar al modelo y, por tanto, qué modelos. estarán compitiendo contra ellos.\n",
        "\n",
        "Nuestro objetivo aquí es utilizar métodos de agrupamiento para encontrar los grupos de vehículos más distintivos. Resumirá los vehículos existentes y ayudará a la fabricación a tomar decisiones sobre nuevos modelos de forma sencilla."
      ]
    },
    {
      "cell_type": "markdown",
      "metadata": {
        "id": "oKu5Qhtf6gSZ"
      },
      "source": [
        "### Descargar datos\n",
        "Para descargar los datos, usaremos **`!wget`**. Estos datos se encuentran alojado en una API: IBM Object Storage.\n",
        "__ ¿Lo sabían? __ Cuando se trata de aprendizaje automático, es probable que trabaje con grandes conjuntos de datos. Como empresa, ¿dónde puede alojar sus datos? IBM ofrece una oportunidad única para las empresas, con 10 Tb de IBM Cloud Object Storage: [Pueden registrarse aqui](http://cocl.us/ML0101EN-IBM-Offer-CC)"
      ]
    },
    {
      "cell_type": "code",
      "metadata": {
        "colab": {
          "base_uri": "https://localhost:8080/"
        },
        "id": "4BOVSiNP60UX",
        "outputId": "26afa5e2-6009-4361-ee92-fd5011b8508e"
      },
      "source": [
        "!wget -O cars_clus.csv https://s3-api.us-geo.objectstorage.softlayer.net/cf-courses-data/CognitiveClass/ML0101ENv3/labs/cars_clus.csv"
      ],
      "execution_count": 3,
      "outputs": [
        {
          "output_type": "stream",
          "name": "stdout",
          "text": [
            "--2021-09-22 21:52:17--  https://s3-api.us-geo.objectstorage.softlayer.net/cf-courses-data/CognitiveClass/ML0101ENv3/labs/cars_clus.csv\n",
            "Resolving s3-api.us-geo.objectstorage.softlayer.net (s3-api.us-geo.objectstorage.softlayer.net)... 67.228.254.196\n",
            "Connecting to s3-api.us-geo.objectstorage.softlayer.net (s3-api.us-geo.objectstorage.softlayer.net)|67.228.254.196|:443... connected.\n",
            "HTTP request sent, awaiting response... 200 OK\n",
            "Length: 17774 (17K) [text/csv]\n",
            "Saving to: ‘cars_clus.csv’\n",
            "\n",
            "cars_clus.csv       100%[===================>]  17.36K  --.-KB/s    in 0s      \n",
            "\n",
            "2021-09-22 21:52:17 (166 MB/s) - ‘cars_clus.csv’ saved [17774/17774]\n",
            "\n"
          ]
        }
      ]
    },
    {
      "cell_type": "markdown",
      "metadata": {
        "id": "2Omvu1rE62W0"
      },
      "source": [
        "# Leer los datos"
      ]
    },
    {
      "cell_type": "code",
      "metadata": {
        "colab": {
          "base_uri": "https://localhost:8080/",
          "height": 223
        },
        "id": "HswW3Ygn63Xt",
        "outputId": "4b5b3a14-26be-4ff2-9cce-13de75294565"
      },
      "source": [
        "filename = 'cars_clus.csv'\n",
        "#Lectura\n",
        "pdf = pd.read_csv(filename)\n",
        "print (\"Shape: \", pdf.shape)\n",
        "pdf.head(5)"
      ],
      "execution_count": 4,
      "outputs": [
        {
          "output_type": "stream",
          "name": "stdout",
          "text": [
            "Shape:  (159, 16)\n"
          ]
        },
        {
          "output_type": "execute_result",
          "data": {
            "text/html": [
              "<div>\n",
              "<style scoped>\n",
              "    .dataframe tbody tr th:only-of-type {\n",
              "        vertical-align: middle;\n",
              "    }\n",
              "\n",
              "    .dataframe tbody tr th {\n",
              "        vertical-align: top;\n",
              "    }\n",
              "\n",
              "    .dataframe thead th {\n",
              "        text-align: right;\n",
              "    }\n",
              "</style>\n",
              "<table border=\"1\" class=\"dataframe\">\n",
              "  <thead>\n",
              "    <tr style=\"text-align: right;\">\n",
              "      <th></th>\n",
              "      <th>manufact</th>\n",
              "      <th>model</th>\n",
              "      <th>sales</th>\n",
              "      <th>resale</th>\n",
              "      <th>type</th>\n",
              "      <th>price</th>\n",
              "      <th>engine_s</th>\n",
              "      <th>horsepow</th>\n",
              "      <th>wheelbas</th>\n",
              "      <th>width</th>\n",
              "      <th>length</th>\n",
              "      <th>curb_wgt</th>\n",
              "      <th>fuel_cap</th>\n",
              "      <th>mpg</th>\n",
              "      <th>lnsales</th>\n",
              "      <th>partition</th>\n",
              "    </tr>\n",
              "  </thead>\n",
              "  <tbody>\n",
              "    <tr>\n",
              "      <th>0</th>\n",
              "      <td>Acura</td>\n",
              "      <td>Integra</td>\n",
              "      <td>16.919</td>\n",
              "      <td>16.360</td>\n",
              "      <td>0.000</td>\n",
              "      <td>21.500</td>\n",
              "      <td>1.800</td>\n",
              "      <td>140.000</td>\n",
              "      <td>101.200</td>\n",
              "      <td>67.300</td>\n",
              "      <td>172.400</td>\n",
              "      <td>2.639</td>\n",
              "      <td>13.200</td>\n",
              "      <td>28.000</td>\n",
              "      <td>2.828</td>\n",
              "      <td>0.0</td>\n",
              "    </tr>\n",
              "    <tr>\n",
              "      <th>1</th>\n",
              "      <td>Acura</td>\n",
              "      <td>TL</td>\n",
              "      <td>39.384</td>\n",
              "      <td>19.875</td>\n",
              "      <td>0.000</td>\n",
              "      <td>28.400</td>\n",
              "      <td>3.200</td>\n",
              "      <td>225.000</td>\n",
              "      <td>108.100</td>\n",
              "      <td>70.300</td>\n",
              "      <td>192.900</td>\n",
              "      <td>3.517</td>\n",
              "      <td>17.200</td>\n",
              "      <td>25.000</td>\n",
              "      <td>3.673</td>\n",
              "      <td>0.0</td>\n",
              "    </tr>\n",
              "    <tr>\n",
              "      <th>2</th>\n",
              "      <td>Acura</td>\n",
              "      <td>CL</td>\n",
              "      <td>14.114</td>\n",
              "      <td>18.225</td>\n",
              "      <td>0.000</td>\n",
              "      <td>$null$</td>\n",
              "      <td>3.200</td>\n",
              "      <td>225.000</td>\n",
              "      <td>106.900</td>\n",
              "      <td>70.600</td>\n",
              "      <td>192.000</td>\n",
              "      <td>3.470</td>\n",
              "      <td>17.200</td>\n",
              "      <td>26.000</td>\n",
              "      <td>2.647</td>\n",
              "      <td>0.0</td>\n",
              "    </tr>\n",
              "    <tr>\n",
              "      <th>3</th>\n",
              "      <td>Acura</td>\n",
              "      <td>RL</td>\n",
              "      <td>8.588</td>\n",
              "      <td>29.725</td>\n",
              "      <td>0.000</td>\n",
              "      <td>42.000</td>\n",
              "      <td>3.500</td>\n",
              "      <td>210.000</td>\n",
              "      <td>114.600</td>\n",
              "      <td>71.400</td>\n",
              "      <td>196.600</td>\n",
              "      <td>3.850</td>\n",
              "      <td>18.000</td>\n",
              "      <td>22.000</td>\n",
              "      <td>2.150</td>\n",
              "      <td>0.0</td>\n",
              "    </tr>\n",
              "    <tr>\n",
              "      <th>4</th>\n",
              "      <td>Audi</td>\n",
              "      <td>A4</td>\n",
              "      <td>20.397</td>\n",
              "      <td>22.255</td>\n",
              "      <td>0.000</td>\n",
              "      <td>23.990</td>\n",
              "      <td>1.800</td>\n",
              "      <td>150.000</td>\n",
              "      <td>102.600</td>\n",
              "      <td>68.200</td>\n",
              "      <td>178.000</td>\n",
              "      <td>2.998</td>\n",
              "      <td>16.400</td>\n",
              "      <td>27.000</td>\n",
              "      <td>3.015</td>\n",
              "      <td>0.0</td>\n",
              "    </tr>\n",
              "  </tbody>\n",
              "</table>\n",
              "</div>"
            ],
            "text/plain": [
              "  manufact    model   sales  resale  ... fuel_cap     mpg lnsales partition\n",
              "0    Acura  Integra  16.919  16.360  ...   13.200  28.000   2.828       0.0\n",
              "1    Acura       TL  39.384  19.875  ...   17.200  25.000   3.673       0.0\n",
              "2    Acura       CL  14.114  18.225  ...   17.200  26.000   2.647       0.0\n",
              "3    Acura       RL   8.588  29.725  ...   18.000  22.000   2.150       0.0\n",
              "4     Audi       A4  20.397  22.255  ...   16.400  27.000   3.015       0.0\n",
              "\n",
              "[5 rows x 16 columns]"
            ]
          },
          "metadata": {},
          "execution_count": 4
        }
      ]
    },
    {
      "cell_type": "markdown",
      "metadata": {
        "id": "oQdUbWNn68_H"
      },
      "source": [
        "Los features incluyen:\n",
        "- price en thousands (price)\n",
        "- engine size (engine_s)\n",
        "- horsepower (horsepow)\n",
        "- wheelbase (wheelbas)\n",
        "- width (width)\n",
        "- length (length)\n",
        "- curb weight (curb_wgt)\n",
        "- fuel capacity (fuel_cap) \n",
        "- fuel efficiency (mpg)."
      ]
    },
    {
      "cell_type": "markdown",
      "metadata": {
        "id": "rQ7dAfcq7MFz"
      },
      "source": [
        "# Data cleaning\n",
        "\n",
        "1. Observando el proceso que se observa en el codigo de abajo que pueden concluir de que se realizo ?"
      ]
    },
    {
      "cell_type": "code",
      "metadata": {
        "colab": {
          "base_uri": "https://localhost:8080/",
          "height": 241
        },
        "id": "K61VsBzl7NKV",
        "outputId": "b669e4eb-baa6-4543-f7c2-2b655f619086"
      },
      "source": [
        "print (\"Shape antes de cleaning: \", pdf.shape)\n",
        "pdf[[ 'sales', 'resale', 'type', 'price', 'engine_s',\n",
        "       'horsepow', 'wheelbas', 'width', 'length', 'curb_wgt', 'fuel_cap',\n",
        "       'mpg', 'lnsales']] = pdf[['sales', 'resale', 'type', 'price', 'engine_s',\n",
        "       'horsepow', 'wheelbas', 'width', 'length', 'curb_wgt', 'fuel_cap',\n",
        "       'mpg', 'lnsales']].apply(pd.to_numeric, errors='coerce')\n",
        "pdf = pdf.dropna()\n",
        "pdf = pdf.reset_index(drop=True)\n",
        "print (\"Shape despues de cleaning: \", pdf.shape)\n",
        "pdf.head(5)"
      ],
      "execution_count": 5,
      "outputs": [
        {
          "output_type": "stream",
          "name": "stdout",
          "text": [
            "Shape antes de cleaning:  (159, 16)\n",
            "Shape despues de cleaning:  (117, 16)\n"
          ]
        },
        {
          "output_type": "execute_result",
          "data": {
            "text/html": [
              "<div>\n",
              "<style scoped>\n",
              "    .dataframe tbody tr th:only-of-type {\n",
              "        vertical-align: middle;\n",
              "    }\n",
              "\n",
              "    .dataframe tbody tr th {\n",
              "        vertical-align: top;\n",
              "    }\n",
              "\n",
              "    .dataframe thead th {\n",
              "        text-align: right;\n",
              "    }\n",
              "</style>\n",
              "<table border=\"1\" class=\"dataframe\">\n",
              "  <thead>\n",
              "    <tr style=\"text-align: right;\">\n",
              "      <th></th>\n",
              "      <th>manufact</th>\n",
              "      <th>model</th>\n",
              "      <th>sales</th>\n",
              "      <th>resale</th>\n",
              "      <th>type</th>\n",
              "      <th>price</th>\n",
              "      <th>engine_s</th>\n",
              "      <th>horsepow</th>\n",
              "      <th>wheelbas</th>\n",
              "      <th>width</th>\n",
              "      <th>length</th>\n",
              "      <th>curb_wgt</th>\n",
              "      <th>fuel_cap</th>\n",
              "      <th>mpg</th>\n",
              "      <th>lnsales</th>\n",
              "      <th>partition</th>\n",
              "    </tr>\n",
              "  </thead>\n",
              "  <tbody>\n",
              "    <tr>\n",
              "      <th>0</th>\n",
              "      <td>Acura</td>\n",
              "      <td>Integra</td>\n",
              "      <td>16.919</td>\n",
              "      <td>16.360</td>\n",
              "      <td>0.0</td>\n",
              "      <td>21.50</td>\n",
              "      <td>1.8</td>\n",
              "      <td>140.0</td>\n",
              "      <td>101.2</td>\n",
              "      <td>67.3</td>\n",
              "      <td>172.4</td>\n",
              "      <td>2.639</td>\n",
              "      <td>13.2</td>\n",
              "      <td>28.0</td>\n",
              "      <td>2.828</td>\n",
              "      <td>0.0</td>\n",
              "    </tr>\n",
              "    <tr>\n",
              "      <th>1</th>\n",
              "      <td>Acura</td>\n",
              "      <td>TL</td>\n",
              "      <td>39.384</td>\n",
              "      <td>19.875</td>\n",
              "      <td>0.0</td>\n",
              "      <td>28.40</td>\n",
              "      <td>3.2</td>\n",
              "      <td>225.0</td>\n",
              "      <td>108.1</td>\n",
              "      <td>70.3</td>\n",
              "      <td>192.9</td>\n",
              "      <td>3.517</td>\n",
              "      <td>17.2</td>\n",
              "      <td>25.0</td>\n",
              "      <td>3.673</td>\n",
              "      <td>0.0</td>\n",
              "    </tr>\n",
              "    <tr>\n",
              "      <th>2</th>\n",
              "      <td>Acura</td>\n",
              "      <td>RL</td>\n",
              "      <td>8.588</td>\n",
              "      <td>29.725</td>\n",
              "      <td>0.0</td>\n",
              "      <td>42.00</td>\n",
              "      <td>3.5</td>\n",
              "      <td>210.0</td>\n",
              "      <td>114.6</td>\n",
              "      <td>71.4</td>\n",
              "      <td>196.6</td>\n",
              "      <td>3.850</td>\n",
              "      <td>18.0</td>\n",
              "      <td>22.0</td>\n",
              "      <td>2.150</td>\n",
              "      <td>0.0</td>\n",
              "    </tr>\n",
              "    <tr>\n",
              "      <th>3</th>\n",
              "      <td>Audi</td>\n",
              "      <td>A4</td>\n",
              "      <td>20.397</td>\n",
              "      <td>22.255</td>\n",
              "      <td>0.0</td>\n",
              "      <td>23.99</td>\n",
              "      <td>1.8</td>\n",
              "      <td>150.0</td>\n",
              "      <td>102.6</td>\n",
              "      <td>68.2</td>\n",
              "      <td>178.0</td>\n",
              "      <td>2.998</td>\n",
              "      <td>16.4</td>\n",
              "      <td>27.0</td>\n",
              "      <td>3.015</td>\n",
              "      <td>0.0</td>\n",
              "    </tr>\n",
              "    <tr>\n",
              "      <th>4</th>\n",
              "      <td>Audi</td>\n",
              "      <td>A6</td>\n",
              "      <td>18.780</td>\n",
              "      <td>23.555</td>\n",
              "      <td>0.0</td>\n",
              "      <td>33.95</td>\n",
              "      <td>2.8</td>\n",
              "      <td>200.0</td>\n",
              "      <td>108.7</td>\n",
              "      <td>76.1</td>\n",
              "      <td>192.0</td>\n",
              "      <td>3.561</td>\n",
              "      <td>18.5</td>\n",
              "      <td>22.0</td>\n",
              "      <td>2.933</td>\n",
              "      <td>0.0</td>\n",
              "    </tr>\n",
              "  </tbody>\n",
              "</table>\n",
              "</div>"
            ],
            "text/plain": [
              "  manufact    model   sales  resale  ...  fuel_cap   mpg  lnsales  partition\n",
              "0    Acura  Integra  16.919  16.360  ...      13.2  28.0    2.828        0.0\n",
              "1    Acura       TL  39.384  19.875  ...      17.2  25.0    3.673        0.0\n",
              "2    Acura       RL   8.588  29.725  ...      18.0  22.0    2.150        0.0\n",
              "3     Audi       A4  20.397  22.255  ...      16.4  27.0    3.015        0.0\n",
              "4     Audi       A6  18.780  23.555  ...      18.5  22.0    2.933        0.0\n",
              "\n",
              "[5 rows x 16 columns]"
            ]
          },
          "metadata": {},
          "execution_count": 5
        }
      ]
    },
    {
      "cell_type": "markdown",
      "metadata": {
        "id": "IGYvia5xL5c2"
      },
      "source": [
        "**Respuesta**\n",
        "\n",
        "R// con pd.to_numeric se convierten los string en valores numericos, Luego se eliminaron las filas con nulos y se resetea el index para que tome el consecutivo de las filas que se eliminaron."
      ]
    },
    {
      "cell_type": "markdown",
      "metadata": {
        "id": "uIR45snO7cPF"
      },
      "source": [
        "# Feature selection\n",
        "\n",
        "2. Seleccionar las columnas ``engine_s,  horsepow, wheelbas, width, lenght, curb_wgt, fuel_cap y mpg`` y guardarlas en el dataset ``featureset``"
      ]
    },
    {
      "cell_type": "code",
      "metadata": {
        "id": "Q9dAzNHAMbia",
        "colab": {
          "base_uri": "https://localhost:8080/",
          "height": 206
        },
        "outputId": "70663456-7deb-471e-b5e8-856dfce48e17"
      },
      "source": [
        "featureset = pdf[['engine_s','wheelbas','width','length','curb_wgt','fuel_cap','mpg']]\n",
        "featureset.head(5)\n"
      ],
      "execution_count": 6,
      "outputs": [
        {
          "output_type": "execute_result",
          "data": {
            "text/html": [
              "<div>\n",
              "<style scoped>\n",
              "    .dataframe tbody tr th:only-of-type {\n",
              "        vertical-align: middle;\n",
              "    }\n",
              "\n",
              "    .dataframe tbody tr th {\n",
              "        vertical-align: top;\n",
              "    }\n",
              "\n",
              "    .dataframe thead th {\n",
              "        text-align: right;\n",
              "    }\n",
              "</style>\n",
              "<table border=\"1\" class=\"dataframe\">\n",
              "  <thead>\n",
              "    <tr style=\"text-align: right;\">\n",
              "      <th></th>\n",
              "      <th>engine_s</th>\n",
              "      <th>wheelbas</th>\n",
              "      <th>width</th>\n",
              "      <th>length</th>\n",
              "      <th>curb_wgt</th>\n",
              "      <th>fuel_cap</th>\n",
              "      <th>mpg</th>\n",
              "    </tr>\n",
              "  </thead>\n",
              "  <tbody>\n",
              "    <tr>\n",
              "      <th>0</th>\n",
              "      <td>1.8</td>\n",
              "      <td>101.2</td>\n",
              "      <td>67.3</td>\n",
              "      <td>172.4</td>\n",
              "      <td>2.639</td>\n",
              "      <td>13.2</td>\n",
              "      <td>28.0</td>\n",
              "    </tr>\n",
              "    <tr>\n",
              "      <th>1</th>\n",
              "      <td>3.2</td>\n",
              "      <td>108.1</td>\n",
              "      <td>70.3</td>\n",
              "      <td>192.9</td>\n",
              "      <td>3.517</td>\n",
              "      <td>17.2</td>\n",
              "      <td>25.0</td>\n",
              "    </tr>\n",
              "    <tr>\n",
              "      <th>2</th>\n",
              "      <td>3.5</td>\n",
              "      <td>114.6</td>\n",
              "      <td>71.4</td>\n",
              "      <td>196.6</td>\n",
              "      <td>3.850</td>\n",
              "      <td>18.0</td>\n",
              "      <td>22.0</td>\n",
              "    </tr>\n",
              "    <tr>\n",
              "      <th>3</th>\n",
              "      <td>1.8</td>\n",
              "      <td>102.6</td>\n",
              "      <td>68.2</td>\n",
              "      <td>178.0</td>\n",
              "      <td>2.998</td>\n",
              "      <td>16.4</td>\n",
              "      <td>27.0</td>\n",
              "    </tr>\n",
              "    <tr>\n",
              "      <th>4</th>\n",
              "      <td>2.8</td>\n",
              "      <td>108.7</td>\n",
              "      <td>76.1</td>\n",
              "      <td>192.0</td>\n",
              "      <td>3.561</td>\n",
              "      <td>18.5</td>\n",
              "      <td>22.0</td>\n",
              "    </tr>\n",
              "  </tbody>\n",
              "</table>\n",
              "</div>"
            ],
            "text/plain": [
              "   engine_s  wheelbas  width  length  curb_wgt  fuel_cap   mpg\n",
              "0       1.8     101.2   67.3   172.4     2.639      13.2  28.0\n",
              "1       3.2     108.1   70.3   192.9     3.517      17.2  25.0\n",
              "2       3.5     114.6   71.4   196.6     3.850      18.0  22.0\n",
              "3       1.8     102.6   68.2   178.0     2.998      16.4  27.0\n",
              "4       2.8     108.7   76.1   192.0     3.561      18.5  22.0"
            ]
          },
          "metadata": {},
          "execution_count": 6
        }
      ]
    },
    {
      "cell_type": "markdown",
      "metadata": {
        "id": "M6H-54eb7hPz"
      },
      "source": [
        "# Clustering usando SCIpy\n",
        "\n",
        "3. En esta parte usamos el paquete Scipy para agrupar el conjunto de datos:\n",
        "Primero, calculamos la matriz de distancias.\n",
        "\n",
        "Convertir a una matriz de distancias el dataset ``feature_set`` utilizando la funcion ``featureset.values`` y guardar el resultado en ``feature_mtx``\n",
        "\n"
      ]
    },
    {
      "cell_type": "code",
      "metadata": {
        "id": "B4MTgFimMoSa"
      },
      "source": [
        "from sklearn.preprocessing import StandardScaler\n",
        "feature_set=featureset.values[:,1:]\n",
        "feature_set=np.nan_to_num(feature_set)\n",
        "feature_mtx = StandardScaler().fit_transform(feature_set)\n"
      ],
      "execution_count": 8,
      "outputs": []
    },
    {
      "cell_type": "markdown",
      "metadata": {
        "id": "qSjfqn6uMnwB"
      },
      "source": [
        "Con la matriz creada previamente ``feature_mtx`` correr el codigo de acontinuación (Esto consiste en encontrar una matriz de distancias entre individuos/automoviles). El resultado se guarda en una matriz D. \n",
        "\n",
        "**Nota** Si todo marcha en orden no deberia haber problemas con los siguientes dos segmentos de código"
      ]
    },
    {
      "cell_type": "code",
      "metadata": {
        "id": "-jB96qrw7mWy",
        "colab": {
          "base_uri": "https://localhost:8080/"
        },
        "outputId": "b086761e-a02a-496d-9a74-f9dd9069b2b3"
      },
      "source": [
        "import scipy\n",
        "leng = feature_mtx.shape[0]\n",
        "D = scipy.zeros([leng,leng])\n",
        "for i in range(leng):\n",
        "    for j in range(leng):\n",
        "        D[i,j] = scipy.spatial.distance.euclidean(feature_mtx[i], feature_mtx[j])"
      ],
      "execution_count": 9,
      "outputs": [
        {
          "output_type": "stream",
          "name": "stderr",
          "text": [
            "/usr/local/lib/python3.7/dist-packages/ipykernel_launcher.py:3: DeprecationWarning: scipy.zeros is deprecated and will be removed in SciPy 2.0.0, use numpy.zeros instead\n",
            "  This is separate from the ipykernel package so we can avoid doing imports until\n"
          ]
        }
      ]
    },
    {
      "cell_type": "code",
      "metadata": {
        "colab": {
          "base_uri": "https://localhost:8080/"
        },
        "id": "GA-noKhtrpV0",
        "outputId": "7f61ab93-ec2b-4841-8365-ba157bd9bb07"
      },
      "source": [
        "D"
      ],
      "execution_count": 10,
      "outputs": [
        {
          "output_type": "execute_result",
          "data": {
            "text/plain": [
              "array([[0.        , 2.72912348, 3.85589073, ..., 1.57735464, 1.33570019,\n",
              "        0.99336249],\n",
              "       [2.72912348, 0.        , 1.2860307 , ..., 1.26596766, 3.13643841,\n",
              "        2.89579444],\n",
              "       [3.85589073, 1.2860307 , 0.        , ..., 2.42278597, 4.1340931 ,\n",
              "        3.92863206],\n",
              "       ...,\n",
              "       [1.57735464, 1.26596766, 2.42278597, ..., 0.        , 2.24555975,\n",
              "        1.91200901],\n",
              "       [1.33570019, 3.13643841, 4.1340931 , ..., 2.24555975, 0.        ,\n",
              "        0.79207424],\n",
              "       [0.99336249, 2.89579444, 3.92863206, ..., 1.91200901, 0.79207424,\n",
              "        0.        ]])"
            ]
          },
          "metadata": {},
          "execution_count": 10
        }
      ]
    },
    {
      "cell_type": "markdown",
      "metadata": {
        "id": "9DDXs9nT7715"
      },
      "source": [
        "En la agrupación aglomerativa, en cada iteración, el algoritmo debe actualizar la matriz de distancia para reflejar la distancia del grupo recién formado con los grupos restantes en el bosque.\n",
        "\n",
        "Los siguientes métodos son compatibles con Scipy para calcular la distancia entre el grupo recién formado y cada uno:\n",
        "\n",
        "     - single\n",
        "     - complete\n",
        "     - average\n",
        "     - weighted\n",
        "     - centroid\n",
        "    \n",
        "4. Utilizaremos __complete__ para nuestro caso, pero en una proxima oportunidad siéntanse libres de cambiarlo para ver cómo cambian los resultados. Calcular el objeto Z por medio de la siguiente estructura de código:\n",
        "\n",
        "``import pylab``\n",
        "\n",
        "``import scipy.cluster.hierarchy``\n",
        "\n",
        "``z=scipy.cluster.hierachy.linkage(D,'complete')``\n",
        "\n"
      ]
    },
    {
      "cell_type": "code",
      "metadata": {
        "id": "mCNvzr5z8G-9",
        "colab": {
          "base_uri": "https://localhost:8080/"
        },
        "outputId": "763bac53-69d9-4207-94ed-f4d711f48d4a"
      },
      "source": [
        "import pylab\n",
        "\n",
        "import scipy.cluster.hierarchy\n",
        "\n",
        "Z=scipy.cluster.hierarchy.linkage(D,'complete')"
      ],
      "execution_count": 11,
      "outputs": [
        {
          "output_type": "stream",
          "name": "stderr",
          "text": [
            "/usr/local/lib/python3.7/dist-packages/ipykernel_launcher.py:5: ClusterWarning: scipy.cluster: The symmetric non-negative hollow observation matrix looks suspiciously like an uncondensed distance matrix\n",
            "  \"\"\"\n"
          ]
        }
      ]
    },
    {
      "cell_type": "markdown",
      "metadata": {
        "id": "nCcNQeLT8QqX"
      },
      "source": [
        "Esencialmente, la agrupación jerárquica no requiere un número predeterminado de agrupaciones. Sin embargo, en algunas aplicaciones queremos una partición de clústeres disjuntos como en un clúster plano.\n",
        "\n",
        "Entonces podemos usar una línea de corte:"
      ]
    },
    {
      "cell_type": "code",
      "metadata": {
        "colab": {
          "base_uri": "https://localhost:8080/"
        },
        "id": "A--9WDVT8VgW",
        "outputId": "9339d5aa-b713-46db-ad88-49bf1de8c0f1"
      },
      "source": [
        "from scipy.cluster.hierarchy import fcluster\n",
        "max_d = 3\n",
        "clusters = fcluster(Z, max_d, criterion='distance')\n",
        "clusters"
      ],
      "execution_count": 12,
      "outputs": [
        {
          "output_type": "execute_result",
          "data": {
            "text/plain": [
              "array([30, 48, 14, 33, 21, 10, 49, 47, 40, 43, 22, 42, 17, 19, 46, 34, 52,\n",
              "       41, 41, 44, 45, 24, 66, 52, 54, 23, 51, 22, 38, 52, 53,  8, 61, 65,\n",
              "       62,  5, 20, 27, 55, 50, 41,  1, 12,  4, 63, 16, 61, 24, 51, 49,  6,\n",
              "       11, 25, 30, 53, 48, 31, 58,  6, 48, 46, 13, 19,  2, 27, 37, 50, 46,\n",
              "       59,  9, 56, 32, 32, 41,  1, 12, 18, 49, 15,  3,  7, 26, 50, 48, 18,\n",
              "        6, 52, 17, 57,  3, 38, 51, 20, 33, 52, 44, 40, 42, 39, 39, 39, 24,\n",
              "       24, 27, 24, 51, 47, 26, 35, 28, 60, 64, 29, 36, 50, 28, 29],\n",
              "      dtype=int32)"
            ]
          },
          "metadata": {},
          "execution_count": 12
        }
      ]
    },
    {
      "cell_type": "code",
      "metadata": {
        "colab": {
          "base_uri": "https://localhost:8080/"
        },
        "id": "TivDWw-48YXq",
        "outputId": "d49c4704-d055-470a-8f08-1afc2a5bb221"
      },
      "source": [
        "# Determinar clusters\n",
        "import scipy.cluster.hierarchy as sch\n",
        "from scipy.cluster.hierarchy import fcluster\n",
        "k = 5\n",
        "clusters = fcluster(Z, k, criterion='maxclust')\n",
        "clusters"
      ],
      "execution_count": 13,
      "outputs": [
        {
          "output_type": "execute_result",
          "data": {
            "text/plain": [
              "array([2, 3, 1, 3, 1, 1, 3, 3, 3, 3, 1, 3, 1, 1, 3, 3, 3, 3, 3, 3, 3, 2,\n",
              "       5, 3, 3, 1, 3, 1, 3, 3, 3, 1, 4, 4, 4, 1, 1, 2, 3, 3, 3, 1, 1, 1,\n",
              "       4, 1, 4, 2, 3, 3, 1, 1, 2, 2, 3, 3, 2, 3, 1, 3, 3, 1, 1, 1, 2, 3,\n",
              "       3, 3, 3, 1, 3, 3, 3, 3, 1, 1, 1, 3, 1, 1, 1, 2, 3, 3, 1, 1, 3, 1,\n",
              "       3, 1, 3, 3, 1, 3, 3, 3, 3, 3, 3, 3, 3, 2, 2, 2, 2, 3, 3, 2, 3, 2,\n",
              "       3, 4, 2, 3, 3, 2, 2], dtype=int32)"
            ]
          },
          "metadata": {},
          "execution_count": 13
        }
      ]
    },
    {
      "cell_type": "markdown",
      "metadata": {
        "id": "uWHVG65c8dKS"
      },
      "source": [
        "# Dendrograma\n",
        "\n",
        "5. Utilizar el objeto ``Z`` creado previamente en la funcion ``scipy.cluster.hierarchy.dendrogram`` para obtener el dendrograma para ello pueden utilizar de ayuda el siguiente código:\n",
        "`"
      ]
    },
    {
      "cell_type": "code",
      "metadata": {
        "id": "DWVPXSbDOtB3",
        "colab": {
          "base_uri": "https://localhost:8080/",
          "height": 34
        },
        "outputId": "4ea8120c-01d9-4f0f-e633-3bf61d72c663"
      },
      "source": [
        "fig = pylab.figure(figsize=(18,50))\n",
        "def llf(id):\n",
        "    return '[%s %s %s]' % (pdf['manufact'][id], pdf['model'][id], int(float(pdf['type'][id])) )"
      ],
      "execution_count": 14,
      "outputs": [
        {
          "output_type": "display_data",
          "data": {
            "text/plain": [
              "<Figure size 1296x3600 with 0 Axes>"
            ]
          },
          "metadata": {}
        }
      ]
    },
    {
      "cell_type": "code",
      "metadata": {
        "colab": {
          "base_uri": "https://localhost:8080/",
          "height": 295
        },
        "id": "tSZ0wYCFcB6u",
        "outputId": "9ac5db05-9e85-4306-cdf2-e9bd99a841fb"
      },
      "source": [
        "dendrogram = sch.dendrogram(sch.linkage(Z, method  = \"ward\",metric='euclidean',),\n",
        "                            orientation='right',# Diferentes formas: right, left, bottom, top\n",
        "                            ) \n",
        "\n",
        "pylab.title('Dendrogram')\n",
        "pylab.xlabel('Vehiculos')\n",
        "pylab.ylabel('Distancias euclideana')\n",
        "pylab.show()"
      ],
      "execution_count": 16,
      "outputs": [
        {
          "output_type": "display_data",
          "data": {
            "image/png": "[encoded data removed]",
            "text/plain": [
              "<Figure size 432x288 with 1 Axes>"
            ]
          },
          "metadata": {
            "needs_background": "light"
          }
        }
      ]
    },
    {
      "cell_type": "markdown",
      "metadata": {
        "id": "-XWdJ7UQ8szN"
      },
      "source": [
        "# Usando scikit learn\n",
        "\n",
        "Ahora obtenemos la matriz de distancias usando scikit learn"
      ]
    },
    {
      "cell_type": "code",
      "metadata": {
        "colab": {
          "base_uri": "https://localhost:8080/"
        },
        "id": "pI1mVbgQ8uf6",
        "outputId": "fa9b6ac1-3481-4cf5-ccab-28d370b829f1"
      },
      "source": [
        "from scipy.spatial import distance_matrix \n",
        "\n",
        "dist_matrix = distance_matrix(feature_mtx,feature_mtx) \n",
        "print(dist_matrix)"
      ],
      "execution_count": 17,
      "outputs": [
        {
          "output_type": "stream",
          "name": "stdout",
          "text": [
            "[[0.         2.72912348 3.85589073 ... 1.57735464 1.33570019 0.99336249]\n",
            " [2.72912348 0.         1.2860307  ... 1.26596766 3.13643841 2.89579444]\n",
            " [3.85589073 1.2860307  0.         ... 2.42278597 4.1340931  3.92863206]\n",
            " ...\n",
            " [1.57735464 1.26596766 2.42278597 ... 0.         2.24555975 1.91200901]\n",
            " [1.33570019 3.13643841 4.1340931  ... 2.24555975 0.         0.79207424]\n",
            " [0.99336249 2.89579444 3.92863206 ... 1.91200901 0.79207424 0.        ]]\n"
          ]
        }
      ]
    },
    {
      "cell_type": "markdown",
      "metadata": {
        "id": "CE3aqptS8_jy"
      },
      "source": [
        "6. Utilizar el metodo ``AgglomerativeClustering`` visto en clase con ``n_clusters`` el número apropiado que consideren según en dendograma creado previamente y con propiedad ``linkage='complete'``. Guardar el modelo con el nombre``agglom``. Ajustar el modelo a los datos ``feature_mtx`` y obtener las predicciones con la funcion ``agglom.labels_``"
      ]
    },
    {
      "cell_type": "code",
      "metadata": {
        "id": "nuaYw-qfPQch",
        "colab": {
          "base_uri": "https://localhost:8080/"
        },
        "outputId": "3df85f58-e29c-480d-d666-28da8c5d79aa"
      },
      "source": [
        "from sklearn.cluster import AgglomerativeClustering\n",
        "agglom = AgglomerativeClustering(n_clusters = 4, affinity = 'euclidean', linkage ='complete')\n",
        "agglom.labels_ = agglom.fit_predict(feature_mtx)\n",
        "agglom.labels_"
      ],
      "execution_count": 39,
      "outputs": [
        {
          "output_type": "execute_result",
          "data": {
            "text/plain": [
              "array([3, 0, 0, 3, 0, 0, 3, 0, 0, 0, 0, 0, 0, 0, 0, 3, 3, 0, 0, 1, 1, 3,\n",
              "       2, 3, 3, 0, 3, 0, 3, 3, 3, 1, 0, 0, 0, 0, 0, 3, 1, 3, 0, 0, 1, 0,\n",
              "       0, 0, 0, 3, 3, 3, 1, 0, 3, 3, 3, 0, 1, 1, 1, 0, 0, 0, 0, 0, 3, 3,\n",
              "       3, 0, 1, 1, 1, 3, 3, 0, 0, 1, 0, 3, 0, 0, 1, 3, 3, 0, 0, 1, 3, 0,\n",
              "       1, 0, 3, 3, 0, 3, 3, 1, 0, 0, 1, 1, 1, 3, 3, 3, 3, 3, 0, 3, 3, 3,\n",
              "       1, 0, 3, 3, 3, 3, 3])"
            ]
          },
          "metadata": {},
          "execution_count": 39
        }
      ]
    },
    {
      "cell_type": "markdown",
      "metadata": {
        "id": "PJ5MhXRCPQpz"
      },
      "source": [
        "7. Crear una columna en el dataset pdf que se llame ``cluster_`` con base en los labels obtenidos con ``agglom.labels_''"
      ]
    },
    {
      "cell_type": "code",
      "metadata": {
        "id": "997If2qtPa49",
        "colab": {
          "base_uri": "https://localhost:8080/",
          "height": 206
        },
        "outputId": "e48ef87a-1c05-4328-d84a-8c5df043112f"
      },
      "source": [
        "pdf['cluster_'] = pd.DataFrame(agglom.labels_)\n",
        "pdf.head(5)"
      ],
      "execution_count": 40,
      "outputs": [
        {
          "output_type": "execute_result",
          "data": {
            "text/html": [
              "<div>\n",
              "<style scoped>\n",
              "    .dataframe tbody tr th:only-of-type {\n",
              "        vertical-align: middle;\n",
              "    }\n",
              "\n",
              "    .dataframe tbody tr th {\n",
              "        vertical-align: top;\n",
              "    }\n",
              "\n",
              "    .dataframe thead th {\n",
              "        text-align: right;\n",
              "    }\n",
              "</style>\n",
              "<table border=\"1\" class=\"dataframe\">\n",
              "  <thead>\n",
              "    <tr style=\"text-align: right;\">\n",
              "      <th></th>\n",
              "      <th>manufact</th>\n",
              "      <th>model</th>\n",
              "      <th>sales</th>\n",
              "      <th>resale</th>\n",
              "      <th>type</th>\n",
              "      <th>price</th>\n",
              "      <th>engine_s</th>\n",
              "      <th>horsepow</th>\n",
              "      <th>wheelbas</th>\n",
              "      <th>width</th>\n",
              "      <th>length</th>\n",
              "      <th>curb_wgt</th>\n",
              "      <th>fuel_cap</th>\n",
              "      <th>mpg</th>\n",
              "      <th>lnsales</th>\n",
              "      <th>partition</th>\n",
              "      <th>cluster_</th>\n",
              "    </tr>\n",
              "  </thead>\n",
              "  <tbody>\n",
              "    <tr>\n",
              "      <th>0</th>\n",
              "      <td>Acura</td>\n",
              "      <td>Integra</td>\n",
              "      <td>16.919</td>\n",
              "      <td>16.360</td>\n",
              "      <td>0.0</td>\n",
              "      <td>21.50</td>\n",
              "      <td>1.8</td>\n",
              "      <td>140.0</td>\n",
              "      <td>101.2</td>\n",
              "      <td>67.3</td>\n",
              "      <td>172.4</td>\n",
              "      <td>2.639</td>\n",
              "      <td>13.2</td>\n",
              "      <td>28.0</td>\n",
              "      <td>2.828</td>\n",
              "      <td>0.0</td>\n",
              "      <td>3</td>\n",
              "    </tr>\n",
              "    <tr>\n",
              "      <th>1</th>\n",
              "      <td>Acura</td>\n",
              "      <td>TL</td>\n",
              "      <td>39.384</td>\n",
              "      <td>19.875</td>\n",
              "      <td>0.0</td>\n",
              "      <td>28.40</td>\n",
              "      <td>3.2</td>\n",
              "      <td>225.0</td>\n",
              "      <td>108.1</td>\n",
              "      <td>70.3</td>\n",
              "      <td>192.9</td>\n",
              "      <td>3.517</td>\n",
              "      <td>17.2</td>\n",
              "      <td>25.0</td>\n",
              "      <td>3.673</td>\n",
              "      <td>0.0</td>\n",
              "      <td>0</td>\n",
              "    </tr>\n",
              "    <tr>\n",
              "      <th>2</th>\n",
              "      <td>Acura</td>\n",
              "      <td>RL</td>\n",
              "      <td>8.588</td>\n",
              "      <td>29.725</td>\n",
              "      <td>0.0</td>\n",
              "      <td>42.00</td>\n",
              "      <td>3.5</td>\n",
              "      <td>210.0</td>\n",
              "      <td>114.6</td>\n",
              "      <td>71.4</td>\n",
              "      <td>196.6</td>\n",
              "      <td>3.850</td>\n",
              "      <td>18.0</td>\n",
              "      <td>22.0</td>\n",
              "      <td>2.150</td>\n",
              "      <td>0.0</td>\n",
              "      <td>0</td>\n",
              "    </tr>\n",
              "    <tr>\n",
              "      <th>3</th>\n",
              "      <td>Audi</td>\n",
              "      <td>A4</td>\n",
              "      <td>20.397</td>\n",
              "      <td>22.255</td>\n",
              "      <td>0.0</td>\n",
              "      <td>23.99</td>\n",
              "      <td>1.8</td>\n",
              "      <td>150.0</td>\n",
              "      <td>102.6</td>\n",
              "      <td>68.2</td>\n",
              "      <td>178.0</td>\n",
              "      <td>2.998</td>\n",
              "      <td>16.4</td>\n",
              "      <td>27.0</td>\n",
              "      <td>3.015</td>\n",
              "      <td>0.0</td>\n",
              "      <td>3</td>\n",
              "    </tr>\n",
              "    <tr>\n",
              "      <th>4</th>\n",
              "      <td>Audi</td>\n",
              "      <td>A6</td>\n",
              "      <td>18.780</td>\n",
              "      <td>23.555</td>\n",
              "      <td>0.0</td>\n",
              "      <td>33.95</td>\n",
              "      <td>2.8</td>\n",
              "      <td>200.0</td>\n",
              "      <td>108.7</td>\n",
              "      <td>76.1</td>\n",
              "      <td>192.0</td>\n",
              "      <td>3.561</td>\n",
              "      <td>18.5</td>\n",
              "      <td>22.0</td>\n",
              "      <td>2.933</td>\n",
              "      <td>0.0</td>\n",
              "      <td>0</td>\n",
              "    </tr>\n",
              "  </tbody>\n",
              "</table>\n",
              "</div>"
            ],
            "text/plain": [
              "  manufact    model   sales  resale  ...   mpg  lnsales  partition  cluster_\n",
              "0    Acura  Integra  16.919  16.360  ...  28.0    2.828        0.0         3\n",
              "1    Acura       TL  39.384  19.875  ...  25.0    3.673        0.0         0\n",
              "2    Acura       RL   8.588  29.725  ...  22.0    2.150        0.0         0\n",
              "3     Audi       A4  20.397  22.255  ...  27.0    3.015        0.0         3\n",
              "4     Audi       A6  18.780  23.555  ...  22.0    2.933        0.0         0\n",
              "\n",
              "[5 rows x 17 columns]"
            ]
          },
          "metadata": {},
          "execution_count": 40
        }
      ]
    },
    {
      "cell_type": "markdown",
      "metadata": {
        "id": "7SlnHlI5PegW"
      },
      "source": [
        "8. Utilizar el siguiente codigo (Primero deben entenderlo) para crear una grafica de dispersion entre ``mpg`` y ``horsepow`` donde se proyecta como tercera variable el ``price``. Con base en esta grafica obtener una descripcion de cada cluster."
      ]
    },
    {
      "cell_type": "code",
      "metadata": {
        "id": "dKYCXqsU9FHO",
        "colab": {
          "base_uri": "https://localhost:8080/",
          "height": 946
        },
        "outputId": "d9557af7-141e-4704-bacf-af148817166e"
      },
      "source": [
        "import matplotlib.cm as cm\n",
        "import matplotlib.pyplot as plt \n",
        "n_clusters = max(agglom.labels_)+1\n",
        "colors = cm.rainbow(np.linspace(0, 1, n_clusters))\n",
        "cluster_labels = list(range(0, n_clusters))\n",
        "\n",
        "# Figura de tamaño 16 inches por 14 inches.\n",
        "plt.figure(figsize=(16,14))\n",
        "\n",
        "for color, label in zip(colors, cluster_labels):\n",
        "    subset = pdf[pdf.cluster_ == label]\n",
        "    for i in subset.index:\n",
        "            plt.text(subset.horsepow[i], subset.mpg[i],str(subset['model'][i]), rotation=25) \n",
        "    plt.scatter(subset.horsepow, subset.mpg, s= subset.price*10, c=color, label='cluster'+str(label),alpha=0.5)\n",
        "#    plt.scatter(subset.horsepow, subset.mpg)\n",
        "plt.legend()\n",
        "plt.title('Clusters')\n",
        "plt.xlabel('horsepow')\n",
        "plt.ylabel('mpg')"
      ],
      "execution_count": 41,
      "outputs": [
        {
          "output_type": "stream",
          "name": "stderr",
          "text": [
            "*c* argument looks like a single numeric RGB or RGBA sequence, which should be avoided as value-mapping will have precedence in case its length matches with *x* & *y*.  Please use the *color* keyword-argument or provide a 2-D array with a single row if you intend to specify the same RGB or RGBA value for all points.\n",
            "*c* argument looks like a single numeric RGB or RGBA sequence, which should be avoided as value-mapping will have precedence in case its length matches with *x* & *y*.  Please use the *color* keyword-argument or provide a 2-D array with a single row if you intend to specify the same RGB or RGBA value for all points.\n",
            "*c* argument looks like a single numeric RGB or RGBA sequence, which should be avoided as value-mapping will have precedence in case its length matches with *x* & *y*.  Please use the *color* keyword-argument or provide a 2-D array with a single row if you intend to specify the same RGB or RGBA value for all points.\n",
            "*c* argument looks like a single numeric RGB or RGBA sequence, which should be avoided as value-mapping will have precedence in case its length matches with *x* & *y*.  Please use the *color* keyword-argument or provide a 2-D array with a single row if you intend to specify the same RGB or RGBA value for all points.\n"
          ]
        },
        {
          "output_type": "execute_result",
          "data": {
            "text/plain": [
              "Text(0, 0.5, 'mpg')"
            ]
          },
          "metadata": {},
          "execution_count": 41
        },
        {
          "output_type": "display_data",
          "data": {
            "image/png": "[encoded data removed]",
            "text/plain": [
              "<Figure size 1152x1008 with 1 Axes>"
            ]
          },
          "metadata": {
            "needs_background": "light"
          }
        }
      ]
    },
    {
      "cell_type": "markdown",
      "metadata": {
        "id": "j6HQFoekP38m"
      },
      "source": [
        "**Respuesta**\n",
        "\n",
        "\n"
      ]
    },
    {
      "cell_type": "markdown",
      "metadata": {
        "id": "Cmua4L9aQH-1"
      },
      "source": [
        "\n",
        "\n",
        "1.   Cluster0 (morado)=  autos de 125Hp- 325Hp con consumo de hasta 27.5 mpg, los mas costosos son los que tienes mas de 250Hp y un consumo de un poco mas de 20MPG.Consumo equilibrado respecto a la potencia.\n",
        "\n",
        "2.   Cluster1(aguamarina) = Grupo muy parecido al anterior, los mas costosos tienen 300HP y un consumo entre 20-22.5MPG. Tiene los autos de mayor valor. Bajo consumo de gasolina respecto a la potencia. Autos eficientes. Gama alta.\n",
        "\n",
        "3.   Cluster2(beige) = Autos que tienen 50HP y un consumo de 45MPG. Su precio es bajo.\n",
        "\n",
        "2.   Cluster3(Rojo) = Autos que tienen  100-200Hp y su consumo es 23-33mpg. Son gama media, los de mayor consumo pero por debajo de los Beige. Se destaca mas por el consumo que por la potencia.\n",
        "\n",
        "\n",
        "\n"
      ]
    },
    {
      "cell_type": "markdown",
      "metadata": {
        "id": "1vWDN34WQQeA"
      },
      "source": [
        "9. Obtener un conteo para cada cluster y analizar si las estructuras son balanceadas? Porque?"
      ]
    },
    {
      "cell_type": "code",
      "metadata": {
        "id": "hYVMwLhsVj2f",
        "colab": {
          "base_uri": "https://localhost:8080/"
        },
        "outputId": "3e473a82-3edf-4120-e33f-bf769dfea1f0"
      },
      "source": [
        "pdf.groupby(['cluster_']).size()"
      ],
      "execution_count": 25,
      "outputs": [
        {
          "output_type": "execute_result",
          "data": {
            "text/plain": [
              "cluster_\n",
              "0    49\n",
              "1    21\n",
              "2     1\n",
              "3    46\n",
              "dtype: int64"
            ]
          },
          "metadata": {},
          "execution_count": 25
        }
      ]
    },
    {
      "cell_type": "markdown",
      "metadata": {
        "id": "KQBMu76dlCLK"
      },
      "source": [
        "las estructuras parecen estar  balanceadas, excepto por el dato del cluster2. pero hay que tenerlo en cuenta porque define una categoria muy diferenciada de las demás."
      ]
    },
    {
      "cell_type": "code",
      "metadata": {
        "colab": {
          "base_uri": "https://localhost:8080/"
        },
        "id": "P84t_T5plYof",
        "outputId": "6efa9360-4c14-4c5c-db36-2dca3f3d9d5d"
      },
      "source": [
        "from sklearn.cluster import KMeans\n",
        "sum_sq_d = []\n",
        "K = range(1,11)\n",
        "print(K)\n",
        "\n",
        "for k in K:\n",
        "    km = KMeans(n_clusters=k)\n",
        "    km = km.fit(pdf[['horsepow', 'mpg']])\n",
        "    sum_sq_d.append(km.inertia_)\n",
        "print(sum_sq_d)   "
      ],
      "execution_count": 27,
      "outputs": [
        {
          "output_type": "stream",
          "name": "stdout",
          "text": [
            "range(1, 11)\n",
            "[400477.7046153845, 164553.90320855615, 76331.05957575756, 51832.53132756132, 29377.347253968255, 21733.401413919415, 16300.306053244998, 12623.429094642961, 9637.548041256989, 7910.766979511716]\n"
          ]
        }
      ]
    },
    {
      "cell_type": "code",
      "metadata": {
        "colab": {
          "base_uri": "https://localhost:8080/",
          "height": 412
        },
        "id": "DCdYbB8ImdkA",
        "outputId": "d6144607-f8bd-4b1d-cc32-57dc14df8277"
      },
      "source": [
        "plt.figure(figsize=(8,6))\n",
        "plt.plot(K, sum_sq_d, 'rx-.')\n",
        "plt.xlabel('Number of Clusters, k', fontsize=12)\n",
        "plt.xticks(range(1,11), fontsize=12)\n",
        "plt.ylabel('Sum of Squared Distances', fontsize=12)\n",
        "plt.xticks(fontsize=12)\n",
        "plt.title('Elbow Method For Determining k', fontsize=16)\n",
        "plt.show()"
      ],
      "execution_count": 28,
      "outputs": [
        {
          "output_type": "display_data",
          "data": {
            "image/png": "[encoded data removed]",
            "text/plain": [
              "<Figure size 576x432 with 1 Axes>"
            ]
          },
          "metadata": {
            "needs_background": "light"
          }
        }
      ]
    },
    {
      "cell_type": "markdown",
      "metadata": {
        "id": "r8kjHkUTmxGV"
      },
      "source": [
        "Segun el metodo Elbow, el número de clusters esta entre 3 y 4"
      ]
    }
  ]
}