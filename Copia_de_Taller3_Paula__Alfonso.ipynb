{
  "nbformat": 4,
  "nbformat_minor": 0,
  "metadata": {
    "colab": {
      "name": "Copia de Taller3_Paula _Alfonso.ipynb",
      "provenance": [],
      "collapsed_sections": [],
      "include_colab_link": true
    },
    "kernelspec": {
      "display_name": "Python 3",
      "language": "python",
      "name": "python3"
    },
    "language_info": {
      "codemirror_mode": {
        "name": "ipython",
        "version": 3
      },
      "file_extension": ".py",
      "mimetype": "text/x-python",
      "name": "python",
      "nbconvert_exporter": "python",
      "pygments_lexer": "ipython3",
      "version": "3.7.10"
    }
  },
  "cells": [
    {
      "cell_type": "markdown",
      "metadata": {
        "id": "view-in-github",
        "colab_type": "text"
      },
      "source": [
        "<a href=\"https://colab.research.google.com/github/pmap1986/Paula_Alfonso_KC/blob/main/Copia_de_Taller3_Paula__Alfonso.ipynb\" target=\"_parent\"><img src=\"https://colab.research.google.com/assets/colab-badge.svg\" alt=\"Open In Colab\"/></a>"
      ]
    },
    {
      "cell_type": "code",
      "metadata": {
        "id": "5M7PpU_nVHfL"
      },
      "source": [
        "import pandas as pd\n",
        "import numpy as np\n"
      ],
      "execution_count": null,
      "outputs": []
    },
    {
      "cell_type": "markdown",
      "metadata": {
        "id": "n47cxa3bFMxl"
      },
      "source": [
        "# Python en un contexto de Negocio de aerolineas (Caso practico)"
      ]
    },
    {
      "cell_type": "markdown",
      "metadata": {
        "id": "x4F5W2Xc6UOp"
      },
      "source": [
        "**Contexto empresarial.** Es un empleado de GrowthAir, una compañía aérea comercial en crecimiento. En los últimos años, GrowthAir ha expandido los servicios de vuelos de lujo a ubicaciones en todo el mundo. Tras el excelente desempeño de su equipo en la identificación de nuevas oportunidades comerciales el año pasado, se le ha encomendado la tarea de identificar los principales países para expandir aún más el servicio de vuelos de lujo de GrowthAir.\n",
        "\n",
        "**Problema empresarial.** Su gerente le ha pedido que responda a la siguiente pregunta: \"¿En qué países debería GrowthAir expandir su servicio de vuelos de lujo?\"\n",
        "\n",
        "**Contexto analítico.** Los datos relevantes son una serie de estimaciones de éxito (es decir, probabilidades de éxito) que han elaborado sus equipos internos de investigación de mercados. Usando su capacidad para realizar análisis de datos en Python, se embarcará en resumir las estimaciones de éxito disponibles para producir una recomendación concisa para su jefe."
      ]
    },
    {
      "cell_type": "code",
      "metadata": {
        "id": "QxYIji7W6k4V"
      },
      "source": [
        "#Datos sobre la probabilidad de éxito de la expansión por estimaciones de países\n",
        "success_estimates = {'Australia': [0.6, 0.33, 0.11, 0.14],\n",
        "                     'France': [0.66, 0.78, 0.98, 0.2],\n",
        "                     'Italy': [0.6],\n",
        "                     'Brazil': [0.22, 0.22, 0.43],\n",
        "                     'USA': [0.2, 0.5, 0.3],\n",
        "                     'England': [0.45],\n",
        "                     'Canada': [0.25, 0.3],\n",
        "                     'Argentina': [0.22],\n",
        "                     'Greece': [0.45, 0.66, 0.75, 0.99, 0.15, 0.66],\n",
        "                     'Morocco': [0.29],\n",
        "                     'Tunisia': [0.68, 0.56],\n",
        "                     'Egypt': [0.99],\n",
        "                     'Jamaica': [0.61, 0.65, 0.71],\n",
        "                     'Switzerland': [0.73, 0.86, 0.84, 0.51, 0.99],\n",
        "                     'Germany': [0.45, 0.49, 0.36]}"
      ],
      "execution_count": 5,
      "outputs": []
    },
    {
      "cell_type": "code",
      "metadata": {
        "colab": {
          "base_uri": "https://localhost:8080/"
        },
        "id": "u3tZUQyL6pBs",
        "outputId": "287d37f0-fb62-4c93-9d2f-a15bfb619894"
      },
      "source": [
        "print(success_estimates)"
      ],
      "execution_count": null,
      "outputs": [
        {
          "output_type": "stream",
          "text": [
            "{'Australia': [0.6, 0.33, 0.11, 0.14], 'France': [0.66, 0.78, 0.98, 0.2], 'Italy': [0.6], 'Brazil': [0.22, 0.22, 0.43], 'USA': [0.2, 0.5, 0.3], 'England': [0.45], 'Canada': [0.25, 0.3], 'Argentina': [0.22], 'Greece': [0.45, 0.66, 0.75, 0.99, 0.15, 0.66], 'Morocco': [0.29], 'Tunisia': [0.68, 0.56], 'Egypt': [0.99], 'Jamaica': [0.61, 0.65, 0.71], 'Switzerland': [0.73, 0.86, 0.84, 0.51, 0.99], 'Germany': [0.45, 0.49, 0.36]}\n"
          ],
          "name": "stdout"
        }
      ]
    },
    {
      "cell_type": "markdown",
      "metadata": {
        "id": "_vmWKSES6usL"
      },
      "source": [
        "Observe el reordenamiento de los elementos del diccionario cuando imprimimos en comparación con el orden en el que originalmente definimos el diccionario. Este es un aspecto clave de los tipos de datos de diccionario: ¡están desordenados! (Esto es muy diferente en comparación con los tipos de datos de lista, que están ordenados.).\n",
        "\n",
        "Ahora intuitivamente, nos gustaría recomendar que la empresa se esfuerce en el país con la estimación de éxito más alta. Pero, ¿qué significa esto cuando hay múltiples estimaciones de éxito para algunos países y solo una para otros? Exploraremos esto a continuación.\n",
        "\n",
        "\n",
        "# Interactuemos con los diccionarios y listas\n",
        "\n",
        "Si observa detenidamente el diccionario ```success_estimates```, verá que algunos países solo tienen una estimación de éxito, mientras que otros tienen muchas. Por ejemplo, Inglaterra solo tiene una estimación en su lista [0,45], mientras que Jamaica tiene tres estimaciones en su lista [0,61, 0,65, 0,71]. Acerquémonos a Jamaica y echemos un vistazo a algunas estadísticas resumidas de las estimaciones.\n",
        "\n",
        "En Python, el tipo de diccionario tiene métodos incorporados (funciones, que discutiremos más adelante) para acceder a las claves y valores del diccionario. Estos métodos se llaman escribiendo  ```.keys()``` o ```.values ()``` después del objeto dictonary. Cambiaremos el tipo de retorno de las llamadas ```.keys()``` y ```.values()``` a una lista utilizando el método ```list()```."
      ]
    },
    {
      "cell_type": "code",
      "metadata": {
        "colab": {
          "base_uri": "https://localhost:8080/"
        },
        "id": "ApZ3bU-l6uIj",
        "outputId": "91e35fa8-1777-4d2a-e65e-8a102768fa49"
      },
      "source": [
        "list(success_estimates.keys())"
      ],
      "execution_count": 56,
      "outputs": [
        {
          "output_type": "execute_result",
          "data": {
            "text/plain": [
              "['Australia',\n",
              " 'France',\n",
              " 'Italy',\n",
              " 'Brazil',\n",
              " 'USA',\n",
              " 'England',\n",
              " 'Canada',\n",
              " 'Argentina',\n",
              " 'Greece',\n",
              " 'Morocco',\n",
              " 'Tunisia',\n",
              " 'Egypt',\n",
              " 'Jamaica',\n",
              " 'Switzerland',\n",
              " 'Germany']"
            ]
          },
          "metadata": {},
          "execution_count": 56
        }
      ]
    },
    {
      "cell_type": "code",
      "metadata": {
        "colab": {
          "base_uri": "https://localhost:8080/"
        },
        "id": "QG0UF31N7blB",
        "outputId": "54d6216a-2356-449e-9db7-f722410dfe05"
      },
      "source": [
        "list(success_estimates.values())"
      ],
      "execution_count": null,
      "outputs": [
        {
          "output_type": "execute_result",
          "data": {
            "text/plain": [
              "[[0.6, 0.33, 0.11, 0.14],\n",
              " [0.66, 0.78, 0.98, 0.2],\n",
              " [0.6],\n",
              " [0.22, 0.22, 0.43],\n",
              " [0.2, 0.5, 0.3],\n",
              " [0.45],\n",
              " [0.25, 0.3],\n",
              " [0.22],\n",
              " [0.45, 0.66, 0.75, 0.99, 0.15, 0.66],\n",
              " [0.29],\n",
              " [0.68, 0.56],\n",
              " [0.99],\n",
              " [0.61, 0.65, 0.71],\n",
              " [0.73, 0.86, 0.84, 0.51, 0.99],\n",
              " [0.45, 0.49, 0.36]]"
            ]
          },
          "metadata": {},
          "execution_count": 17
        }
      ]
    },
    {
      "cell_type": "markdown",
      "metadata": {
        "id": "nlH6GNGb7fgf"
      },
      "source": [
        "Haremos uso del acceso a las llaves primarias y valores de un diccionario más adelante en el caso al comparar las estimaciones de numerosos países. Por ahora, recuerde que puede acceder a la lista completa de llaves primarias o valores de un diccionario simplemente llamando a los métodos integrados.\n",
        "\n",
        "# Ejercicio 1\n",
        "También nos gustaría comprobar si el nombre de un país es una de las claves del diccionario. Verificar si Morocco y Japan se encuentran en ``success_estimates``\n",
        "\n",
        "De ser asi obtener la lista de valores para Morocco y Japan\n"
      ]
    },
    {
      "cell_type": "code",
      "metadata": {
        "colab": {
          "base_uri": "https://localhost:8080/"
        },
        "id": "AqVm8HWdU5WD",
        "outputId": "22dadcfc-042a-49f9-aa3e-8d142e763b9a"
      },
      "source": [
        "paises = {'Morocco', 'Japan'}\n",
        "\n",
        "for pais in paises:\n",
        "  if pais in success_estimates:\n",
        "    print(pais, success_estimates[pais])\n",
        "  \n"
      ],
      "execution_count": null,
      "outputs": [
        {
          "output_type": "stream",
          "text": [
            "Morocco [0.29]\n"
          ],
          "name": "stdout"
        }
      ]
    },
    {
      "cell_type": "markdown",
      "metadata": {
        "id": "mI3Dq3aC8qNp"
      },
      "source": [
        "# Ejercicio 2\n",
        "Imprimir la longitud de las listas de estimaciones de éxito para Francia, Grecia y Marruecos.\n"
      ]
    },
    {
      "cell_type": "code",
      "metadata": {
        "id": "5AF0-lm28sGf",
        "colab": {
          "base_uri": "https://localhost:8080/"
        },
        "outputId": "51b5549b-908c-4480-c553-4173215a4b35"
      },
      "source": [
        "paises = {'France','Greece','Morocco'}\n",
        "\n",
        "for pais in paises:\n",
        "  if pais in success_estimates:\n",
        "    print(pais, len(success_estimates[pais]))"
      ],
      "execution_count": null,
      "outputs": [
        {
          "output_type": "stream",
          "text": [
            "Morocco 1\n",
            "France 4\n",
            "Greece 6\n"
          ],
          "name": "stdout"
        }
      ]
    },
    {
      "cell_type": "markdown",
      "metadata": {
        "id": "h8IXfjrP9Ld4"
      },
      "source": [
        "# Ejercicio 3\n",
        "\n",
        "¿Cuál de las siguientes opciones sería útil para almacenar estimaciones de éxito del proyecto si estuvieran disponibles a nivel regional en lugar de a nivel nacional?\n",
        "\n",
        "a) Lista\n",
        "\n",
        "(b) Diccionario\n",
        "\n",
        "(c) Flotantes\n",
        "\n",
        "(d) Cadena"
      ]
    },
    {
      "cell_type": "markdown",
      "metadata": {
        "id": "zo4-e-t79P8V"
      },
      "source": [
        "lista"
      ]
    },
    {
      "cell_type": "markdown",
      "metadata": {
        "id": "uOXzDyFq9iqu"
      },
      "source": [
        "## Calcular una estimación de éxito promedio específica de un país\n",
        "\n",
        "Continuando con nuestro análisis sobre Jamaica, la lista contiene tres números, [0,61, 0,65, 0,71]. Recuerde que estos números son del tipo ```float``` en Python, que almacena valores decimales numéricos. Una forma lógica de resumir estas estimaciones para poder compararlas entre países es utilizar el promedio aritmético. Usemos operadores artiméticos básicos para calcular la estimación de éxito promedio para Jamaica, almacenando el resultado en una nueva variable ```avg_jamaica```:"
      ]
    },
    {
      "cell_type": "code",
      "metadata": {
        "colab": {
          "base_uri": "https://localhost:8080/"
        },
        "id": "lvtC901V9r4j",
        "outputId": "89074dc8-e2b8-458a-d3af-7c79447bebff"
      },
      "source": [
        "avg_jamaica = (0.61 + 0.65 + 0.71) / 3\n",
        "print(avg_jamaica)"
      ],
      "execution_count": null,
      "outputs": [
        {
          "output_type": "stream",
          "text": [
            "0.6566666666666666\n"
          ],
          "name": "stdout"
        }
      ]
    },
    {
      "cell_type": "markdown",
      "metadata": {
        "id": "vbEso-Zg9yEl"
      },
      "source": [
        "Vemos que la probabilidad promedio de éxito estimada para Jamaica es de aproximadamente 0.657. Sin embargo, producimos esta estimación codificando manualmente los valores. Si hiciéramos esto para todos los países, llevaría bastante tiempo. Por eso, nos gustaría utilizar una forma más automatizada de producir el promedio.\n",
        "\n",
        "Para producir un promedio, podemos utilizar una <b>función</b>. Las funciones operan sobre datos y variables en Python para realizar una acción deseada. Las funciones pueden tener tanto <b> entradas </b> como <b> salidas </b>, al igual que los operadores matemáticos familiares como suma, resta, multiplicación y división (que tienen dos entradas y una salida). Si bien las funciones en Python aún pueden tener un propósito matemático, como elevar al cuadrado un número entero, Python permite un comportamiento de función más abstracto, como imprimir en la pantalla. En este caso, la función ```print()``` imprimirá su entrada en la pantalla."
      ]
    },
    {
      "cell_type": "code",
      "metadata": {
        "colab": {
          "base_uri": "https://localhost:8080/"
        },
        "id": "NKADD__Q-CBw",
        "outputId": "d5fd017c-2d9c-4b86-b644-fcb6ecabfe4d"
      },
      "source": [
        "country_name = 'Jamaica'\n",
        "jamaica_list = success_estimates[country_name] # lista de estimacione spara jamaica\n",
        "print(jamaica_list)"
      ],
      "execution_count": null,
      "outputs": [
        {
          "output_type": "stream",
          "text": [
            "[0.61, 0.65, 0.71]\n"
          ],
          "name": "stdout"
        }
      ]
    },
    {
      "cell_type": "code",
      "metadata": {
        "colab": {
          "base_uri": "https://localhost:8080/"
        },
        "id": "NEnDr1a_-HrH",
        "outputId": "46fdf575-0caf-4c39-b97d-ab7438ee6460"
      },
      "source": [
        "avg_jamaica = sum(jamaica_list) / len(jamaica_list)\n",
        "min_jamaica = min(jamaica_list)\n",
        "max_jamaica = max(jamaica_list)\n",
        "print(\"Pais:\",country_name,\", Average:\",avg_jamaica)\n",
        "print(\"Pais:\",country_name,\", Min:\",min_jamaica)\n",
        "print(\"Pais:\",country_name,\", Max:\",max_jamaica)"
      ],
      "execution_count": null,
      "outputs": [
        {
          "output_type": "stream",
          "text": [
            "Pais: Jamaica , Average: 0.6566666666666666\n",
            "Pais: Jamaica , Min: 0.61\n",
            "Pais: Jamaica , Max: 0.71\n"
          ],
          "name": "stdout"
        }
      ]
    },
    {
      "cell_type": "code",
      "metadata": {
        "colab": {
          "base_uri": "https://localhost:8080/"
        },
        "id": "Y0FSNwxC-L_W",
        "outputId": "6382f752-fcc8-4ce1-a1b7-d8319ff34fd7"
      },
      "source": [
        "# Ahora redondeando\n",
        "avg_jamaica = round(sum(jamaica_list) / len(jamaica_list),2)\n",
        "min_jamaica = round(min(jamaica_list),2)\n",
        "max_jamaica = round(max(jamaica_list),2)\n",
        "print(\"Pais:\",country_name,\", Average:\",avg_jamaica)\n",
        "print(\"Pais:\",country_name,\", Min:\",min_jamaica)\n",
        "print(\"Pais:\",country_name,\", Max:\",max_jamaica)"
      ],
      "execution_count": null,
      "outputs": [
        {
          "output_type": "stream",
          "text": [
            "Pais: Jamaica , Average: 0.66\n",
            "Pais: Jamaica , Min: 0.61\n",
            "Pais: Jamaica , Max: 0.71\n"
          ],
          "name": "stdout"
        }
      ]
    },
    {
      "cell_type": "markdown",
      "metadata": {
        "id": "OtV5GvUE_GpL"
      },
      "source": [
        "Escribamos un código para calcular el éxito promedio de cada país. Muestra (usando print ()) la estimación de éxito promedio de cada país en la pantalla. Las declaraciones impresas deben mostrar cada país en una nueva línea, por ejemplo:"
      ]
    },
    {
      "cell_type": "code",
      "metadata": {
        "colab": {
          "base_uri": "https://localhost:8080/"
        },
        "id": "7jDs7ZZP_JSC",
        "outputId": "7d65032e-ee45-479d-f020-d2b3bfe78d89"
      },
      "source": [
        "print(\"Pais:\",'France',\", Average:\",sum(success_estimates['France']) / len(success_estimates['France']))\n",
        "print(\"Pais:\",'Brazil',\", Average:\",sum(success_estimates['Brazil']) / len(success_estimates['Brazil']))\n",
        "print(\"Pais:\",'Argentina',\", Average:\",sum(success_estimates['Argentina']) / len(success_estimates['Argentina']))\n",
        "print(\"Pais:\",'Germany',\", Average:\",sum(success_estimates['Germany']) / len(success_estimates['Germany']))\n",
        "print(\"Pais:\",'Australia',\", Average:\",sum(success_estimates['Australia']) / len(success_estimates['Australia']))\n",
        "print(\"Pais:\",'Canada',\", Average:\",sum(success_estimates['Canada']) / len(success_estimates['Canada']))\n",
        "print(\"Pais:\",'Greece',\", Average:\",sum(success_estimates['Greece']) / len(success_estimates['Greece']))\n",
        "print(\"Pais:\",'USA',\", Average:\",sum(success_estimates['USA']) / len(success_estimates['USA']))\n",
        "print(\"Pais:\",'Switzerland',\", Average:\",sum(success_estimates['Switzerland']) / len(success_estimates['Switzerland']))\n",
        "print(\"Pais:\",'Tunisia',\", Average:\",sum(success_estimates['Tunisia']) /len(success_estimates['Tunisia']))\n",
        "print(\"Pais:\",'Italy',\", Average:\",sum(success_estimates['Italy']) / len(success_estimates['Italy']))\n",
        "print(\"Pais:\",'Egypt',\", Average:\",sum(success_estimates['Egypt']) / len(success_estimates['Egypt']))\n",
        "print(\"Pais:\",'Jamaica',\", Average:\",sum(success_estimates['Jamaica']) / len(success_estimates['Jamaica']))\n",
        "print(\"Pais:\",'Morocco',\", Average:\",sum(success_estimates['Morocco']) / len(success_estimates['Morocco']))\n",
        "print(\"Pais:\",'England',\", Average:\",sum(success_estimates['England']) / len(success_estimates['England']))"
      ],
      "execution_count": null,
      "outputs": [
        {
          "output_type": "stream",
          "text": [
            "Pais: France , Average: 0.655\n",
            "Pais: Brazil , Average: 0.29\n",
            "Pais: Argentina , Average: 0.22\n",
            "Pais: Germany , Average: 0.4333333333333333\n",
            "Pais: Australia , Average: 0.29500000000000004\n",
            "Pais: Canada , Average: 0.275\n",
            "Pais: Greece , Average: 0.61\n",
            "Pais: USA , Average: 0.3333333333333333\n",
            "Pais: Switzerland , Average: 0.7859999999999999\n",
            "Pais: Tunisia , Average: 0.6200000000000001\n",
            "Pais: Italy , Average: 0.6\n",
            "Pais: Egypt , Average: 0.99\n",
            "Pais: Jamaica , Average: 0.6566666666666666\n",
            "Pais: Morocco , Average: 0.29\n",
            "Pais: England , Average: 0.45\n"
          ],
          "name": "stdout"
        }
      ]
    },
    {
      "cell_type": "markdown",
      "metadata": {
        "id": "DAbF8enH_Sc_"
      },
      "source": [
        "## Determinar sistemáticamente la estimación de éxito promedio para todos los países\n",
        "\n",
        "El objetivo final de este análisis es una recomendación sobre dónde se deben considerar las oportunidades de expansión global. Para llegar a una conclusión, sería ideal tener la probabilidad de éxito promedio para cada país.\n",
        "\n",
        "Para lograr esto, usaremos un elemento de flujo de control en Python: el <b> bucle for </b>. El bucle ```for``` permite ejecutar las mismas declaraciones una y otra vez (es decir, en bucle). Esto ahorra una cantidad significativa de tiempo codificando tareas repetitivas y ayuda en la legibilidad del código. La estructura general de un bucle for es:\n",
        "\n",
        "```python\n",
        "for iterator_variable in some_sequence:\n",
        "    statements(s)\n",
        "```\n",
        "\n",
        "The for loop iterates over ```some_sequence``` and performs ```statements(s)``` at each iteration. That is, at each iteration the ```iterator_variable```  is updated to the next value in ```some_sequence```. As a concrete example, consider the loop:\n",
        "\n",
        "```python\n",
        "for i in [1,2,3,4]:\n",
        "    print(i*i)\n",
        "```\n",
        "\n",
        "Aquí, el bucle for se imprimirá en la pantalla cuatro veces; es decir, imprimirá ```1``` en la primera iteración del ciclo,```4``` en la segunda iteración,```9``` en la tercera y ```16``` en el cuarto. Por lo tanto, la instrucción de bucle for iterará sobre todos los elementos de la lista ```[1,2,3,4]```, y en cada iteración actualiza la variable iteradora ```i``` a la siguiente valor en la lista ```[1,2,3,4]```.\n",
        "\n",
        "Usemos un ciclo for en los datos de nuestro país obteniendo una lista de todas las claves en ```success_estimates```:\n"
      ]
    },
    {
      "cell_type": "code",
      "metadata": {
        "colab": {
          "base_uri": "https://localhost:8080/"
        },
        "id": "eb41lA4Q_tHQ",
        "outputId": "44966460-edd2-41da-dacb-64290d2ccb2e"
      },
      "source": [
        "country_name_list = list(success_estimates.keys())\n",
        "print(country_name_list)"
      ],
      "execution_count": null,
      "outputs": [
        {
          "output_type": "stream",
          "text": [
            "['Australia', 'France', 'Italy', 'Brazil', 'USA', 'England', 'Canada', 'Argentina', 'Greece', 'Morocco', 'Tunisia', 'Egypt', 'Jamaica', 'Switzerland', 'Germany']\n"
          ],
          "name": "stdout"
        }
      ]
    },
    {
      "cell_type": "markdown",
      "metadata": {
        "id": "dxedpUgy_wf2"
      },
      "source": [
        "Aquí podemos recorrer todos los elementos en ```country_name_list```, extraemos el valor correspondiente de ```success_estimates``` (que será del tipo list), y posteriormente tomamos la media de la lista. La impresión detallada lo guiará a través de la ejecución del bucle for."
      ]
    },
    {
      "cell_type": "markdown",
      "metadata": {
        "id": "nBuMLNPwMm5q"
      },
      "source": [
        "# Ejercicio 4\n",
        "\n",
        "Crear un loop que obtenga e imprima el promedio de la tasa de exito de cada pais"
      ]
    },
    {
      "cell_type": "code",
      "metadata": {
        "id": "FM4hM6wA_z7m",
        "colab": {
          "base_uri": "https://localhost:8080/"
        },
        "outputId": "7a0ec154-d488-4f4a-8312-bd586bf4cba3"
      },
      "source": [
        "for pais in success_estimates:\n",
        "  promedio = round(sum(success_estimates[pais]) / len(success_estimates[pais]),2)\n",
        "  print(pais[:3],\"Prom=\", promedio)             \n",
        " "
      ],
      "execution_count": 112,
      "outputs": [
        {
          "output_type": "stream",
          "text": [
            "Aus Prom= 0.3\n",
            "Fra Prom= 0.66\n",
            "Ita Prom= 0.6\n",
            "Bra Prom= 0.29\n",
            "USA Prom= 0.33\n",
            "Eng Prom= 0.45\n",
            "Can Prom= 0.28\n",
            "Arg Prom= 0.22\n",
            "Gre Prom= 0.61\n",
            "Mor Prom= 0.29\n",
            "Tun Prom= 0.62\n",
            "Egy Prom= 0.99\n",
            "Jam Prom= 0.66\n",
            "Swi Prom= 0.79\n",
            "Ger Prom= 0.43\n"
          ],
          "name": "stdout"
        }
      ]
    },
    {
      "cell_type": "markdown",
      "metadata": {
        "id": "rB01Uuq0AiJi"
      },
      "source": [
        "# Ejercicio 5\n",
        "Escribir un bucle for para calcular el mínimo y el máximo de la lista de estimaciones de éxito de cada país, imprimiendo cada uno de forma consecutiva como en el ejemplo de bucle for anterior."
      ]
    },
    {
      "cell_type": "code",
      "metadata": {
        "id": "4xXepow6AhmD",
        "colab": {
          "base_uri": "https://localhost:8080/"
        },
        "outputId": "31fb000a-1ba9-4e16-c434-3745ffd7c0c5"
      },
      "source": [
        "def minimo(lista):\n",
        "  return min(lista)\n",
        "def maximo(lista):\n",
        "  return max(lista)\n",
        "for pais in success_estimates:\n",
        "  min_pais = minimo(success_estimates[pais])\n",
        "  max_pais = maximo(success_estimates[pais])\n",
        "  print( pais )\n",
        "  print( \"Min:\",min_pais)\n",
        "  print(\"Max:\",max_pais)\n",
        "  \n"
      ],
      "execution_count": 28,
      "outputs": [
        {
          "output_type": "stream",
          "text": [
            "Australia\n",
            "Min: 0.11\n",
            "Max: 0.6\n",
            "France\n",
            "Min: 0.2\n",
            "Max: 0.98\n",
            "Italy\n",
            "Min: 0.6\n",
            "Max: 0.6\n",
            "Brazil\n",
            "Min: 0.22\n",
            "Max: 0.43\n",
            "USA\n",
            "Min: 0.2\n",
            "Max: 0.5\n",
            "England\n",
            "Min: 0.45\n",
            "Max: 0.45\n",
            "Canada\n",
            "Min: 0.25\n",
            "Max: 0.3\n",
            "Argentina\n",
            "Min: 0.22\n",
            "Max: 0.22\n",
            "Greece\n",
            "Min: 0.15\n",
            "Max: 0.99\n",
            "Morocco\n",
            "Min: 0.29\n",
            "Max: 0.29\n",
            "Tunisia\n",
            "Min: 0.56\n",
            "Max: 0.68\n",
            "Egypt\n",
            "Min: 0.99\n",
            "Max: 0.99\n",
            "Jamaica\n",
            "Min: 0.61\n",
            "Max: 0.71\n",
            "Switzerland\n",
            "Min: 0.51\n",
            "Max: 0.99\n",
            "Germany\n",
            "Min: 0.36\n",
            "Max: 0.49\n"
          ],
          "name": "stdout"
        }
      ]
    },
    {
      "cell_type": "markdown",
      "metadata": {
        "id": "aIV5RdQrAr1M"
      },
      "source": [
        "# Ejercicio 6\n",
        "Escriba el código para determinar el país con el mayor rango de estimaciones de éxito (es decir, la mayor diferencia entre la estimación más pequeña y la más grande para un país)."
      ]
    },
    {
      "cell_type": "code",
      "metadata": {
        "id": "1se-mViJAuPG",
        "colab": {
          "base_uri": "https://localhost:8080/"
        },
        "outputId": "42994240-da14-49a9-8eff-a1f08ceb286d"
      },
      "source": [
        "rango ={}\n",
        "mayor_rango=0\n",
        "r_pais=''\n",
        "\n",
        "for pais in success_estimates:\n",
        "  rango[pais]= round(max(success_estimates[pais]) - min(success_estimates[pais]),2)\n",
        "\n",
        "for pais in rango:\n",
        "  if rango[pais]>mayor_rango:\n",
        "    mayor_rango = rango[pais]\n",
        "    r_pais=pais\n",
        "\n",
        "print(\"Mayor Rango:\",r_pais, mayor_rango)  \n"
      ],
      "execution_count": null,
      "outputs": [
        {
          "output_type": "stream",
          "text": [
            "Mayor Rango: Greece 0.84\n"
          ],
          "name": "stdout"
        }
      ]
    },
    {
      "cell_type": "markdown",
      "metadata": {
        "id": "9S5rDBSEAz4-"
      },
      "source": [
        "## Uso de listas por comprensión para determinar la cantidad de estimaciones para cada país\n",
        "\n",
        "En el futuro, estamos interesados en conocer la cantidad de estimaciones de éxito disponibles para cada país. Python ofrece una forma concisa de lograr este objetivo mediante el uso de <b> listas por comprensión </b>.\n",
        "\n",
        "Las listas por comprensión le permiten a uno construir una lista de manera concisa. Echemos un vistazo a cómo funciona esto."
      ]
    },
    {
      "cell_type": "code",
      "metadata": {
        "colab": {
          "base_uri": "https://localhost:8080/"
        },
        "id": "P0r1U_MKA5d3",
        "outputId": "fbc50def-fc20-496c-f362-cfe2c3d0caa7"
      },
      "source": [
        "key_name_list = [i for i in success_estimates] # loop sobre cada item  i en success_estimates y ponerlo en una lista\n",
        "key_name_list"
      ],
      "execution_count": null,
      "outputs": [
        {
          "output_type": "execute_result",
          "data": {
            "text/plain": [
              "['Australia',\n",
              " 'France',\n",
              " 'Italy',\n",
              " 'Brazil',\n",
              " 'USA',\n",
              " 'England',\n",
              " 'Canada',\n",
              " 'Argentina',\n",
              " 'Greece',\n",
              " 'Morocco',\n",
              " 'Tunisia',\n",
              " 'Egypt',\n",
              " 'Jamaica',\n",
              " 'Switzerland',\n",
              " 'Germany']"
            ]
          },
          "metadata": {},
          "execution_count": 198
        }
      ]
    },
    {
      "cell_type": "markdown",
      "metadata": {
        "id": "-loNMJI8BBK1"
      },
      "source": [
        "Aquí vemos que hemos hecho un bucle sobre cada clave del diccionario success_estimates (por lo tanto, cada país) y extraído el nombre del país, todo en una línea de código. También podemos acceder a los valores de cada clave en success_estimates."
      ]
    },
    {
      "cell_type": "code",
      "metadata": {
        "colab": {
          "base_uri": "https://localhost:8080/"
        },
        "id": "Hd9aHxC3BDKc",
        "outputId": "7d9379be-e41f-4ade-d133-398d6c6f7bef"
      },
      "source": [
        "value_name_list = [success_estimates[i] for i in success_estimates] # loop sobre cada item i ensuccess_estimates y poner success_estimates[i] en la lista\n",
        "value_name_list"
      ],
      "execution_count": null,
      "outputs": [
        {
          "output_type": "execute_result",
          "data": {
            "text/plain": [
              "[[0.6, 0.33, 0.11, 0.14],\n",
              " [0.66, 0.78, 0.98, 0.2],\n",
              " [0.6],\n",
              " [0.22, 0.22, 0.43],\n",
              " [0.2, 0.5, 0.3],\n",
              " [0.45],\n",
              " [0.25, 0.3],\n",
              " [0.22],\n",
              " [0.45, 0.66, 0.75, 0.99, 0.15, 0.66],\n",
              " [0.29],\n",
              " [0.68, 0.56],\n",
              " [0.99],\n",
              " [0.61, 0.65, 0.71],\n",
              " [0.73, 0.86, 0.84, 0.51, 0.99],\n",
              " [0.45, 0.49, 0.36]]"
            ]
          },
          "metadata": {},
          "execution_count": 62
        }
      ]
    },
    {
      "cell_type": "markdown",
      "metadata": {
        "id": "4dpc0wd7BNIh"
      },
      "source": [
        "En la lista por comprensión anterior, cada valor de ```i``` es un nombre de país y el valor se devuelve cuando se llama a ```success_estimates [i]```. Vemos que esto es una forma efectiva y concisa de escribir un bucle for que crea una lista.\n",
        "\n",
        "Podemos usar esto para determinar rápidamente cuántas estimaciones de éxito están disponibles para cada país."
      ]
    },
    {
      "cell_type": "code",
      "metadata": {
        "colab": {
          "base_uri": "https://localhost:8080/"
        },
        "id": "PHJPFWi-BVXH",
        "outputId": "71072763-1dc4-4933-c85d-6a0234230e37"
      },
      "source": [
        "[[i,len(success_estimates[i])] for i in success_estimates]"
      ],
      "execution_count": 29,
      "outputs": [
        {
          "output_type": "execute_result",
          "data": {
            "text/plain": [
              "[['Australia', 4],\n",
              " ['France', 4],\n",
              " ['Italy', 1],\n",
              " ['Brazil', 3],\n",
              " ['USA', 3],\n",
              " ['England', 1],\n",
              " ['Canada', 2],\n",
              " ['Argentina', 1],\n",
              " ['Greece', 6],\n",
              " ['Morocco', 1],\n",
              " ['Tunisia', 2],\n",
              " ['Egypt', 1],\n",
              " ['Jamaica', 3],\n",
              " ['Switzerland', 5],\n",
              " ['Germany', 3]]"
            ]
          },
          "metadata": {},
          "execution_count": 29
        }
      ]
    },
    {
      "cell_type": "markdown",
      "metadata": {
        "id": "oaM-qYFjBbl2"
      },
      "source": [
        "# Ejercicio 7\n",
        "Utilizando listas por comprensión, escriba un script para crear una <b> lista de listas </b> llamada ```sum_squares_list```, donde cada elemento de la lista es una lista de dos elementos [nombre del país, valor]. El elemento de valor en la lista debe ser la suma de cuadrados de las estimaciones de éxito de ese país. Por ejemplo, un elemento de ```sum_squares_list``` debe ser para Jamaica, donde la lista de dos elementos es [Jamaica, 1.2987] (desde 1.2987 = 0.61^ 2 + 0.65^ 2 + 0.71^ 2)."
      ]
    },
    {
      "cell_type": "code",
      "metadata": {
        "colab": {
          "base_uri": "https://localhost:8080/"
        },
        "id": "vOwYzgfE8fV6",
        "outputId": "2e7b66b8-77d8-4b41-a378-bda55bf3e053"
      },
      "source": [
        "sum_squares_list= [[pais,round((sum(success_estimates[pais]))**2,4)] for pais in success_estimates]\n",
        "\n",
        "list(sum_squares_list)"
      ],
      "execution_count": 69,
      "outputs": [
        {
          "output_type": "execute_result",
          "data": {
            "text/plain": [
              "[['Australia', 1.3924],\n",
              " ['France', 6.8644],\n",
              " ['Italy', 0.36],\n",
              " ['Brazil', 0.7569],\n",
              " ['USA', 1.0],\n",
              " ['England', 0.2025],\n",
              " ['Canada', 0.3025],\n",
              " ['Argentina', 0.0484],\n",
              " ['Greece', 13.3956],\n",
              " ['Morocco', 0.0841],\n",
              " ['Tunisia', 1.5376],\n",
              " ['Egypt', 0.9801],\n",
              " ['Jamaica', 3.8809],\n",
              " ['Switzerland', 15.4449],\n",
              " ['Germany', 1.69]]"
            ]
          },
          "metadata": {},
          "execution_count": 69
        }
      ]
    },
    {
      "cell_type": "markdown",
      "metadata": {
        "id": "ZCVB0UiJBom6"
      },
      "source": [
        "# Ejercicio 8\n",
        "Nos gustaría determinar la distribución alrededor de la estimación de éxito promedio para cada país. Utilizando listas por comprensión, escriba un codigo que reste la estimación de éxito promedio para un país determinado de cada estimación de éxito para ese país. Almacene los resultados en una lista llamada ```remove_mean_list```. Redondea los valores a dos decimales. Su salida debe producir la siguiente lista de listas:\n",
        "\n",
        "\n",
        "```\n",
        "[['Australia', [0.3, 0.03, -0.19, -0.16]],\n",
        " ['France', [0.01, 0.12, 0.32, -0.46]],\n",
        " ['Italy', [0.0]],\n",
        " ['Brazil', [-0.07, -0.07, 0.14]],\n",
        " ['USA', [-0.13, 0.17, -0.03]],\n",
        " ['England', [0.0]],\n",
        " ['Canada', [-0.03, 0.02]],\n",
        " ['Argentina', [0.0]],\n",
        " ['Greece', [-0.16, 0.05, 0.14, 0.38, -0.46, 0.05]],\n",
        " ['Morocco', [0.0]],\n",
        " ['Tunisia', [0.06, -0.06]],\n",
        " ['Egypt', [0.0]],\n",
        " ['Jamaica', [-0.05, -0.01, 0.05]],\n",
        " ['Switzerland', [-0.06, 0.07, 0.05, -0.28, 0.2]],\n",
        " ['Germany', [0.02, 0.06, -0.07]]]\n",
        "```"
      ]
    },
    {
      "cell_type": "code",
      "metadata": {
        "id": "zmL9I-N1Bn8J",
        "colab": {
          "base_uri": "https://localhost:8080/"
        },
        "outputId": "a4a9ca4c-6ef0-46cc-aa06-3a35fde7ae28"
      },
      "source": [
        "def prom(lista):\n",
        "  promedio = sum(lista) / len(lista) \n",
        "  remove_mean_list = []\n",
        "\n",
        "  for i in lista:\n",
        "    remove_mean_list.append(round((i-promedio),2))\n",
        "\n",
        "  return remove_mean_list\n",
        "\n",
        "\n",
        "[[pais,prom(success_estimates[pais])] for pais in success_estimates]\n",
        "\n"
      ],
      "execution_count": 113,
      "outputs": [
        {
          "output_type": "execute_result",
          "data": {
            "text/plain": [
              "[['Australia', [0.3, 0.03, -0.19, -0.16]],\n",
              " ['France', [0.01, 0.12, 0.32, -0.46]],\n",
              " ['Italy', [0.0]],\n",
              " ['Brazil', [-0.07, -0.07, 0.14]],\n",
              " ['USA', [-0.13, 0.17, -0.03]],\n",
              " ['England', [0.0]],\n",
              " ['Canada', [-0.03, 0.02]],\n",
              " ['Argentina', [0.0]],\n",
              " ['Greece', [-0.16, 0.05, 0.14, 0.38, -0.46, 0.05]],\n",
              " ['Morocco', [0.0]],\n",
              " ['Tunisia', [0.06, -0.06]],\n",
              " ['Egypt', [0.0]],\n",
              " ['Jamaica', [-0.05, -0.01, 0.05]],\n",
              " ['Switzerland', [-0.06, 0.07, 0.05, -0.28, 0.2]],\n",
              " ['Germany', [0.02, 0.06, -0.07]]]"
            ]
          },
          "metadata": {},
          "execution_count": 113
        }
      ]
    },
    {
      "cell_type": "markdown",
      "metadata": {
        "id": "9j2l45uCCEvE"
      },
      "source": [
        "Según el análisis anterior, vemos que las estimaciones de éxito medio de los países varían ampliamente, desde el más bajo, Canadá = 0,275, hasta el más alto, Egipto = 0,99. Sin embargo, observe que la media de Egipto se calcula a partir de 1 estimación de éxito. ¿Confiamos en confiar en una única estimación como proxy de la estimación de éxito promedio?\n",
        "\n",
        "Dado que el proyecto de expansión global utilizará valiosos recursos de la empresa, decidimos que es mejor restringir nuestro análisis a países que tienen dos o más estimaciones de éxito. Para realizar esta tarea, usaremos una estructura de control en Python conocida como la <b> instrucción if ... elif ... else </b>. Sigue la estructura general.\n",
        "\n",
        "\n",
        "```python\n",
        "if test_expression_1:\n",
        "    block1_statement(s)\n",
        "elif test_expression_2:\n",
        "    block2_statement2(s)\n",
        "else:\n",
        "    block3_statement(s)\n",
        "```\n",
        "\n",
        "Aquí, ```test_expression_1``` y ```test_expression_2``` deben evaluarse como ```True``` o ```False```, un tipo <b>booleano</b> de Python. El tipo booleano está asociado con variables que son ```Verdadero``` o ```Falso```.\n",
        "\n",
        "Si ```test_expression_1``` es True, ```block1_statement(s)``` se ejecutará y las otras sentencias de bloque no. Si ```test_expression_1``` es False pero ```test_expression_2``` es True, entonces ```block2_statement2 (s)``` se ejecutará y los demás no. Finalmente, si ```test_expression_1``` y ``` test_expression_2``` son ambos falsos, entonces se ejecutará el ```block3_statement (s)``` de la sección else. Esta estructura condicional de una declaración if permite controlar el flujo del código Python.\n",
        "\n",
        "Usemos esto para filtrar los países que solo tienen una estimación de éxito.\n",
        "\n",
        "# Ejercicio 9\n",
        "Usaremos la declaración if anterior para eliminar los países con menos de una estimación de éxito. Para facilitar la visualización del resultado, almacenaremos las estimaciones medias de cada país en un nuevo diccionario ```country_means```."
      ]
    },
    {
      "cell_type": "code",
      "metadata": {
        "id": "v2xiYtRjCiiL",
        "colab": {
          "base_uri": "https://localhost:8080/"
        },
        "outputId": "c0c2dcf9-3998-4366-ae57-8acf86d96ed3"
      },
      "source": [
        "country_means = {}\n",
        "\n",
        "for i in success_estimates:\n",
        "  if len(success_estimates[i]) > 1:\n",
        "    country_means[i] = round(sum(success_estimates[i]) / len(success_estimates[i]),2)\n",
        "\n",
        "print(country_means)\n"
      ],
      "execution_count": 117,
      "outputs": [
        {
          "output_type": "stream",
          "text": [
            "{'Australia': 0.3, 'France': 0.66, 'Brazil': 0.29, 'USA': 0.33, 'Canada': 0.28, 'Greece': 0.61, 'Tunisia': 0.62, 'Jamaica': 0.66, 'Switzerland': 0.79, 'Germany': 0.43}\n"
          ],
          "name": "stdout"
        }
      ]
    },
    {
      "cell_type": "markdown",
      "metadata": {
        "id": "46RK-_awD2l2"
      },
      "source": [
        "Al observar las medias de países resultantes, notamos que el país con la mayor estimación de éxito medio es Suiza con 0,79, mientras que la estimación de éxito medio más baja es Canadá con 0,28."
      ]
    },
    {
      "cell_type": "markdown",
      "metadata": {
        "id": "12lXfLpvD6gR"
      },
      "source": [
        "# Ejercicio 10\n",
        "Después de revisar la política de la empresa sobre procedimientos estadísticos, observa que la empresa recomienda que todas las estimaciones (promedios, mínimos, máximos) deben tener al menos tres valores que contribuyan a la estadística de resumen. Escriba un ciclo for y use la estructura de la declaración if para seleccionar e imprimir las estimaciones de éxito promedio para los países que cumplen con esta política. Si el país no cumple con la política, escriba el nombre del país y \"*No cumple con la política de la empresa*\". Cada país debería aparecer en una nueva línea."
      ]
    },
    {
      "cell_type": "code",
      "metadata": {
        "id": "tCEHQ1vSD6G1",
        "colab": {
          "base_uri": "https://localhost:8080/"
        },
        "outputId": "5dba20bb-5d4f-40a3-dbef-c56aef169fdf"
      },
      "source": [
        "country_new ={}\n",
        "for i in success_estimates:\n",
        "  if len(success_estimates[i]) == 0:\n",
        "    print(i, \"No cumple con la política de la empresa\")\n",
        "  elif len(success_estimates[i]) <= 2:\n",
        "    print(i, \"No cumple con la política de la empresa\")\n",
        "  elif len(success_estimates[i]) >= 3:\n",
        "     country_new[i] = success_estimates[i]\n",
        "\n",
        "print(country_new)\n"
      ],
      "execution_count": 131,
      "outputs": [
        {
          "output_type": "stream",
          "text": [
            "Italy No cumple con la política de la empresa\n",
            "England No cumple con la política de la empresa\n",
            "Canada No cumple con la política de la empresa\n",
            "Argentina No cumple con la política de la empresa\n",
            "Morocco No cumple con la política de la empresa\n",
            "Tunisia No cumple con la política de la empresa\n",
            "Egypt No cumple con la política de la empresa\n",
            "{'Australia': [0.6, 0.33, 0.11, 0.14], 'France': [0.66, 0.78, 0.98, 0.2], 'Brazil': [0.22, 0.22, 0.43], 'USA': [0.2, 0.5, 0.3], 'Greece': [0.45, 0.66, 0.75, 0.99, 0.15, 0.66], 'Jamaica': [0.61, 0.65, 0.71], 'Switzerland': [0.73, 0.86, 0.84, 0.51, 0.99], 'Germany': [0.45, 0.49, 0.36]}\n"
          ],
          "name": "stdout"
        }
      ]
    },
    {
      "cell_type": "markdown",
      "metadata": {
        "id": "j1Yj6ajOEc27"
      },
      "source": [
        "# Ejercicio 11\n",
        "¿Cuál es otro enfoque para mejorar el problema de una muestra en algunos países? Piense en términos de los factores que impulsan la confianza en las decisiones comerciales basadas en datos.\n",
        "\n",
        "(a) Agrupe los países en regiones más grandes para asegurarse de que cada región tenga al menos una estimación\n",
        "\n",
        "(b) Solo elimine un país si sus estimaciones son muy grandes o muy pequeñas en comparación con otras estimaciones.\n",
        "\n",
        "(c) Utilice una estadística de resumen diferente para el análisis que no sea el valor promedio.\n",
        "\n",
        "(d) Revise por qué algunos países solo tienen una estimación y vea si se pueden obtener más datos para estos países.\n",
        "\n"
      ]
    },
    {
      "cell_type": "markdown",
      "metadata": {
        "id": "hhQ31uXSfmH9"
      },
      "source": [
        "Respuesta\n",
        "\n",
        "> (b) porque cuando los datos que son muy alejados del resto de datos (aislados) no van a ayudar a dar un resultado real (ej: media o mediana) de los resultados que si son mas cercanos.\n",
        "\n",
        "\n",
        "\n",
        "> (d) se puede revisar porque solo hay una estimación, si no se pueden obtener mas datos significa que no es viable su evaluación y se debe descartar.\n",
        "\n",
        "\n",
        "\n",
        "\n",
        "\n",
        "\n",
        "\n"
      ]
    },
    {
      "cell_type": "markdown",
      "metadata": {
        "id": "uvPF5lnWEuAy"
      },
      "source": [
        "Hemos utilizado bucles y estructuras de control para calcular estadísticas resumidas parciales para cada uno de los países. Pongamos todo junto para obtener una recomendación sobre qué país deberíamos elegir para ampliar los servicios de vuelos de lujo.\n",
        "\n",
        "# Ejercicio 12\n",
        "Escriba el código para imprimir el nombre de cada país y las estadísticas resumidas. Cada línea debe mostrar un país y las estadísticas resumidas correspondientes: Estimación mínima (flotante), Estimación promedio (flotante), Estimación máxima (flotante), Número de estimaciones (int), Cumple con la política de la empresa de al menos 3 estimaciones (bool). Por ejemplo, la línea para Francia aparecería como:\n",
        "\n",
        "```\n",
        "Country: France , Min: 0.2 , Average: 0.655 , Max: 0.98 , NumEst: 4 , MeetsPolicy: True\n",
        "```"
      ]
    },
    {
      "cell_type": "code",
      "metadata": {
        "id": "Fr-gF7MNE1gW",
        "colab": {
          "base_uri": "https://localhost:8080/"
        },
        "outputId": "8762faae-d645-4be1-e51a-76539882bde6"
      },
      "source": [
        "def meetspolicy(lista):\n",
        "  if len(lista) <= 2:\n",
        "    return (False)\n",
        "  elif len(lista) >= 3:\n",
        "    return (True)\n",
        "\n",
        "resultado = {}\n",
        "index = 0\n",
        "for pais in success_estimates:\n",
        "  resultado[index] = {}\n",
        "  resultado[index]['Country'] = pais\n",
        "  resultado[index]['Min'] = min(success_estimates[pais])\n",
        "  resultado[index]['Average'] = round(sum(success_estimates[pais]) / len(success_estimates[pais]),2)\n",
        "  resultado[index]['Max'] = max(success_estimates[pais])\n",
        "  resultado[index]['NumEst'] = len(success_estimates[pais])\n",
        "  resultado[index]['MeetsPolicy'] = meetspolicy(success_estimates[pais])\n",
        "\n",
        "  index+=1\n",
        "#print(resultado)\n",
        "\n",
        "list(resultado.values())  \n",
        " "
      ],
      "execution_count": 114,
      "outputs": [
        {
          "output_type": "execute_result",
          "data": {
            "text/plain": [
              "[{'Average': 0.3,\n",
              "  'Country': 'Australia',\n",
              "  'Max': 0.6,\n",
              "  'MeetsPolicy': True,\n",
              "  'Min': 0.11,\n",
              "  'NumEst': 4},\n",
              " {'Average': 0.66,\n",
              "  'Country': 'France',\n",
              "  'Max': 0.98,\n",
              "  'MeetsPolicy': True,\n",
              "  'Min': 0.2,\n",
              "  'NumEst': 4},\n",
              " {'Average': 0.6,\n",
              "  'Country': 'Italy',\n",
              "  'Max': 0.6,\n",
              "  'MeetsPolicy': False,\n",
              "  'Min': 0.6,\n",
              "  'NumEst': 1},\n",
              " {'Average': 0.29,\n",
              "  'Country': 'Brazil',\n",
              "  'Max': 0.43,\n",
              "  'MeetsPolicy': True,\n",
              "  'Min': 0.22,\n",
              "  'NumEst': 3},\n",
              " {'Average': 0.33,\n",
              "  'Country': 'USA',\n",
              "  'Max': 0.5,\n",
              "  'MeetsPolicy': True,\n",
              "  'Min': 0.2,\n",
              "  'NumEst': 3},\n",
              " {'Average': 0.45,\n",
              "  'Country': 'England',\n",
              "  'Max': 0.45,\n",
              "  'MeetsPolicy': False,\n",
              "  'Min': 0.45,\n",
              "  'NumEst': 1},\n",
              " {'Average': 0.28,\n",
              "  'Country': 'Canada',\n",
              "  'Max': 0.3,\n",
              "  'MeetsPolicy': False,\n",
              "  'Min': 0.25,\n",
              "  'NumEst': 2},\n",
              " {'Average': 0.22,\n",
              "  'Country': 'Argentina',\n",
              "  'Max': 0.22,\n",
              "  'MeetsPolicy': False,\n",
              "  'Min': 0.22,\n",
              "  'NumEst': 1},\n",
              " {'Average': 0.61,\n",
              "  'Country': 'Greece',\n",
              "  'Max': 0.99,\n",
              "  'MeetsPolicy': True,\n",
              "  'Min': 0.15,\n",
              "  'NumEst': 6},\n",
              " {'Average': 0.29,\n",
              "  'Country': 'Morocco',\n",
              "  'Max': 0.29,\n",
              "  'MeetsPolicy': False,\n",
              "  'Min': 0.29,\n",
              "  'NumEst': 1},\n",
              " {'Average': 0.62,\n",
              "  'Country': 'Tunisia',\n",
              "  'Max': 0.68,\n",
              "  'MeetsPolicy': False,\n",
              "  'Min': 0.56,\n",
              "  'NumEst': 2},\n",
              " {'Average': 0.99,\n",
              "  'Country': 'Egypt',\n",
              "  'Max': 0.99,\n",
              "  'MeetsPolicy': False,\n",
              "  'Min': 0.99,\n",
              "  'NumEst': 1},\n",
              " {'Average': 0.66,\n",
              "  'Country': 'Jamaica',\n",
              "  'Max': 0.71,\n",
              "  'MeetsPolicy': True,\n",
              "  'Min': 0.61,\n",
              "  'NumEst': 3},\n",
              " {'Average': 0.79,\n",
              "  'Country': 'Switzerland',\n",
              "  'Max': 0.99,\n",
              "  'MeetsPolicy': True,\n",
              "  'Min': 0.51,\n",
              "  'NumEst': 5},\n",
              " {'Average': 0.43,\n",
              "  'Country': 'Germany',\n",
              "  'Max': 0.49,\n",
              "  'MeetsPolicy': True,\n",
              "  'Min': 0.36,\n",
              "  'NumEst': 3}]"
            ]
          },
          "metadata": {},
          "execution_count": 114
        }
      ]
    },
    {
      "cell_type": "markdown",
      "metadata": {
        "id": "tAiPYFomFDJL"
      },
      "source": [
        "# Conclusiones\n",
        "\n",
        "Para el análisis es mejor realizarlo para los países que tienen 3 o mas estimaciones, asi los resultados seran más comparables entre los países. \n",
        "\n",
        "Segun el promedio Egipto tiene el mejor promedio, pero solo tiene un dato de estimacion. En cambio Suiza tiene el mejor promedio con 5 datos de estimacion, lo que nos da tambien un Min y Max para saber su fluctuación.\n",
        "\n",
        "Grecia tiene el mayor rango por la diferencia entre el minimo y el maximo. Esto quiere decir que es el que ha tenido mayor fluctuación.\n",
        "\n",
        "En cambio Jamaica, la diferencia entre el Min y el Max no es tan grande y tiene un buen promedio lo que significa que se mantiene sin mucha fluctuacion y por eso elegiria a Jamaica para ampliar los servicios de vuelos de lujo."
      ]
    }
  ]
}