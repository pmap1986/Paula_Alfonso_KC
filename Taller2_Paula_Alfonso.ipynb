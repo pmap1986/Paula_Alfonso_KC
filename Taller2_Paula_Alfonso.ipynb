{
  "nbformat": 4,
  "nbformat_minor": 0,
  "metadata": {
    "colab": {
      "name": "Taller2_Paula_Alfonso.ipynb",
      "provenance": [],
      "collapsed_sections": [],
      "authorship_tag": "ABX9TyNXRS7fyfKa6iG1fmIrO/No",
      "include_colab_link": true
    },
    "kernelspec": {
      "name": "python3",
      "display_name": "Python 3"
    },
    "language_info": {
      "name": "python"
    }
  },
  "cells": [
    {
      "cell_type": "markdown",
      "metadata": {
        "id": "view-in-github",
        "colab_type": "text"
      },
      "source": [
        "<a href=\"https://colab.research.google.com/github/pmap1986/Paula_Alfonso_KC/blob/main/Taller2_Paula_Alfonso.ipynb\" target=\"_parent\"><img src=\"https://colab.research.google.com/assets/colab-badge.svg\" alt=\"Open In Colab\"/></a>"
      ]
    },
    {
      "cell_type": "code",
      "metadata": {
        "id": "fCDc6RPxf_Ic"
      },
      "source": [
        "import numpy as np\n",
        "import math\n",
        "\n",
        "\n"
      ],
      "execution_count": null,
      "outputs": []
    },
    {
      "cell_type": "markdown",
      "metadata": {
        "id": "MMAjtPhThj_o"
      },
      "source": [
        "Numeros palíndromos:\n",
        "Escriba una función que reciba un numero entero (positivo) o un String y entregue como respuesta si la entrada es o no un palíndromo.\n"
      ]
    },
    {
      "cell_type": "code",
      "metadata": {
        "colab": {
          "base_uri": "https://localhost:8080/"
        },
        "id": "DswjVk-oknHO",
        "outputId": "8cde9e22-0046-455b-a9c4-997f912449cb"
      },
      "source": [
        "a = str(input(\"Ingresa una palabra:\"))\n",
        "\n",
        "def es_palindromo(a):\n",
        "  a = a.lower()\n",
        "  a = a.replace(' ','')\n",
        "  \n",
        "  if a == a[::-1]:    \n",
        "    return ('es un palíndromo')\n",
        "  else:\n",
        "    return ('no es palíndromo')\n",
        "\n",
        "print(a, es_palindromo(a))\n",
        "\n"
      ],
      "execution_count": null,
      "outputs": [
        {
          "output_type": "stream",
          "text": [
            "Ingresa una palabra:388757883\n",
            "388757883 es un palíndromo\n"
          ],
          "name": "stdout"
        }
      ]
    },
    {
      "cell_type": "markdown",
      "metadata": {
        "id": "7SbXViKIm5yQ"
      },
      "source": [
        "Numeros primos:\n",
        "Escriba una función que reciba como entrada un número y determine si es o no un numero primo.\n"
      ]
    },
    {
      "cell_type": "code",
      "metadata": {
        "colab": {
          "base_uri": "https://localhost:8080/"
        },
        "id": "2WHal1Fam8kJ",
        "outputId": "40b1b707-cca9-4e27-96f1-343e53ad8610"
      },
      "source": [
        "i= int(input('Ingresa un número:'))\n",
        "\n",
        "def es_primo(numero):\n",
        " \n",
        "  if numero == 1:\n",
        "    return ('no es primo') \n",
        "  elif numero == 2:\n",
        "    return ('primo')\n",
        "  else:\n",
        "     for i in range(2, numero):\n",
        "        #print('{} % {}'.format(numero, i))\n",
        "        if numero % i == 0:\n",
        "          return ('no es primo')      \n",
        "  return ('primo')\n",
        "\n",
        "#for i in range(1,30):\n",
        "print(i, es_primo(i))\n",
        "  "
      ],
      "execution_count": 4,
      "outputs": [
        {
          "output_type": "stream",
          "text": [
            "Ingresa un número:15\n",
            "15 no es primo\n"
          ],
          "name": "stdout"
        }
      ]
    },
    {
      "cell_type": "markdown",
      "metadata": {
        "id": "nDGXwm6ch2JQ"
      },
      "source": [
        "Numeros primos 2:\n",
        "\n",
        "\n",
        "> Escriba una función que devuelva una lista de numeros primos con base a la cantidad que el usuario le solicite, Ejemplo si el usuario ingresa 3 debe retornar los 3 primeros numeros primos.\n",
        "\n",
        "\n"
      ]
    },
    {
      "cell_type": "code",
      "metadata": {
        "colab": {
          "base_uri": "https://localhost:8080/"
        },
        "id": "9Zkw43uAh7ZW",
        "outputId": "15462a23-6624-498b-ee63-13f3a56ec640"
      },
      "source": [
        "cant =int(input('cantidad'))\n",
        "\n",
        "cont=1\n",
        "numero=2\n",
        "  \n",
        "print(cont,numero)\n",
        "cont+=1\n",
        "numero+=1\n",
        "\n",
        "while cont <= cant:  \n",
        "\n",
        "  for i in range(2,numero):\n",
        "    #print('{} % {}'.format(numero, i))\n",
        "    if numero % i == 0:\n",
        "      es_primo = False\n",
        "      numero+=1\n",
        "      break\n",
        "    else:        \n",
        "      es_primo =True\n",
        "\n",
        "  if es_primo == True:    \n",
        "    print(cont,numero)\n",
        "    numero+=1\n",
        "    cont+=1\n",
        "    \n",
        " "
      ],
      "execution_count": 5,
      "outputs": [
        {
          "output_type": "stream",
          "text": [
            "cantidad10\n",
            "1 2\n",
            "2 3\n",
            "3 5\n",
            "4 7\n",
            "5 11\n",
            "6 13\n",
            "7 17\n",
            "8 19\n",
            "9 23\n",
            "10 29\n"
          ],
          "name": "stdout"
        }
      ]
    },
    {
      "cell_type": "markdown",
      "metadata": {
        "id": "XaLx2bS3jDxp"
      },
      "source": [
        "Numeros primos 3:\n",
        "\n",
        "> El primo de Mersenne es un numero primo de la forma 2𝑝−1, una de las propiedades de los primos de Mersenne es que p debe ser también un número primo, escriba una función que imprima la cantidad de numeros que el usuario solicite, Ejemplo: si el usuario ingreso 3 los primeros primos de Mersenne deberían ser 3, 7 y 31.\n",
        "\n"
      ]
    },
    {
      "cell_type": "code",
      "metadata": {
        "colab": {
          "base_uri": "https://localhost:8080/"
        },
        "id": "Pnskrc1pXAJv",
        "outputId": "1b48cb33-f9d5-495a-ccf8-27ab43a2c8a4"
      },
      "source": [
        "'''\n",
        "1. Tomar X numeros ingresados en cantidad.\n",
        "'''\n",
        "cant =int(input('cantidad'))\n",
        "'''\n",
        "p= array de numeros primos\n",
        "'''\n",
        "p= []\n",
        "cont=1\n",
        "numero=2\n",
        "'''\n",
        "imprimir el primero primo porque el cont:1=primo:2\n",
        "'''  \n",
        "#print(cont,numero)\n",
        "'''\n",
        "el append agrega el numero al final del array.\n",
        "'''\n",
        "p.append(numero)\n",
        "cont+=1\n",
        "numero+=1\n",
        "\n",
        "'''\n",
        "el While genera un ciclo hasta que el contador sea igual a la cantidad ingresada\n",
        "'''\n",
        "while cont <= cant:  \n",
        "  \n",
        "  '''funcion para sacar el numero primo, el rango es desde 2 y numero es el consecutivo empezando desde 3'''\n",
        "\n",
        "  for i in range(2,numero):\n",
        "    #print('{} % {}'.format(i,numero))\n",
        "    if numero % i == 0:\n",
        "      es_primo = False\n",
        "      numero+=1\n",
        "      break\n",
        "    else:        \n",
        "      es_primo =True\n",
        "  '''\n",
        "  Verifica qe es primo para agregarlo al contador y al array, continua el ciclo sumando 1\n",
        "  '''\n",
        "  if es_primo == True:    \n",
        "    #print(cont,numero)\n",
        "    p.append(numero)\n",
        "    numero+=1\n",
        "    cont+=1\n",
        "'''\n",
        "Con la lista de los primos puedo crear la lista de mers\n",
        "'''\n",
        "mers=[]\n",
        "\n",
        "for i in p:\n",
        "  #print(i)\n",
        "  '''\n",
        "  El primo Mersenne es igual a 2 elevado al numero primo menos 1\n",
        "  '''  \n",
        "  m= (2**i)-1\n",
        "  mers.append(m)\n",
        "#print(mers)\n",
        "'''\n",
        "para indexar los resultados le sumo 1 para que inicie desde 1 y no desde cero\n",
        "'''   \n",
        "for idx, m in enumerate(mers):\n",
        "    idx+=1\n",
        "    print(idx, m) \n"
      ],
      "execution_count": null,
      "outputs": [
        {
          "output_type": "stream",
          "text": [
            "cantidad4\n",
            "1 3\n",
            "2 7\n",
            "3 31\n",
            "4 127\n"
          ],
          "name": "stdout"
        }
      ]
    },
    {
      "cell_type": "markdown",
      "metadata": {
        "id": "T9-hOnDseJLq"
      },
      "source": [
        "\n",
        "\n",
        "Máximo común divisor:\n",
        "\n",
        "\n",
        "> Escriba una función que reciba dos numeros y retorne el cálculo de su máximo común divisor.\n",
        "\n"
      ]
    },
    {
      "cell_type": "code",
      "metadata": {
        "colab": {
          "base_uri": "https://localhost:8080/"
        },
        "id": "Wq9xUpnmq0PS",
        "outputId": "873c7df3-1e9e-4b30-d668-26f9dd82792e"
      },
      "source": [
        "numero1 = int(input(\"Número 1: \"))\n",
        "numero2 = int(input(\"Número 2: \"))\n",
        "\n",
        "mcd=1\n",
        "a=[]\n",
        "b=[]\n",
        "c=[]\n",
        "\n",
        "for i in range(2,numero1+1):\n",
        "  if numero1 % i == 0:\n",
        "    #print('{} % {}'.format(numero1,i))\n",
        "    a.append(i)\n",
        "#print(a)\n",
        "\n",
        "for x in range(2,numero2+1):\n",
        "  if numero2 % x == 0:\n",
        "    b.append(x)\n",
        "#print(b)\n",
        "\n",
        "c= np.intersect1d(a,b)\n",
        "#print(c)\n",
        "\n",
        "if len(c) == 0:\n",
        "  print(\"mcd es=1, es decir que {0} y {1} son primos entre sí.\".format(numero1,numero2))\n",
        "else: \n",
        "  max_value = max(c)\n",
        "  print('mcd es:',max_value)\n",
        "\n"
      ],
      "execution_count": null,
      "outputs": [
        {
          "output_type": "stream",
          "text": [
            "Número 1: 8\n",
            "Número 2: 18\n",
            "mcd es: 2\n"
          ],
          "name": "stdout"
        }
      ]
    },
    {
      "cell_type": "markdown",
      "metadata": {
        "id": "Tu0nKI3Q-onR"
      },
      "source": [
        "Numeros romanos:\n",
        "\n",
        "> Escriba una función que reciba un numero y retorne como resultado el numero romano de dicho número.\n",
        "\n"
      ]
    },
    {
      "cell_type": "code",
      "metadata": {
        "colab": {
          "base_uri": "https://localhost:8080/"
        },
        "id": "8EjrkO6P-zIB",
        "outputId": "16fe95f2-dd68-4a15-d084-1b76b90a6e03"
      },
      "source": [
        "print('Convertir a número romano')\n",
        "numero = int(input(\"Ingrese un número: \"))\n",
        "\n",
        "def num_romano(n):\n",
        "  numero = int(n)\n",
        "  num=int(n)\n",
        "  entero=[1000,900,500,400,100,90,50,40,10,9,5,4,1]\n",
        "  romano=['M','CM','D','CD','C','XC','L','XL','X','IX','V','IV','I']\n",
        "  \n",
        "  res = ''\n",
        "\n",
        "  i= 0\n",
        "\n",
        "  while numero > 0:\n",
        "    #print('{}'.format(i))\n",
        "    for n in range(numero//entero[i]):\n",
        "      #print('{} // {}'.format(numero,entero[i]))\n",
        "      res = res + romano[i]\n",
        "      numero = numero - entero[i]\n",
        "    i+=1\n",
        "  return (\"{} en romano es \".format(num) + res)\n",
        "\n",
        "print(num_romano(numero))\n",
        "\n",
        "\n",
        "    "
      ],
      "execution_count": 52,
      "outputs": [
        {
          "output_type": "stream",
          "text": [
            "Convertir a número romano\n",
            "Ingrese un número: 152\n",
            "152 en romano es CLII\n"
          ],
          "name": "stdout"
        }
      ]
    }
  ]
}