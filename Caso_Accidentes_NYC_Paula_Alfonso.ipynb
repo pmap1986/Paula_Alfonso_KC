{
  "nbformat": 4,
  "nbformat_minor": 0,
  "metadata": {
    "celltoolbar": "Raw Cell Format",
    "kernelspec": {
      "display_name": "Python 3",
      "language": "python",
      "name": "python3"
    },
    "language_info": {
      "codemirror_mode": {
        "name": "ipython",
        "version": 3
      },
      "file_extension": ".py",
      "mimetype": "text/x-python",
      "name": "python",
      "nbconvert_exporter": "python",
      "pygments_lexer": "ipython3",
      "version": "3.7.10"
    },
    "colab": {
      "name": " Caso_Accidentes_NYC_Paula_Alfonso.ipynb",
      "provenance": [],
      "collapsed_sections": [
        "NY1MN0CzC16T",
        "BLgUl-0VC16Y",
        "jxyGX1hIC16Z"
      ],
      "include_colab_link": true
    }
  },
  "cells": [
    {
      "cell_type": "markdown",
      "metadata": {
        "id": "view-in-github",
        "colab_type": "text"
      },
      "source": [
        "<a href=\"https://colab.research.google.com/github/pmap1986/Paula_Alfonso_KC/blob/main/Caso_Accidentes_NYC_Paula_Alfonso.ipynb\" target=\"_parent\"><img src=\"https://colab.research.google.com/assets/colab-badge.svg\" alt=\"Open In Colab\"/></a>"
      ]
    },
    {
      "cell_type": "markdown",
      "metadata": {
        "id": "d1l2zjQkC16J"
      },
      "source": [
        "# ¿Cómo podemos controlar el creciente número de accidentes en Nueva York?"
      ]
    },
    {
      "cell_type": "code",
      "metadata": {
        "id": "-DQm6YC_C16L"
      },
      "source": [
        "import json\n",
        "import requests\n",
        "from bs4 import BeautifulSoup\n",
        "import pandas as pd\n",
        "import matplotlib.pyplot as plt\n",
        "import seaborn as sns\n",
        "import numpy as np"
      ],
      "execution_count": 2,
      "outputs": []
    },
    {
      "cell_type": "markdown",
      "metadata": {
        "id": "BxfgoRrlC16M"
      },
      "source": [
        "## Introduccion"
      ]
    },
    {
      "cell_type": "markdown",
      "metadata": {
        "id": "yUmDZaOjC16M"
      },
      "source": [
        "**Contexto empresarial.** La ciudad de Nueva York ha experimentado un aumento en el número de accidentes en las carreteras de la ciudad. Quieren saber si el número de accidentes ha aumentado en las últimas semanas. Para todos los accidentes reportados, han recopilado detalles para cada accidente y han estado manteniendo registros durante el último año y medio (desde enero de 2018 hasta agosto de 2019).\n",
        "\n",
        "La ciudad te ha contratado para que construyas visualizaciones que les ayuden a identificar patrones en accidentes, lo que les ayudaría a tomar acciones preventivas para reducir la cantidad de accidentes en el futuro. Tienen ciertos parámetros como municipio, hora del día, motivo del accidente, etc. De los que se preocupan y de los que les gustaría obtener información específica."
      ]
    },
    {
      "cell_type": "markdown",
      "metadata": {
        "id": "cMhzMyDdC16N"
      },
      "source": [
        "**Problema comercial.** Su tarea es formatear los datos proporcionados y proporcionar visualizaciones que respondan las preguntas específicas que tiene el cliente, que se mencionan a continuación."
      ]
    },
    {
      "cell_type": "markdown",
      "metadata": {
        "id": "UXnnm71MC16N"
      },
      "source": [
        "**Contexto analítico.** Se le proporciona un archivo CSV (almacenado en la carpeta ```datos``` ya creada) que contiene detalles sobre cada accidente, como fecha, hora, ubicación del accidente, motivo del accidente, tipos de vehículos involucrados, recuento de lesiones y muertes, etc. El delimitador en el archivo CSV dado es `;` en lugar del predeterminado `,`. Realizará las siguientes tareas con los datos:\n",
        "\n",
        "1. Extraiga datos adicionales del municipio almacenados en un archivo JSON\n",
        "2. Leer, transformar y preparar datos para su visualización\n",
        "3. Realizar análisis y construir visualizaciones de los datos para identificar patrones en el conjunto de datos.\n",
        "        \n",
        "El cliente tiene un conjunto específico de preguntas a las que le gustaría obtener respuestas. Deberá proporcionar visualizaciones para acompañar estos:\n",
        "\n",
        "1. ¿Cómo ha fluctuado el número de accidentes durante el último año y medio? ¿Han aumentado con el tiempo?\n",
        "2. Para un día en particular, ¿durante qué horas es más probable que ocurran accidentes?\n",
        "3. ¿Hay más accidentes entre semana que durante los fines de semana?\n",
        "4. ¿Cuál es la proporción de recuento de accidentes por área por municipio? ¿Qué distritos tienen un número desproporcionadamente grande de accidentes para su tamaño?\n",
        "5. Para cada municipio, ¿durante qué horas es más probable que ocurran accidentes?\n",
        "6. ¿Cuáles son las 5 principales causas de accidentes en la ciudad?\n",
        "7. ¿Qué tipos de vehículos están más involucrados en accidentes por municipio?\n",
        "8. ¿Qué tipos de vehículos están más involucrados en las muertes?"
      ]
    },
    {
      "cell_type": "markdown",
      "metadata": {
        "id": "fYHVrsGBC16O"
      },
      "source": [
        "## Obteniendo los datos relevantes"
      ]
    },
    {
      "cell_type": "markdown",
      "metadata": {
        "id": "hdgKMYgrC16P"
      },
      "source": [
        "El cliente ha solicitado un análisis de la relación accidentes-área de los distritos. Los datos del municipio se almacenan en un archivo JSON en la carpeta ```datos```."
      ]
    },
    {
      "cell_type": "markdown",
      "metadata": {
        "id": "Q6aYi7oVC16P"
      },
      "source": [
        "### Pregunta \n",
        "\n",
        "Utilice la función ```json.load()``` para cargar el archivo ```borough_data.json``` como diccionario."
      ]
    },
    {
      "cell_type": "markdown",
      "metadata": {
        "id": "YPyi0QmIC16Q"
      },
      "source": [
        "**Respuesta.** "
      ]
    },
    {
      "cell_type": "code",
      "metadata": {
        "colab": {
          "base_uri": "https://localhost:8080/"
        },
        "id": "-2QQoArLC16R",
        "outputId": "89923fc2-aa3a-42fb-860f-593f233d0f3b"
      },
      "source": [
        "with open('/content/drive/MyDrive/Mujeres digitales sena/Taller4_Caso_real_NYC/Caso NYC/data/borough_data.json') as f:\n",
        "    borough_data=json.load(f)\n",
        "    \n",
        "borough_data"
      ],
      "execution_count": 6,
      "outputs": [
        {
          "output_type": "execute_result",
          "data": {
            "text/plain": [
              "{'brooklyn': {'area': 70.82, 'name': 'brooklyn', 'population': 2648771.0},\n",
              " 'manhattan': {'area': 22.83, 'name': 'manhattan', 'population': 1664727.0},\n",
              " 'queens': {'area': 108.53, 'name': 'queens', 'population': 2358582.0},\n",
              " 'staten island': {'area': 58.37,\n",
              "  'name': 'staten island',\n",
              "  'population': 479458.0},\n",
              " 'the bronx': {'area': 42.1, 'name': 'the bronx', 'population': 1471160.0}}"
            ]
          },
          "metadata": {},
          "execution_count": 6
        }
      ]
    },
    {
      "cell_type": "code",
      "metadata": {
        "colab": {
          "base_uri": "https://localhost:8080/"
        },
        "id": "R9cWfuaBK7pb",
        "outputId": "5323f15c-dacc-4cfe-a9fd-791efa91fe50"
      },
      "source": [
        "from google.colab import drive\n",
        "drive.mount('/content/drive')"
      ],
      "execution_count": 5,
      "outputs": [
        {
          "output_type": "stream",
          "name": "stdout",
          "text": [
            "Mounted at /content/drive\n"
          ]
        }
      ]
    },
    {
      "cell_type": "markdown",
      "metadata": {
        "id": "stTb_bI5C16S"
      },
      "source": [
        "### Pregunta \n",
        "De manera similar, use la función pandas ```read_csv()``` para cargar el archivo ```accidentes.csv``` como un DataFrame. Nombra este DataFrame ```df```.\n"
      ]
    },
    {
      "cell_type": "markdown",
      "metadata": {
        "id": "mlcWJ0tBC16S"
      },
      "source": [
        "**Respuesta.** "
      ]
    },
    {
      "cell_type": "code",
      "metadata": {
        "colab": {
          "base_uri": "https://localhost:8080/"
        },
        "id": "jwl2H0nTF5NW",
        "outputId": "358af958-a47e-4d63-b076-ec6fa3e710bb"
      },
      "source": [
        "%cd '/content/drive/MyDrive/Mujeres digitales sena/Taller4_Caso_real_NYC/Caso NYC/data'"
      ],
      "execution_count": 7,
      "outputs": [
        {
          "output_type": "stream",
          "name": "stdout",
          "text": [
            "/content/drive/MyDrive/Mujeres digitales sena/Taller4_Caso_real_NYC/Caso NYC/data\n"
          ]
        }
      ]
    },
    {
      "cell_type": "code",
      "metadata": {
        "colab": {
          "base_uri": "https://localhost:8080/"
        },
        "id": "erGCo3kcDUyx",
        "outputId": "842519e8-9815-4544-c2c4-31f72523cea0"
      },
      "source": [
        "from google.colab import drive\n",
        "drive.mount('/content/drive')\n",
        "\n"
      ],
      "execution_count": 8,
      "outputs": [
        {
          "output_type": "stream",
          "name": "stdout",
          "text": [
            "Drive already mounted at /content/drive; to attempt to forcibly remount, call drive.mount(\"/content/drive\", force_remount=True).\n"
          ]
        }
      ]
    },
    {
      "cell_type": "code",
      "metadata": {
        "id": "jVsLSykGC16S"
      },
      "source": [
        "with open('/content/drive/MyDrive/Mujeres digitales sena/Taller4_Caso_real_NYC/Caso NYC/data/accidents.csv') as f:\n",
        "    df=pd.read_csv(f, delimiter=';')"
      ],
      "execution_count": 9,
      "outputs": []
    },
    {
      "cell_type": "code",
      "metadata": {
        "colab": {
          "base_uri": "https://localhost:8080/",
          "height": 161
        },
        "id": "cRR927idM61w",
        "outputId": "7ac9ebb4-cd58-4a1a-bf2e-96afe080cee3"
      },
      "source": [
        "df.head()"
      ],
      "execution_count": 4,
      "outputs": [
        {
          "output_type": "error",
          "ename": "NameError",
          "evalue": "ignored",
          "traceback": [
            "\u001b[0;31m---------------------------------------------------------------------------\u001b[0m",
            "\u001b[0;31mNameError\u001b[0m                                 Traceback (most recent call last)",
            "\u001b[0;32m<ipython-input-4-c42a15b2c7cf>\u001b[0m in \u001b[0;36m<module>\u001b[0;34m()\u001b[0m\n\u001b[0;32m----> 1\u001b[0;31m \u001b[0mdf\u001b[0m\u001b[0;34m.\u001b[0m\u001b[0mhead\u001b[0m\u001b[0;34m(\u001b[0m\u001b[0;34m)\u001b[0m\u001b[0;34m\u001b[0m\u001b[0;34m\u001b[0m\u001b[0m\n\u001b[0m",
            "\u001b[0;31mNameError\u001b[0m: name 'df' is not defined"
          ]
        }
      ]
    },
    {
      "cell_type": "markdown",
      "metadata": {
        "id": "NY1MN0CzC16T"
      },
      "source": [
        "## Overview de la data"
      ]
    },
    {
      "cell_type": "markdown",
      "metadata": {
        "id": "d_GGMd7YC16T"
      },
      "source": [
        "Analizemos las columnas presentes en el data frame"
      ]
    },
    {
      "cell_type": "code",
      "metadata": {
        "scrolled": true,
        "colab": {
          "base_uri": "https://localhost:8080/"
        },
        "id": "tFSAvWs3C16T",
        "outputId": "2a44ca24-4884-492b-bcb3-6167c2591965"
      },
      "source": [
        "df.columns"
      ],
      "execution_count": null,
      "outputs": [
        {
          "output_type": "execute_result",
          "data": {
            "text/plain": [
              "Index(['DATE', 'TIME', 'BOROUGH', 'ZIP CODE', 'LATITUDE', 'LONGITUDE',\n",
              "       'ON STREET NAME', 'NUMBER OF PEDESTRIANS INJURED',\n",
              "       'NUMBER OF PEDESTRIANS KILLED', 'NUMBER OF CYCLIST INJURED',\n",
              "       'NUMBER OF CYCLIST KILLED', 'NUMBER OF MOTORIST INJURED',\n",
              "       'NUMBER OF MOTORIST KILLED', 'CONTRIBUTING FACTOR VEHICLE 1',\n",
              "       'CONTRIBUTING FACTOR VEHICLE 2', 'CONTRIBUTING FACTOR VEHICLE 3',\n",
              "       'CONTRIBUTING FACTOR VEHICLE 4', 'CONTRIBUTING FACTOR VEHICLE 5',\n",
              "       'COLLISION_ID', 'VEHICLE TYPE CODE 1', 'VEHICLE TYPE CODE 2',\n",
              "       'VEHICLE TYPE CODE 3', 'VEHICLE TYPE CODE 4', 'VEHICLE TYPE CODE 5',\n",
              "       'Month', 'hour'],\n",
              "      dtype='object')"
            ]
          },
          "metadata": {},
          "execution_count": 73
        }
      ]
    },
    {
      "cell_type": "markdown",
      "metadata": {
        "id": "zZIbdR9_C16T"
      },
      "source": [
        "Tenemos las siguientes columnas\n",
        "\n",
        "1. **BOROUGH**: el municipio en el que ocurrió el accidente\n",
        "2. **COLLISION_ID**: un identificador único para esta colisión\n",
        "3. **CONTRIBUTING FACTOR VEHICLE (1, 2, 3, 4, 5)**: Motivos del accidente\n",
        "4. **CROSS STREET NAME**: Calle transversal más cercana al lugar del accidente\n",
        "5. **DATE**: Fecha del accidente\n",
        "6. **TIME**: Hora del accidente\n",
        "7. **LATITUDE**: Latitud del accidente\n",
        "8. **LONGITUDE**: Longitud del accidente\n",
        "9. **NUMBER OF (CYCLISTS, MOTORISTS, PEDESTRIANS) INJURED**: Lesión por categoría\n",
        "10. **NUMBER OF (CYCLISTS, MOTORISTS, PEDESTRIANS) DEATHS**: Categoría muerte sabia\n",
        "11. **ON STREET NAME**: Calle donde ocurrió el accidente\n",
        "13. **VEHICLE TYPE CODE(1, 2, 3, 4, 5)**: Tipos de vehículos involucrados en el accidente\n",
        "14. **ZIP CODE**: código postal del lugar del accidente"
      ]
    },
    {
      "cell_type": "markdown",
      "metadata": {
        "id": "FgHPX5ieC16T"
      },
      "source": [
        "### Ejercicio 1\n",
        "\n",
        "Desde 2014, la ciudad de Nueva York ha estado implementando un plan de seguridad vial llamado [Vision Zero](https://www1.nyc.gov/content/visionzero/pages/). Su objetivo es reducir el número de muertes por accidentes de tránsito a *cero* para fines de 2024. El plan está creando nuevas y mejorando las medidas de seguridad actuales, algunas de ellas incluyen:\n",
        "\n",
        "- [ ] Detección de peatones automatizada\n",
        "- [ ] Auditorías de seguridad vial en lugares de alto riesgo\n",
        "- [ ] Ampliación de la red de carriles bici\n",
        "- [ ] Iniciativas específicas de educación y sensibilización\n",
        "- [ ] Creación de islas de refugio peatonal\n",
        "- [ ] Lanzamiento del programa integrado de reductor de velocidad basado en datos (topes y amortiguadores de velocidad)\n",
        "\n",
        "¿Cuáles de estas iniciativas podrían beneficiarse directamente de un análisis de los datos proporcionados? Marque todo lo que corresponda.\n",
        "\n",
        "**Nota:** Puede crear marcas de verificación haciendo doble clic en esta celda y agregando una ```[x]``` en las líneas correspondientes."
      ]
    },
    {
      "cell_type": "markdown",
      "metadata": {
        "id": "yCu7AUyQC16U"
      },
      "source": [
        "**Respuesta.**\n",
        "\n",
        "- [ ] Detecciòn de peatones automatizada\n",
        "\n",
        "\n",
        "- [X ] Auditorías de seguridadvial en lugares de alto riesgo\n",
        "\n",
        "- [X ] Ampliación de la red de carriles bici\n",
        "\n",
        "- [X ] Iniciativas especificas de educación y sensibilización\n",
        "\n",
        "- [X ] Creación de islas de refugio peatonal\n",
        "\n",
        "- [ ] Lanzamiento del programa integrado de reductor de velocidad en datos (topes y amortiguadores de velocidad)\n"
      ]
    },
    {
      "cell_type": "markdown",
      "metadata": {
        "id": "CaO_9yHMC16U"
      },
      "source": [
        "Sigamos adelante y respondamos a cada una de las preguntas del cliente."
      ]
    },
    {
      "cell_type": "markdown",
      "metadata": {
        "id": "Hw6wxlprC16U"
      },
      "source": [
        "## Respondiendo las preguntas del cliente "
      ]
    },
    {
      "cell_type": "markdown",
      "metadata": {
        "id": "1kGdQ98XC16U"
      },
      "source": [
        "### Ejercicio 2 \n",
        "\n",
        "Agrupe los datos disponibles mensualmente y genere un line plot de accidentes a lo largo del tiempo. ¿Ha aumentado el número de accidentes durante el último año y medio?\n",
        "\n",
        "**Sugerencia**: Puede encontrar útiles las funciones de pandas ```to_datetime ()``` y ```dt.to_period ()```."
      ]
    },
    {
      "cell_type": "markdown",
      "metadata": {
        "id": "11wgGdL4C16U"
      },
      "source": [
        "**Respuesta.** "
      ]
    },
    {
      "cell_type": "code",
      "metadata": {
        "id": "PWFYDhMg-u0O"
      },
      "source": [
        "df['DATE'] = pd.to_datetime(df['DATE'], errors='coerce')"
      ],
      "execution_count": 12,
      "outputs": []
    },
    {
      "cell_type": "code",
      "metadata": {
        "id": "dqv-EtCsqR_E"
      },
      "source": [
        "df['Month'] = df['DATE'].dt.to_period('M')"
      ],
      "execution_count": 13,
      "outputs": []
    },
    {
      "cell_type": "code",
      "metadata": {
        "colab": {
          "base_uri": "https://localhost:8080/"
        },
        "id": "T9JNNmB_GB7y",
        "outputId": "5034512d-362d-4c94-d6a8-17414546411f"
      },
      "source": [
        "ACC_MES = df.groupby(df['DATE'].dt.to_period('M')).size()\n",
        "ACC_MES"
      ],
      "execution_count": 14,
      "outputs": [
        {
          "output_type": "execute_result",
          "data": {
            "text/plain": [
              "DATE\n",
              "2018-01    11735\n",
              "2018-02    10395\n",
              "2018-03    12519\n",
              "2018-04    11679\n",
              "2018-05    13438\n",
              "2018-06    13314\n",
              "2018-07    12787\n",
              "2018-08    12644\n",
              "2018-09    12425\n",
              "2018-10    13336\n",
              "2018-11    12447\n",
              "2018-12    12479\n",
              "2019-01    11000\n",
              "2019-02    10310\n",
              "2019-03    11482\n",
              "2019-04    10833\n",
              "2019-05    12642\n",
              "2019-06    12577\n",
              "2019-07    12014\n",
              "2019-08     8466\n",
              "Freq: M, dtype: int64"
            ]
          },
          "metadata": {},
          "execution_count": 14
        }
      ]
    },
    {
      "cell_type": "code",
      "metadata": {
        "id": "CZwUX87oLVrd",
        "colab": {
          "base_uri": "https://localhost:8080/",
          "height": 308
        },
        "outputId": "36979c76-556d-4c4f-ca65-46a438514bea"
      },
      "source": [
        "ACC_MES.plot.line()"
      ],
      "execution_count": 15,
      "outputs": [
        {
          "output_type": "execute_result",
          "data": {
            "text/plain": [
              "<matplotlib.axes._subplots.AxesSubplot at 0x7fe8c2377490>"
            ]
          },
          "metadata": {},
          "execution_count": 15
        },
        {
          "output_type": "display_data",
          "data": {
            "image/png": "[encoded data removed]",
            "text/plain": [
              "<Figure size 432x288 with 1 Axes>"
            ]
          },
          "metadata": {
            "needs_background": "light"
          }
        }
      ]
    },
    {
      "cell_type": "markdown",
      "metadata": {
        "id": "NV3uD1gxC16V"
      },
      "source": [
        "\n",
        "> en los meses de diciembre a febrero a disminuido en gran medida, esto es debido, a que corresponde con la epoca de invierno. Por lo anterior, en febrero aumentan el numero de accidentes.\n",
        "\n",
        "Comparando mayo de 2018 con mayo de 2019, en 2018 hubo mayor cantidad de accidentes.\n",
        "\n"
      ]
    },
    {
      "cell_type": "markdown",
      "metadata": {
        "id": "Z5_8e75LC16V"
      },
      "source": [
        "### Ejercicio 3\n",
        "\n",
        "De la gráfica anterior, ¿qué meses parecen tener el menor número de accidentes? ¿Cuáles crees que son las razones detrás de esto?"
      ]
    },
    {
      "cell_type": "markdown",
      "metadata": {
        "id": "VvG6bNBmC16V"
      },
      "source": [
        "**Respuesta.** \n"
      ]
    },
    {
      "cell_type": "markdown",
      "metadata": {
        "id": "_wvr8TwMpc4O"
      },
      "source": [
        "de enero a febrero de 2018 disminuyen los accidentes por la epoca de invierno. Así como de diciembre a febrero en 2019."
      ]
    },
    {
      "cell_type": "code",
      "metadata": {
        "id": "6qW-w5y9C16V"
      },
      "source": [
        "df['hour'] = pd.to_datetime(df['TIME'], errors='coerce')\n",
        "df['hour'] = df['hour'].dt.hour\n"
      ],
      "execution_count": 16,
      "outputs": []
    },
    {
      "cell_type": "markdown",
      "metadata": {
        "id": "C5VkgOeGC16V"
      },
      "source": [
        "### Ejercicio 4 \n",
        "¿Cómo varía el número de accidentes a lo largo de un solo día? Cree una nueva columna `HOUR` basada en los datos de la columna `TIME`, luego trace un gráfico de barras de la distribución por hora a lo largo del día.\n",
        "\n",
        "**Sugerencia:** Puede encontrar útil la función ```dt.hour```."
      ]
    },
    {
      "cell_type": "markdown",
      "metadata": {
        "id": "IkRWNDyxC16V"
      },
      "source": [
        "**Respuesta.**"
      ]
    },
    {
      "cell_type": "code",
      "metadata": {
        "id": "N_tTRsLVC16V"
      },
      "source": [
        "df['DIA'] = df['DATE'].dt.to_period('D')\n",
        "ACC_DIARIO = df.groupby(df['hour']).size()\n",
        "\n"
      ],
      "execution_count": 18,
      "outputs": []
    },
    {
      "cell_type": "code",
      "metadata": {
        "colab": {
          "base_uri": "https://localhost:8080/",
          "height": 299
        },
        "id": "aIHiurjc4ZWX",
        "outputId": "201102a5-e83c-4f8d-b2e7-c6c6f0676e0a"
      },
      "source": [
        "ACC_DIARIO.plot.bar()\n"
      ],
      "execution_count": null,
      "outputs": [
        {
          "output_type": "execute_result",
          "data": {
            "text/plain": [
              "<matplotlib.axes._subplots.AxesSubplot at 0x7fb898e76610>"
            ]
          },
          "metadata": {},
          "execution_count": 133
        },
        {
          "output_type": "display_data",
          "data": {
            "image/png": "[encoded data removed]",
            "text/plain": [
              "<Figure size 432x288 with 1 Axes>"
            ]
          },
          "metadata": {
            "needs_background": "light"
          }
        }
      ]
    },
    {
      "cell_type": "markdown",
      "metadata": {
        "id": "m6q9lR1bC16V"
      },
      "source": [
        "\n",
        "\n",
        "> Se puede observar que a lo largo del dia, desde las 6 am va aumentando el numero de accidentes siendo mayor a las 8 am, pero va aumentando mas desde las 10 am, siendo mayor a las 4pm y va disminuyendo a las 5pm. Esto puede concordar con las horas pico. \n",
        "\n"
      ]
    },
    {
      "cell_type": "markdown",
      "metadata": {
        "id": "EgH3Uc_cC16V"
      },
      "source": [
        "### Ejercicio 5 \n",
        "\n",
        "En la pregunta anterior hemos agregado el número de accidentes por hora sin tener en cuenta la fecha y el lugar en que ocurrieron. ¿Qué crítica le daría a este enfoque?"
      ]
    },
    {
      "cell_type": "markdown",
      "metadata": {
        "id": "PhxmMDSjC16W"
      },
      "source": [
        "**Respuesta.** \n"
      ]
    },
    {
      "cell_type": "markdown",
      "metadata": {
        "id": "kHpEpjllD_GX"
      },
      "source": [
        "> Nos ayuda a determinar en que horas del dia es mas frecuente los accidentes. En este caso, segun la grafica, son mas frecuentes en las horas de la tarde, entre las 2 y 5 pm.\n",
        "\n"
      ]
    },
    {
      "cell_type": "markdown",
      "metadata": {
        "id": "YKNyx-5kC16W"
      },
      "source": [
        "### Ejercicio 6 \n",
        "\n",
        "¿Cómo varía el número de accidentes en una sola semana? Trace un gráfico de barras basado en el recuento de accidentes por día de la semana.\n",
        "\n",
        "**Sugerencia:** Puede encontrar útil la función ```dt.weekday```."
      ]
    },
    {
      "cell_type": "markdown",
      "metadata": {
        "id": "GjnXrWkgC16W"
      },
      "source": [
        "**Respuesta.**"
      ]
    },
    {
      "cell_type": "code",
      "metadata": {
        "id": "6EgkBoYfC16W"
      },
      "source": [
        "dayOfWeek={0:'Lun', 1:'Mar', 2:'Mie', 3:'Jue', 4:'Vie', 5:'Sab', 6:'Dom'}\n",
        "df['SEMANA'] = df['DATE'].dt.weekday\n",
        "df['DIA'] = df['DATE'].dt.weekday.map(dayOfWeek)\n",
        "\n",
        "ACC_SEM = df.groupby([df['DIA'], df['SEMANA']]).size()\n"
      ],
      "execution_count": 24,
      "outputs": []
    },
    {
      "cell_type": "code",
      "metadata": {
        "colab": {
          "base_uri": "https://localhost:8080/",
          "height": 329
        },
        "id": "1wLlOwFNHOHn",
        "outputId": "a67f8d3d-31a6-4490-f56a-1904a4b424f8"
      },
      "source": [
        "ACC_SEM.plot.bar()"
      ],
      "execution_count": null,
      "outputs": [
        {
          "output_type": "execute_result",
          "data": {
            "text/plain": [
              "<matplotlib.axes._subplots.AxesSubplot at 0x7fe42693f8d0>"
            ]
          },
          "metadata": {},
          "execution_count": 118
        },
        {
          "output_type": "display_data",
          "data": {
            "image/png": "[encoded data removed]",
            "text/plain": [
              "<Figure size 432x288 with 1 Axes>"
            ]
          },
          "metadata": {
            "needs_background": "light"
          }
        }
      ]
    },
    {
      "cell_type": "markdown",
      "metadata": {
        "id": "65a3LDbLC16W"
      },
      "source": [
        "La mayor cantidad de accidentes sucede entre semana, siendo en mayor cantidad los viernes(4), disminuye la cantidad de accidentes los fines de semana en mayor medida los domingos (6)."
      ]
    },
    {
      "cell_type": "markdown",
      "metadata": {
        "id": "LxoZYROHC16W"
      },
      "source": [
        "### Ejercicio 7\n",
        "\n",
        "Trace una gráfica de barras del número total de accidentes en cada municipio, así como uno de los accidentes por milla cuadrada por municipio. ¿Qué puedes concluir?\n",
        "\n",
        "**Sugerencia:** Es posible que desee actualizar algunas de las claves en el diccionario del municipio para que coincidan con los nombres en el marco de datos."
      ]
    },
    {
      "cell_type": "markdown",
      "metadata": {
        "id": "kcofvodLC16X"
      },
      "source": [
        "**Respuesta.**"
      ]
    },
    {
      "cell_type": "code",
      "metadata": {
        "id": "7UgR_OwYC16X"
      },
      "source": [
        "ACC_MUNIC = df.groupby(df['BOROUGH']).size()"
      ],
      "execution_count": 25,
      "outputs": []
    },
    {
      "cell_type": "code",
      "metadata": {
        "scrolled": true,
        "id": "vcMFIfZ7C16X"
      },
      "source": [
        "valores = borough_data.values()"
      ],
      "execution_count": 27,
      "outputs": []
    },
    {
      "cell_type": "code",
      "metadata": {
        "colab": {
          "base_uri": "https://localhost:8080/"
        },
        "id": "C4uA9p32UexA",
        "outputId": "2be780d6-3e4d-4b31-877f-53b0ff793016"
      },
      "source": [
        "areas_b={}\n",
        "for i in valores:\n",
        "  areas = i['area'] \n",
        "  names = i['name']\n",
        "  areas_b[names]=areas\n",
        "print(areas_b) "
      ],
      "execution_count": 28,
      "outputs": [
        {
          "output_type": "stream",
          "name": "stdout",
          "text": [
            "{'the bronx': 42.1, 'brooklyn': 70.82, 'manhattan': 22.83, 'queens': 108.53, 'staten island': 58.37}\n"
          ]
        }
      ]
    },
    {
      "cell_type": "code",
      "metadata": {
        "colab": {
          "base_uri": "https://localhost:8080/",
          "height": 380
        },
        "id": "hzfGQsrsxm0a",
        "outputId": "a8de6494-a263-4668-b9b2-23e025b6e68f"
      },
      "source": [
        "import matplotlib.pyplot as plt\n",
        "plt.subplot(121)\n",
        "ACC_MUNIC.plot.bar(color='orange')\n",
        "plt.title('Acc por Municipio')\n",
        "plt.subplot(122)\n",
        "plt.bar(range(len(areas_b)), areas_b.values(), align= 'center')\n",
        "plt.xticks(range(len(areas_b)), list(areas_b.keys()), rotation=90)\n",
        "plt.title('Area por Municipio')"
      ],
      "execution_count": 29,
      "outputs": [
        {
          "output_type": "execute_result",
          "data": {
            "text/plain": [
              "Text(0.5, 1.0, 'Area por Municipio')"
            ]
          },
          "metadata": {},
          "execution_count": 29
        },
        {
          "output_type": "display_data",
          "data": {
            "image/png": "[encoded data removed]",
            "text/plain": [
              "<Figure size 432x288 with 2 Axes>"
            ]
          },
          "metadata": {
            "needs_background": "light"
          }
        }
      ]
    },
    {
      "cell_type": "markdown",
      "metadata": {
        "id": "NTrxCAt3C16X"
      },
      "source": [
        "\n",
        "\n",
        "> BROOKLYN tiene menos area que Queens pero tiene mayor cantidad de accidentes.\n",
        "Así como MANHATTAN tiene la mitad del area de THE BRONX pero lo supera en numero de accidentes.\n",
        "STATEN ISLAND tiene un area promedio y es la que tiene menor cantidad de accidentes.\n",
        "\n"
      ]
    },
    {
      "cell_type": "markdown",
      "metadata": {
        "id": "2aeCfF2NC16X"
      },
      "source": [
        "### Ejercicio 8 \n",
        "\n",
        "¿Qué horas tienen más accidentes en cada municipio? Trace un gráfico de barras para cada municipio que muestre el número de accidentes por cada hora del día.\n",
        "\n",
        "**Sugerencia:** Puede usar ```sns.FacetGrid``` para crear una cuadrícula de parcelas con los datos por hora de cada municipio."
      ]
    },
    {
      "cell_type": "markdown",
      "metadata": {
        "id": "MO1sAT9yC16X"
      },
      "source": [
        "**Respuesta.**"
      ]
    },
    {
      "cell_type": "code",
      "metadata": {
        "id": "GHclkGRLC16X"
      },
      "source": [
        "munic_hor = pd.DataFrame({'accidentes' : df.groupby( [ \"BOROUGH\", \"hour\"] ).size()}).reset_index()"
      ],
      "execution_count": 35,
      "outputs": []
    },
    {
      "cell_type": "code",
      "metadata": {
        "colab": {
          "base_uri": "https://localhost:8080/",
          "height": 241
        },
        "id": "DELO-MLqLNJc",
        "outputId": "645be3b3-1dae-412a-baa5-bae19de5957b"
      },
      "source": [
        "g = sns.FacetGrid(munic_hor, col='BOROUGH')\n",
        "g.map(sns.scatterplot, 'hour', 'accidentes')"
      ],
      "execution_count": 36,
      "outputs": [
        {
          "output_type": "execute_result",
          "data": {
            "text/plain": [
              "<seaborn.axisgrid.FacetGrid at 0x7fe8b4299510>"
            ]
          },
          "metadata": {},
          "execution_count": 36
        },
        {
          "output_type": "display_data",
          "data": {
            "image/png": "[encoded data removed]",
            "text/plain": [
              "<Figure size 1080x216 with 5 Axes>"
            ]
          },
          "metadata": {
            "needs_background": "light"
          }
        }
      ]
    },
    {
      "cell_type": "markdown",
      "metadata": {
        "id": "NdVhn7TKC16Y"
      },
      "source": [
        "**¿Es mayor el número de accidentes en diferentes momentos en diferentes distritos? ¿Deberíamos concentrarnos en diferentes momentos para cada municipio?**"
      ]
    },
    {
      "cell_type": "markdown",
      "metadata": {
        "id": "E9uOm85KC16Y"
      },
      "source": [
        "\n",
        "> En todos los distritos coinciden en que el mayor numero de accidentes pasa alrededor de las 16:00 horas, es decir alrededor de las 4 pm.\n",
        "\n"
      ]
    },
    {
      "cell_type": "markdown",
      "metadata": {
        "id": "jy0YEWD3C16Y"
      },
      "source": [
        "### Ejercicio 9 \n",
        "\n",
        "¿Qué factores provocan la mayoría de los accidentes? Evite contar dos veces los factores que contribuyen a un solo accidente.\n",
        "\n",
        "**Sugerencia:** Una forma de lidiar con las repeticiones es concatenar las columnas correspondientes conservando sus índices, puede hacerlo con las funciones ```pd.concat()``` y ```reset_index()```. Luego, use un ```group_by``` apropiado para contar el número de repeticiones de factores contribuidos por accidente."
      ]
    },
    {
      "cell_type": "markdown",
      "metadata": {
        "id": "0I_OSjFUC16Y"
      },
      "source": [
        "**Respuesta**.\n",
        "\n",
        "\n",
        "> los factores que provocan la mayoria de accidentes son: inespecifico, distraccion del conductor y no ceder el paso.\n",
        "\n",
        "\n"
      ]
    },
    {
      "cell_type": "code",
      "metadata": {
        "id": "ce1nGnZ7C16Y"
      },
      "source": [
        "fact_acc = pd.DataFrame({'factores': pd.concat([df['CONTRIBUTING FACTOR VEHICLE 1'],df['CONTRIBUTING FACTOR VEHICLE 2'],df['CONTRIBUTING FACTOR VEHICLE 3'],df['CONTRIBUTING FACTOR VEHICLE 4'],df['CONTRIBUTING FACTOR VEHICLE 5']], sort = False)}).reset_index()\n",
        "\n",
        "fact_accidentes = fact_acc.groupby(['factores']).size()\n"
      ],
      "execution_count": 160,
      "outputs": []
    },
    {
      "cell_type": "code",
      "metadata": {
        "colab": {
          "base_uri": "https://localhost:8080/",
          "height": 608
        },
        "id": "PgRxZsjOgJP_",
        "outputId": "b51f4798-45b7-4928-e2ff-d9f6d5c54a95"
      },
      "source": [
        "fact_accidentes.plot.bar(figsize=(15,5))\n",
        "#plt.figure(figsize=(100,100))"
      ],
      "execution_count": 159,
      "outputs": [
        {
          "output_type": "execute_result",
          "data": {
            "text/plain": [
              "<matplotlib.axes._subplots.AxesSubplot at 0x7fe8b14fed90>"
            ]
          },
          "metadata": {},
          "execution_count": 159
        },
        {
          "output_type": "display_data",
          "data": {
            "image/png": "[encoded data removed]",
            "text/plain": [
              "<Figure size 1080x360 with 1 Axes>"
            ]
          },
          "metadata": {
            "needs_background": "light"
          }
        }
      ]
    },
    {
      "cell_type": "code",
      "metadata": {
        "id": "KmMIGpZTU6dM"
      },
      "source": [
        "#df.groupby(['CONTRIBUTING FACTOR VEHICLE 1']).size()"
      ],
      "execution_count": 81,
      "outputs": []
    },
    {
      "cell_type": "markdown",
      "metadata": {
        "id": "b0o96MHaC16Y"
      },
      "source": [
        "### Ejercicio 10 \n",
        "\n",
        "¿Qué tipos de vehículos están más involucrados en accidentes por municipio? Evite contar dos veces el tipo de vehículos presentes en un solo accidente.\n",
        "\n",
        "**Sugerencia:** Puede aplicar un enfoque similar al utilizado en la pregunta anterior."
      ]
    },
    {
      "cell_type": "markdown",
      "metadata": {
        "id": "9tmj6h79C16Y"
      },
      "source": [
        "**Respuesta.** "
      ]
    },
    {
      "cell_type": "code",
      "metadata": {
        "id": "7Sscp4y6C16Y",
        "colab": {
          "base_uri": "https://localhost:8080/",
          "height": 212
        },
        "outputId": "85452e09-ad8c-44c8-e260-3997f2e36431"
      },
      "source": [
        "vehic_acc = pd.DataFrame({'Vehiculos' : pd.concat([df['VEHICLE TYPE CODE 1'],df['VEHICLE TYPE CODE 2'],df['VEHICLE TYPE CODE 3'],df['VEHICLE TYPE CODE 4'],df['VEHICLE TYPE CODE 5']],sort= False)}).reset_index()\n",
        "va = vehic_acc.groupby(['Vehiculos']).size()\n",
        "va"
      ],
      "execution_count": 3,
      "outputs": [
        {
          "output_type": "error",
          "ename": "NameError",
          "evalue": "ignored",
          "traceback": [
            "\u001b[0;31m---------------------------------------------------------------------------\u001b[0m",
            "\u001b[0;31mNameError\u001b[0m                                 Traceback (most recent call last)",
            "\u001b[0;32m<ipython-input-3-2b1e5234e6b9>\u001b[0m in \u001b[0;36m<module>\u001b[0;34m()\u001b[0m\n\u001b[0;32m----> 1\u001b[0;31m \u001b[0mvehic_acc\u001b[0m \u001b[0;34m=\u001b[0m \u001b[0mpd\u001b[0m\u001b[0;34m.\u001b[0m\u001b[0mDataFrame\u001b[0m\u001b[0;34m(\u001b[0m\u001b[0;34m{\u001b[0m\u001b[0;34m'Vehiculos'\u001b[0m \u001b[0;34m:\u001b[0m \u001b[0mpd\u001b[0m\u001b[0;34m.\u001b[0m\u001b[0mconcat\u001b[0m\u001b[0;34m(\u001b[0m\u001b[0;34m[\u001b[0m\u001b[0mdf\u001b[0m\u001b[0;34m[\u001b[0m\u001b[0;34m'VEHICLE TYPE CODE 1'\u001b[0m\u001b[0;34m]\u001b[0m\u001b[0;34m,\u001b[0m\u001b[0mdf\u001b[0m\u001b[0;34m[\u001b[0m\u001b[0;34m'VEHICLE TYPE CODE 2'\u001b[0m\u001b[0;34m]\u001b[0m\u001b[0;34m,\u001b[0m\u001b[0mdf\u001b[0m\u001b[0;34m[\u001b[0m\u001b[0;34m'VEHICLE TYPE CODE 3'\u001b[0m\u001b[0;34m]\u001b[0m\u001b[0;34m,\u001b[0m\u001b[0mdf\u001b[0m\u001b[0;34m[\u001b[0m\u001b[0;34m'VEHICLE TYPE CODE 4'\u001b[0m\u001b[0;34m]\u001b[0m\u001b[0;34m,\u001b[0m\u001b[0mdf\u001b[0m\u001b[0;34m[\u001b[0m\u001b[0;34m'VEHICLE TYPE CODE 5'\u001b[0m\u001b[0;34m]\u001b[0m\u001b[0;34m]\u001b[0m\u001b[0;34m,\u001b[0m\u001b[0msort\u001b[0m\u001b[0;34m=\u001b[0m \u001b[0;32mFalse\u001b[0m\u001b[0;34m)\u001b[0m\u001b[0;34m}\u001b[0m\u001b[0;34m)\u001b[0m\u001b[0;34m.\u001b[0m\u001b[0mreset_index\u001b[0m\u001b[0;34m(\u001b[0m\u001b[0;34m)\u001b[0m\u001b[0;34m\u001b[0m\u001b[0;34m\u001b[0m\u001b[0m\n\u001b[0m\u001b[1;32m      2\u001b[0m \u001b[0mva\u001b[0m \u001b[0;34m=\u001b[0m \u001b[0mvehic_acc\u001b[0m\u001b[0;34m.\u001b[0m\u001b[0mgroupby\u001b[0m\u001b[0;34m(\u001b[0m\u001b[0;34m[\u001b[0m\u001b[0;34m'Vehiculos'\u001b[0m\u001b[0;34m]\u001b[0m\u001b[0;34m)\u001b[0m\u001b[0;34m.\u001b[0m\u001b[0msize\u001b[0m\u001b[0;34m(\u001b[0m\u001b[0;34m)\u001b[0m\u001b[0;34m\u001b[0m\u001b[0;34m\u001b[0m\u001b[0m\n\u001b[1;32m      3\u001b[0m \u001b[0mva\u001b[0m\u001b[0;34m\u001b[0m\u001b[0;34m\u001b[0m\u001b[0m\n",
            "\u001b[0;31mNameError\u001b[0m: name 'df' is not defined"
          ]
        }
      ]
    },
    {
      "cell_type": "markdown",
      "metadata": {
        "id": "2Oh313HeC16Y"
      },
      "source": [
        ""
      ]
    },
    {
      "cell_type": "markdown",
      "metadata": {
        "id": "BLgUl-0VC16Y"
      },
      "source": [
        "### Ejercicio 11 \n",
        "\n",
        "En 2018 para una [entrevista](https://www.nytimes.com/2019/01/01/nyregion/traffic-deaths-decrease-nyc.html) con The New York Times, el alcalde de Blasio de Nueva York declaró que *'Vision Zero está funcionando claramente'*. Ese año, el número de muertes en accidentes de tráfico en Nueva York se redujo a un histórico 202. Sin embargo, según lo informado por [am New York Metro](https://www.amny.com/news/vision-zero-de-blasio- 1-30707464 /), el número de víctimas mortales ha aumentado un 30% en el primer trimestre de 2019 en comparación con el año anterior y el número de peatones y ciclistas heridos no ha experimentado ninguna mejora.\n",
        "\n",
        "¿Cómo utilizaría los datos proporcionados para comprender qué salió mal en el primer trimestre de 2019?\n",
        "\n",
        "\n",
        "> - [ ] Considere los accidentes del primer trimestre de 2019. Luego, busque las causas más comunes de accidentes en los que estuvieron involucrados peatones y ciclistas. Dé una recomendación basada únicamente en esta información.\n",
        "\n",
        "> - [ ] Cree un par de mapas de calor de los accidentes que involucraron a peatones y ciclistas lesionados / muertos en el primer trimestre de 2018 y 2019. Compare estos dos para ver si hay algún cambio en la concentración de accidentes. En áreas críticas, estudie el tipo de factores involucrados en los accidentes. Dé una recomendación para visitar estas áreas para estudiar más el problema.   \n",
        "\n",
        "> - [ ] Los datos proporcionados son insuficientes para mejorar nuestra comprensión de la situación.\n",
        "\n",
        "> - [ ] Ninguna de las anteriores. Haría lo siguiente: *aquí tu respuesta recomendada*."
      ]
    },
    {
      "cell_type": "markdown",
      "metadata": {
        "id": "TAYeRRDPC16Y"
      },
      "source": [
        "**Respuesta.**\n"
      ]
    },
    {
      "cell_type": "code",
      "metadata": {
        "id": "DzcsJ_AKC16Z"
      },
      "source": [
        ""
      ],
      "execution_count": null,
      "outputs": []
    },
    {
      "cell_type": "markdown",
      "metadata": {
        "id": "jxyGX1hIC16Z"
      },
      "source": [
        "### Ejercicio 12 \n",
        "\n",
        "Calcula el número de muertes provocadas por cada tipo de vehículo. Trace un gráfico de barras para los 5 vehículos principales. ¿Qué vehículos están involucrados con mayor frecuencia en las muertes y cuánto más que los demás?\n",
        "\n",
        "**Por ejemplo,** si dos personas murieron en un accidente en el que estuvieron involucrados 5 vehículos: 4 son VEHÍCULOS DE PASAJEROS y 1 es un VAGÓN DEPORTIVO / ESTACIÓN. Luego, agregaríamos dos muertes a cada tipo de VEHÍCULO DE PASAJEROS y VAGÓN DE ESTACIÓN / SERVICIO DEPORTIVO.\n",
        "\n",
        "**Sugerencia:** Es posible que desee crear una nueva columna con el número total de muertes en el accidente. Para eso, puede encontrar útil la función ```.to_numpy()```. Luego, proceda como los ejercicios anteriores para evitar contabilizar dos veces el tipo de vehículos."
      ]
    },
    {
      "cell_type": "markdown",
      "metadata": {
        "id": "xZn7v2kdC16Z"
      },
      "source": [
        "**Repsuesta.**"
      ]
    },
    {
      "cell_type": "code",
      "metadata": {
        "id": "9ZpthvkOC16Z"
      },
      "source": [
        ""
      ],
      "execution_count": null,
      "outputs": []
    },
    {
      "cell_type": "markdown",
      "metadata": {
        "id": "G1ND6UCcC16Z"
      },
      "source": [
        ""
      ]
    },
    {
      "cell_type": "code",
      "metadata": {
        "id": "-irNY7tzC16Z"
      },
      "source": [
        ""
      ],
      "execution_count": null,
      "outputs": []
    },
    {
      "cell_type": "markdown",
      "metadata": {
        "id": "3T6rPkP5C16Z"
      },
      "source": [
        ""
      ]
    }
  ]
}