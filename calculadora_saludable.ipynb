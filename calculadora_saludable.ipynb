{
  "nbformat": 4,
  "nbformat_minor": 0,
  "metadata": {
    "colab": {
      "name": "calculadora saludable.ipynb",
      "provenance": [],
      "authorship_tag": "ABX9TyOYsa6qJ02c+NGG1XK5l0Dz",
      "include_colab_link": true
    },
    "kernelspec": {
      "name": "python3",
      "display_name": "Python 3"
    },
    "language_info": {
      "name": "python"
    }
  },
  "cells": [
    {
      "cell_type": "markdown",
      "metadata": {
        "id": "view-in-github",
        "colab_type": "text"
      },
      "source": [
        "<a href=\"https://colab.research.google.com/github/pmap1986/Paula_Alfonso_KC/blob/main/calculadora_saludable.ipynb\" target=\"_parent\"><img src=\"https://colab.research.google.com/assets/colab-badge.svg\" alt=\"Open In Colab\"/></a>"
      ]
    },
    {
      "cell_type": "markdown",
      "source": [
        "**CALCULADORA SALUDABLE**\n"
      ],
      "metadata": {
        "id": "HxK7EWQeNx1u"
      }
    },
    {
      "cell_type": "code",
      "source": [
        "#EL PESO IDEAL\n",
        "#Hombre = 56.2 +1.41*(Altura (cm)/2.54 -60)\n",
        "#Mujer = 53.1 +1.36 *(Altura (cm)/2.54 -60))\n",
        "print(\"Calculadora saludable\")\n",
        "genero= int(input(\"Digite su Opción femenino(1), masculino(2):>>\"))\n",
        "altura=  int(input(\"Digite su altura en cms:>>\"))\n",
        "\n",
        "def peso_ideal(altura, genero):\n",
        "  \n",
        "  if genero == 1:\n",
        "    print(\"Ha elegido femenino\")\n",
        "    peso_i = 53.1 +1.36 *(altura/2.54 -60)\n",
        "    return peso_i\n",
        "  if genero == 2:\n",
        "    print(\"Ha elegido masculino\")\n",
        "    peso_i = 56.2 +1.41*(altura /2.54 -60)\n",
        "    return peso_i\n",
        "\n",
        "print(\"Su peso ideal es:\", round(peso_ideal(altura,genero),2))"
      ],
      "metadata": {
        "colab": {
          "base_uri": "https://localhost:8080/"
        },
        "id": "J_B3pnCvTc7w",
        "outputId": "6fd48adc-c340-4655-bcce-af0a346bc4d0"
      },
      "execution_count": 28,
      "outputs": [
        {
          "output_type": "stream",
          "name": "stdout",
          "text": [
            "Calculadora saludable\n",
            "Digite su Opción femenino(1), masculino(2):>>1\n",
            "Digite su altura en cms:>>162\n",
            "Ha elegido femenino\n",
            "Su peso ideal es: 58.24\n"
          ]
        }
      ]
    },
    {
      "cell_type": "markdown",
      "source": [
        "✈------------------**PORCENTAJE DE GRASA CORPORAL**"
      ],
      "metadata": {
        "id": "bGlAgLK-NZY0"
      }
    },
    {
      "cell_type": "code",
      "execution_count": 24,
      "metadata": {
        "colab": {
          "base_uri": "https://localhost:8080/"
        },
        "id": "WLBw6axBTYqU",
        "outputId": "275cd071-8d39-42b6-ccf7-752db32963b3"
      },
      "outputs": [
        {
          "output_type": "stream",
          "name": "stdout",
          "text": [
            "% DE GRASA CORPORAL adultos\n",
            "Digite su Opción femenino(1), masculino(2):>>1\n",
            "Digite su edad:>>35\n",
            "Digite su peso en Kgs:>>63\n",
            "Digite su altura en cms:>>162\n",
            "Ha elegido Femenino\n",
            "Su % de grasa corporal es:\n",
            " 2.65\n",
            "su IMC es:\n",
            " 0.0\n"
          ]
        }
      ],
      "source": [
        "#CALCULAR EL PORCENTAJE DE GRASA CORPORAL adultos\n",
        "#Hombres adultos = 1.20 * IMC + 0.23 * Edad - 16.2\n",
        "#Mujeres adultas = 1.20 * IMC + 0.23 * Edad - 5.4\n",
        "\n",
        "print(\"% DE GRASA CORPORAL adultos\")\n",
        "\n",
        "genero= int(input(\"Digite su Opción femenino(1), masculino(2):>>\"))\n",
        "edad= int(input(\"Digite su edad:>>\"))\n",
        "peso= int(input(\"Digite su peso en Kgs:>>\"))\n",
        "altura=  int(input(\"Digite su altura en cms:>>\"))\n",
        "\n",
        "\n",
        "def IMC(peso,altura):\n",
        "  imc= peso/altura**2\n",
        "  return imc\n",
        "\n",
        "\n",
        "def GC(genero, peso, altura):\n",
        "\n",
        "  imc_calc=IMC(peso, altura)\n",
        "  \n",
        "  if genero == 1:\n",
        "    print(\"Ha elegido Femenino\")\n",
        "    gc = 1.20 * imc_calc + 0.23 * edad - 5.4\n",
        "    return gc\n",
        "  elif genero == 2:\n",
        "    print(\"Ha elegido Masculino\")\n",
        "  return 1.20 * imc_calc + 0.23 * edad - 5.4\n",
        "    \n",
        "\n",
        "print(\"Su % de grasa corporal es:\\n\", round(GC(genero, peso, altura),2))\n",
        "print(\"su IMC es:\\n\", round(IMC(peso,altura),2))"
      ]
    },
    {
      "cell_type": "markdown",
      "source": [
        "▶**QUEMANDO CALORIAS**\n",
        "Si hay algo que les interesa a los deportistas es saber el número de\n",
        "calorías que se queman durante su actividad, la fórmula para\n",
        "calcularlas es muy simple:\n"
      ],
      "metadata": {
        "id": "IivzqWaSNeID"
      }
    },
    {
      "cell_type": "code",
      "source": [
        "#Calorías quemadas = (Tiempo actividad (min) * MET * Peso(Kg)) /200\n",
        "#Caminar = 2\n",
        "# Tenis = 5\n",
        "# Montar en bicicleta = 14\n",
        "# Correr = 6\n",
        "# Nadar = 9.8\n",
        "\n",
        "tipomet= int(input(\"Tipo de MET: \\n 1- Caminar \\n 2- Tenis \\n 3- Montan bici \\n 4- Correr \\n 5- Nadar \\n 0- Salir \\n\"))\n",
        "time_act= int(input(\"Digite su tiempo en Minutos:>>\\n\"))\n",
        "peso_act= int(input(\"Digite su peso en Kgs:>>\\n\"))\n",
        "\n",
        "\n",
        "def caloriasquemadas(tipomet, time_act,peso_act): \n",
        "   \n",
        "    if tipomet == 1:\n",
        "      print(\"Eligió caminar\")\n",
        "      tipomet = 2\n",
        "    elif tipomet == 2:\n",
        "      print(\"Eligió Tenis\")\n",
        "      tipomet = 5\n",
        "    elif tipomet == 3:\n",
        "      print(\"Eligió Bici\")\n",
        "      tipomet = 14\n",
        "    elif tipomet == 4:\n",
        "      print(\"Eligió Correr\")\n",
        "      tipomet = 6\n",
        "    elif tipomet == 5:\n",
        "      print(\"Eligió Nadar\")\n",
        "      tipomet = 9.8\n",
        "    else:\n",
        "      print(\"Por favor digite una opcion correcta\")\n",
        "   \n",
        "    return (time_act*tipomet*peso_act)/200\n",
        " \n",
        "print(\"Cantidad de calorias quemadas \\n\",caloriasquemadas(tipomet,time_act,peso_act))\n"
      ],
      "metadata": {
        "colab": {
          "base_uri": "https://localhost:8080/"
        },
        "id": "np0Ru9C1_74A",
        "outputId": "3cb50024-6bc6-40df-e81d-1aab278fc6f0"
      },
      "execution_count": 20,
      "outputs": [
        {
          "output_type": "stream",
          "name": "stdout",
          "text": [
            "Tipo de MET: \n",
            " 1- Caminar \n",
            " 2- Tenis \n",
            " 3- Montan bici \n",
            " 4- Correr \n",
            " 5- Nadar \n",
            " 0- Salir \n",
            "1\n",
            "Digite su tiempo en Minutos:>>\n",
            "25\n",
            "Digite su peso en Kgs:>>\n",
            "63\n",
            "Eligió caminar\n",
            "Cantidad de calorias quemadas \n",
            " 15.75\n"
          ]
        }
      ]
    },
    {
      "cell_type": "markdown",
      "source": [
        "▶**INDICE METABOLICO**\n",
        "El índice metabólico basal o la tasa metabólica basal (TMB) indica\n",
        "la cantidad de calorías que necesita el cuerpo para realizar las\n",
        "funciones metabólicas básicas, como mantener los órganos vitales\n",
        "en funcionamiento. Se calcula con las siguientes formulas"
      ],
      "metadata": {
        "id": "kvKsi8kqNigL"
      }
    },
    {
      "cell_type": "code",
      "source": [
        "# INDICE METABOLICO \n",
        "# Hombres = 13.397P + 4.799E - 5.677A + 88.362\n",
        "# Mujeres = 9.247P + 3.098E - 4.330A + 447.593\n",
        "\n",
        "genero= int(input(\"Digite su Opción femenino(1), masculino(2):>>\\n\"))\n",
        "peso= int(input(\"Digite su peso en Kgs:>>\\n\"))\n",
        "edad= int(input(\"Digite su edad:>>\\n\"))\n",
        "altura= int(input(\"Digite su altura en cms:>>\\n\"))\n",
        "\n",
        "def indicemetabolico(genero,peso,edad,altura):\n",
        "  if genero == 1:\n",
        "    print(\"Indice para Mujer\")\n",
        "    return (9.247*peso) + (3.098*edad) - (4.330*altura) + 447.593\n",
        "  if genero ==2:\n",
        "    print(\"Indice para Hombre\")\n",
        "    return (13.397*peso) + (4.79*edad) - (5.677*altura) + 88.362\n",
        "\n",
        "print(\"Indice Metabolico:\", round(indicemetabolico(genero,peso,edad,altura),3))\n",
        "\n"
      ],
      "metadata": {
        "colab": {
          "base_uri": "https://localhost:8080/"
        },
        "id": "NCqD0h9qNkH6",
        "outputId": "8aae8779-139c-4c84-c0fb-3807c9d6f135"
      },
      "execution_count": 30,
      "outputs": [
        {
          "output_type": "stream",
          "name": "stdout",
          "text": [
            "Digite su Opción femenino(1), masculino(2):>>\n",
            "2\n",
            "Digite su peso en Kgs:>>\n",
            "80\n",
            "Digite su edad:>>\n",
            "39\n",
            "Digite su altura en cms:>>\n",
            "180\n",
            "Indice para Hombre\n",
            "Indice Metabolico: 325.072\n"
          ]
        }
      ]
    }
  ]
}